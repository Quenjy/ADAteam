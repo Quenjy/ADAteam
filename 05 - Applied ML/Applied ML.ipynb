{
 "cells": [
  {
   "cell_type": "code",
   "execution_count": 1,
   "metadata": {
    "collapsed": true
   },
   "outputs": [],
   "source": [
    "import pandas as pd                                     \n",
    "import numpy as np                                   \n",
    "import os                                               \n",
    "import matplotlib.pyplot as plt                         \n",
    "import scipy.stats.mstats as ssm                        \n",
    "from scipy.stats import gaussian_kde as kde\n",
    "import random\n",
    "\n",
    "%matplotlib inline"
   ]
  },
  {
   "cell_type": "markdown",
   "metadata": {
    "collapsed": true
   },
   "source": [
    "Our first task is to transform the datasete into something meaningfully that we can use in our calssifyer. To do that we are going to aggreagate the data based on the player and we are going to do that in the following way:\n",
    "    1. Columns: playerShort, club, leagueCountry, birthday, height, weight and, position just get copied\n",
    "    2. We dorop column: player, since the playerShort column is unique\n",
    "    3. Columns: games, victories, ties, defeats, goals, yellowCards, yellowReds and, redCards get summed up\n",
    "    4. We drop the photoID column\n",
    "    5. Then we average the rating of sthe skin colour\n",
    "    6. We than drop columns: refNum, refCountry and, Alpha_3\n",
    "    7. Finaly we agreate the last 6 columns and then average them out \n",
    "\n",
    "\n",
    "\n"
   ]
  }
 ],
 "metadata": {
  "anaconda-cloud": {},
  "kernelspec": {
   "display_name": "Python [Root]",
   "language": "python",
   "name": "Python [Root]"
  },
  "language_info": {
   "codemirror_mode": {
    "name": "ipython",
    "version": 3
   },
   "file_extension": ".py",
   "mimetype": "text/x-python",
   "name": "python",
   "nbconvert_exporter": "python",
   "pygments_lexer": "ipython3",
   "version": "3.5.2"
  }
 },
 "nbformat": 4,
 "nbformat_minor": 0
}

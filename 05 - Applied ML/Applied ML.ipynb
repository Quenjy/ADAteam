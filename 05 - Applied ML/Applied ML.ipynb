{
 "cells": [
  {
   "cell_type": "code",
   "execution_count": 39,
   "metadata": {
    "collapsed": true
   },
   "outputs": [],
   "source": [
    "import pandas as pd                                     \n",
    "import numpy as np                                   \n",
    "import os                                               \n",
    "import matplotlib.pyplot as plt                         \n",
    "import scipy.stats.mstats as ssm                        \n",
    "from scipy.stats import gaussian_kde as kde\n",
    "import random\n",
    "\n",
    "%matplotlib inline"
   ]
  },
  {
   "cell_type": "markdown",
   "metadata": {
    "collapsed": true
   },
   "source": [
    "Our first task is to transform the dataset into something meaningfully that we can use in our classifier. To do that we are going to aggregate the data based on the player and we are going to do that in the following way:\n",
    "    1. Columns: playerShort, club, leagueCountry, birthday, height, weight and, position just get copied\n",
    "    2. We drop column: player since the playerShort column is unique\n",
    "    3. Columns: games, victories, ties, defeats, goals, yellowCards, yellowReds and, redCards get summed up\n",
    "    4. We drop the photoID column\n",
    "    5. Then we average the rating of the skin colour\n",
    "    6. We then drop columns: refNum, refCountry and, Alpha_3\n",
    "    7. We also drop nIAT, nExp, then average meanIAT, meanExp and calculate new seIAT, seExp based on the variance of the values we used in the averaging of meanIAT and meanExp.\n",
    "\n",
    "\n"
   ]
  },
  {
   "cell_type": "code",
   "execution_count": 40,
   "metadata": {
    "collapsed": true
   },
   "outputs": [],
   "source": [
    "df = pd.read_csv('CrowdstormingDataJuly1st.csv')"
   ]
  },
  {
   "cell_type": "markdown",
   "metadata": {},
   "source": [
    "Let's check that the data was loaded "
   ]
  },
  {
   "cell_type": "code",
   "execution_count": 41,
   "metadata": {
    "collapsed": false
   },
   "outputs": [
    {
     "data": {
      "text/html": [
       "<div>\n",
       "<table border=\"1\" class=\"dataframe\">\n",
       "  <thead>\n",
       "    <tr style=\"text-align: right;\">\n",
       "      <th></th>\n",
       "      <th>playerShort</th>\n",
       "      <th>player</th>\n",
       "      <th>club</th>\n",
       "      <th>leagueCountry</th>\n",
       "      <th>birthday</th>\n",
       "      <th>height</th>\n",
       "      <th>weight</th>\n",
       "      <th>position</th>\n",
       "      <th>games</th>\n",
       "      <th>victories</th>\n",
       "      <th>...</th>\n",
       "      <th>rater2</th>\n",
       "      <th>refNum</th>\n",
       "      <th>refCountry</th>\n",
       "      <th>Alpha_3</th>\n",
       "      <th>meanIAT</th>\n",
       "      <th>nIAT</th>\n",
       "      <th>seIAT</th>\n",
       "      <th>meanExp</th>\n",
       "      <th>nExp</th>\n",
       "      <th>seExp</th>\n",
       "    </tr>\n",
       "  </thead>\n",
       "  <tbody>\n",
       "    <tr>\n",
       "      <th>0</th>\n",
       "      <td>lucas-wilchez</td>\n",
       "      <td>Lucas Wilchez</td>\n",
       "      <td>Real Zaragoza</td>\n",
       "      <td>Spain</td>\n",
       "      <td>31.08.1983</td>\n",
       "      <td>177.0</td>\n",
       "      <td>72.0</td>\n",
       "      <td>Attacking Midfielder</td>\n",
       "      <td>1</td>\n",
       "      <td>0</td>\n",
       "      <td>...</td>\n",
       "      <td>0.50</td>\n",
       "      <td>1</td>\n",
       "      <td>1</td>\n",
       "      <td>GRC</td>\n",
       "      <td>0.326391</td>\n",
       "      <td>712.0</td>\n",
       "      <td>0.000564</td>\n",
       "      <td>0.396000</td>\n",
       "      <td>750.0</td>\n",
       "      <td>0.002696</td>\n",
       "    </tr>\n",
       "    <tr>\n",
       "      <th>1</th>\n",
       "      <td>john-utaka</td>\n",
       "      <td>John Utaka</td>\n",
       "      <td>Montpellier HSC</td>\n",
       "      <td>France</td>\n",
       "      <td>08.01.1982</td>\n",
       "      <td>179.0</td>\n",
       "      <td>82.0</td>\n",
       "      <td>Right Winger</td>\n",
       "      <td>1</td>\n",
       "      <td>0</td>\n",
       "      <td>...</td>\n",
       "      <td>0.75</td>\n",
       "      <td>2</td>\n",
       "      <td>2</td>\n",
       "      <td>ZMB</td>\n",
       "      <td>0.203375</td>\n",
       "      <td>40.0</td>\n",
       "      <td>0.010875</td>\n",
       "      <td>-0.204082</td>\n",
       "      <td>49.0</td>\n",
       "      <td>0.061504</td>\n",
       "    </tr>\n",
       "    <tr>\n",
       "      <th>2</th>\n",
       "      <td>abdon-prats</td>\n",
       "      <td>Abdón Prats</td>\n",
       "      <td>RCD Mallorca</td>\n",
       "      <td>Spain</td>\n",
       "      <td>17.12.1992</td>\n",
       "      <td>181.0</td>\n",
       "      <td>79.0</td>\n",
       "      <td>NaN</td>\n",
       "      <td>1</td>\n",
       "      <td>0</td>\n",
       "      <td>...</td>\n",
       "      <td>NaN</td>\n",
       "      <td>3</td>\n",
       "      <td>3</td>\n",
       "      <td>ESP</td>\n",
       "      <td>0.369894</td>\n",
       "      <td>1785.0</td>\n",
       "      <td>0.000229</td>\n",
       "      <td>0.588297</td>\n",
       "      <td>1897.0</td>\n",
       "      <td>0.001002</td>\n",
       "    </tr>\n",
       "    <tr>\n",
       "      <th>3</th>\n",
       "      <td>pablo-mari</td>\n",
       "      <td>Pablo Marí</td>\n",
       "      <td>RCD Mallorca</td>\n",
       "      <td>Spain</td>\n",
       "      <td>31.08.1993</td>\n",
       "      <td>191.0</td>\n",
       "      <td>87.0</td>\n",
       "      <td>Center Back</td>\n",
       "      <td>1</td>\n",
       "      <td>1</td>\n",
       "      <td>...</td>\n",
       "      <td>NaN</td>\n",
       "      <td>3</td>\n",
       "      <td>3</td>\n",
       "      <td>ESP</td>\n",
       "      <td>0.369894</td>\n",
       "      <td>1785.0</td>\n",
       "      <td>0.000229</td>\n",
       "      <td>0.588297</td>\n",
       "      <td>1897.0</td>\n",
       "      <td>0.001002</td>\n",
       "    </tr>\n",
       "    <tr>\n",
       "      <th>4</th>\n",
       "      <td>ruben-pena</td>\n",
       "      <td>Rubén Peña</td>\n",
       "      <td>Real Valladolid</td>\n",
       "      <td>Spain</td>\n",
       "      <td>18.07.1991</td>\n",
       "      <td>172.0</td>\n",
       "      <td>70.0</td>\n",
       "      <td>Right Midfielder</td>\n",
       "      <td>1</td>\n",
       "      <td>1</td>\n",
       "      <td>...</td>\n",
       "      <td>NaN</td>\n",
       "      <td>3</td>\n",
       "      <td>3</td>\n",
       "      <td>ESP</td>\n",
       "      <td>0.369894</td>\n",
       "      <td>1785.0</td>\n",
       "      <td>0.000229</td>\n",
       "      <td>0.588297</td>\n",
       "      <td>1897.0</td>\n",
       "      <td>0.001002</td>\n",
       "    </tr>\n",
       "  </tbody>\n",
       "</table>\n",
       "<p>5 rows × 28 columns</p>\n",
       "</div>"
      ],
      "text/plain": [
       "     playerShort         player             club leagueCountry    birthday  \\\n",
       "0  lucas-wilchez  Lucas Wilchez    Real Zaragoza         Spain  31.08.1983   \n",
       "1     john-utaka     John Utaka  Montpellier HSC        France  08.01.1982   \n",
       "2    abdon-prats    Abdón Prats     RCD Mallorca         Spain  17.12.1992   \n",
       "3     pablo-mari     Pablo Marí     RCD Mallorca         Spain  31.08.1993   \n",
       "4     ruben-pena     Rubén Peña  Real Valladolid         Spain  18.07.1991   \n",
       "\n",
       "   height  weight              position  games  victories    ...     rater2  \\\n",
       "0   177.0    72.0  Attacking Midfielder      1          0    ...       0.50   \n",
       "1   179.0    82.0          Right Winger      1          0    ...       0.75   \n",
       "2   181.0    79.0                   NaN      1          0    ...        NaN   \n",
       "3   191.0    87.0           Center Back      1          1    ...        NaN   \n",
       "4   172.0    70.0      Right Midfielder      1          1    ...        NaN   \n",
       "\n",
       "   refNum  refCountry  Alpha_3   meanIAT    nIAT     seIAT   meanExp    nExp  \\\n",
       "0       1           1      GRC  0.326391   712.0  0.000564  0.396000   750.0   \n",
       "1       2           2      ZMB  0.203375    40.0  0.010875 -0.204082    49.0   \n",
       "2       3           3      ESP  0.369894  1785.0  0.000229  0.588297  1897.0   \n",
       "3       3           3      ESP  0.369894  1785.0  0.000229  0.588297  1897.0   \n",
       "4       3           3      ESP  0.369894  1785.0  0.000229  0.588297  1897.0   \n",
       "\n",
       "      seExp  \n",
       "0  0.002696  \n",
       "1  0.061504  \n",
       "2  0.001002  \n",
       "3  0.001002  \n",
       "4  0.001002  \n",
       "\n",
       "[5 rows x 28 columns]"
      ]
     },
     "execution_count": 41,
     "metadata": {},
     "output_type": "execute_result"
    }
   ],
   "source": [
    "df.head(5)"
   ]
  },
  {
   "cell_type": "markdown",
   "metadata": {},
   "source": [
    "Ok now, let's make the playerShort the index, also let's average the skintone and drop all players that have the skintone as NaN. Plus, we average the player skintone."
   ]
  },
  {
   "cell_type": "code",
   "execution_count": 42,
   "metadata": {
    "collapsed": false
   },
   "outputs": [
    {
     "data": {
      "text/html": [
       "<div>\n",
       "<table border=\"1\" class=\"dataframe\">\n",
       "  <thead>\n",
       "    <tr style=\"text-align: right;\">\n",
       "      <th></th>\n",
       "      <th>playerShort</th>\n",
       "      <th>player</th>\n",
       "      <th>club</th>\n",
       "      <th>leagueCountry</th>\n",
       "      <th>birthday</th>\n",
       "      <th>height</th>\n",
       "      <th>weight</th>\n",
       "      <th>position</th>\n",
       "      <th>games</th>\n",
       "      <th>victories</th>\n",
       "      <th>...</th>\n",
       "      <th>refNum</th>\n",
       "      <th>refCountry</th>\n",
       "      <th>Alpha_3</th>\n",
       "      <th>meanIAT</th>\n",
       "      <th>nIAT</th>\n",
       "      <th>seIAT</th>\n",
       "      <th>meanExp</th>\n",
       "      <th>nExp</th>\n",
       "      <th>seExp</th>\n",
       "      <th>skintone</th>\n",
       "    </tr>\n",
       "  </thead>\n",
       "  <tbody>\n",
       "    <tr>\n",
       "      <th>0</th>\n",
       "      <td>lucas-wilchez</td>\n",
       "      <td>Lucas Wilchez</td>\n",
       "      <td>Real Zaragoza</td>\n",
       "      <td>Spain</td>\n",
       "      <td>31.08.1983</td>\n",
       "      <td>177.0</td>\n",
       "      <td>72.0</td>\n",
       "      <td>Attacking Midfielder</td>\n",
       "      <td>1</td>\n",
       "      <td>0</td>\n",
       "      <td>...</td>\n",
       "      <td>1</td>\n",
       "      <td>1</td>\n",
       "      <td>GRC</td>\n",
       "      <td>0.326391</td>\n",
       "      <td>712.0</td>\n",
       "      <td>0.000564</td>\n",
       "      <td>0.396000</td>\n",
       "      <td>750.0</td>\n",
       "      <td>0.002696</td>\n",
       "      <td>0.375</td>\n",
       "    </tr>\n",
       "    <tr>\n",
       "      <th>1</th>\n",
       "      <td>john-utaka</td>\n",
       "      <td>John Utaka</td>\n",
       "      <td>Montpellier HSC</td>\n",
       "      <td>France</td>\n",
       "      <td>08.01.1982</td>\n",
       "      <td>179.0</td>\n",
       "      <td>82.0</td>\n",
       "      <td>Right Winger</td>\n",
       "      <td>1</td>\n",
       "      <td>0</td>\n",
       "      <td>...</td>\n",
       "      <td>2</td>\n",
       "      <td>2</td>\n",
       "      <td>ZMB</td>\n",
       "      <td>0.203375</td>\n",
       "      <td>40.0</td>\n",
       "      <td>0.010875</td>\n",
       "      <td>-0.204082</td>\n",
       "      <td>49.0</td>\n",
       "      <td>0.061504</td>\n",
       "      <td>0.750</td>\n",
       "    </tr>\n",
       "    <tr>\n",
       "      <th>5</th>\n",
       "      <td>aaron-hughes</td>\n",
       "      <td>Aaron Hughes</td>\n",
       "      <td>Fulham FC</td>\n",
       "      <td>England</td>\n",
       "      <td>08.11.1979</td>\n",
       "      <td>182.0</td>\n",
       "      <td>71.0</td>\n",
       "      <td>Center Back</td>\n",
       "      <td>1</td>\n",
       "      <td>0</td>\n",
       "      <td>...</td>\n",
       "      <td>4</td>\n",
       "      <td>4</td>\n",
       "      <td>LUX</td>\n",
       "      <td>0.325185</td>\n",
       "      <td>127.0</td>\n",
       "      <td>0.003297</td>\n",
       "      <td>0.538462</td>\n",
       "      <td>130.0</td>\n",
       "      <td>0.013752</td>\n",
       "      <td>0.125</td>\n",
       "    </tr>\n",
       "    <tr>\n",
       "      <th>6</th>\n",
       "      <td>aleksandar-kolarov</td>\n",
       "      <td>Aleksandar Kolarov</td>\n",
       "      <td>Manchester City</td>\n",
       "      <td>England</td>\n",
       "      <td>10.11.1985</td>\n",
       "      <td>187.0</td>\n",
       "      <td>80.0</td>\n",
       "      <td>Left Fullback</td>\n",
       "      <td>1</td>\n",
       "      <td>1</td>\n",
       "      <td>...</td>\n",
       "      <td>4</td>\n",
       "      <td>4</td>\n",
       "      <td>LUX</td>\n",
       "      <td>0.325185</td>\n",
       "      <td>127.0</td>\n",
       "      <td>0.003297</td>\n",
       "      <td>0.538462</td>\n",
       "      <td>130.0</td>\n",
       "      <td>0.013752</td>\n",
       "      <td>0.125</td>\n",
       "    </tr>\n",
       "    <tr>\n",
       "      <th>7</th>\n",
       "      <td>alexander-tettey</td>\n",
       "      <td>Alexander Tettey</td>\n",
       "      <td>Norwich City</td>\n",
       "      <td>England</td>\n",
       "      <td>04.04.1986</td>\n",
       "      <td>180.0</td>\n",
       "      <td>68.0</td>\n",
       "      <td>Defensive Midfielder</td>\n",
       "      <td>1</td>\n",
       "      <td>0</td>\n",
       "      <td>...</td>\n",
       "      <td>4</td>\n",
       "      <td>4</td>\n",
       "      <td>LUX</td>\n",
       "      <td>0.325185</td>\n",
       "      <td>127.0</td>\n",
       "      <td>0.003297</td>\n",
       "      <td>0.538462</td>\n",
       "      <td>130.0</td>\n",
       "      <td>0.013752</td>\n",
       "      <td>1.000</td>\n",
       "    </tr>\n",
       "    <tr>\n",
       "      <th>8</th>\n",
       "      <td>anders-lindegaard</td>\n",
       "      <td>Anders Lindegaard</td>\n",
       "      <td>Manchester United</td>\n",
       "      <td>England</td>\n",
       "      <td>13.04.1984</td>\n",
       "      <td>193.0</td>\n",
       "      <td>80.0</td>\n",
       "      <td>Goalkeeper</td>\n",
       "      <td>1</td>\n",
       "      <td>0</td>\n",
       "      <td>...</td>\n",
       "      <td>4</td>\n",
       "      <td>4</td>\n",
       "      <td>LUX</td>\n",
       "      <td>0.325185</td>\n",
       "      <td>127.0</td>\n",
       "      <td>0.003297</td>\n",
       "      <td>0.538462</td>\n",
       "      <td>130.0</td>\n",
       "      <td>0.013752</td>\n",
       "      <td>0.250</td>\n",
       "    </tr>\n",
       "    <tr>\n",
       "      <th>9</th>\n",
       "      <td>andreas-beck</td>\n",
       "      <td>Andreas Beck</td>\n",
       "      <td>1899 Hoffenheim</td>\n",
       "      <td>Germany</td>\n",
       "      <td>13.03.1987</td>\n",
       "      <td>180.0</td>\n",
       "      <td>70.0</td>\n",
       "      <td>Right Fullback</td>\n",
       "      <td>1</td>\n",
       "      <td>1</td>\n",
       "      <td>...</td>\n",
       "      <td>4</td>\n",
       "      <td>4</td>\n",
       "      <td>LUX</td>\n",
       "      <td>0.325185</td>\n",
       "      <td>127.0</td>\n",
       "      <td>0.003297</td>\n",
       "      <td>0.538462</td>\n",
       "      <td>130.0</td>\n",
       "      <td>0.013752</td>\n",
       "      <td>0.000</td>\n",
       "    </tr>\n",
       "    <tr>\n",
       "      <th>10</th>\n",
       "      <td>antonio-rukavina</td>\n",
       "      <td>Antonio Rukavina</td>\n",
       "      <td>Real Valladolid</td>\n",
       "      <td>Spain</td>\n",
       "      <td>26.01.1984</td>\n",
       "      <td>177.0</td>\n",
       "      <td>74.0</td>\n",
       "      <td>Right Fullback</td>\n",
       "      <td>2</td>\n",
       "      <td>2</td>\n",
       "      <td>...</td>\n",
       "      <td>4</td>\n",
       "      <td>4</td>\n",
       "      <td>LUX</td>\n",
       "      <td>0.325185</td>\n",
       "      <td>127.0</td>\n",
       "      <td>0.003297</td>\n",
       "      <td>0.538462</td>\n",
       "      <td>130.0</td>\n",
       "      <td>0.013752</td>\n",
       "      <td>0.000</td>\n",
       "    </tr>\n",
       "    <tr>\n",
       "      <th>11</th>\n",
       "      <td>ashkan-dejagah</td>\n",
       "      <td>Ashkan Dejagah</td>\n",
       "      <td>Fulham FC</td>\n",
       "      <td>England</td>\n",
       "      <td>05.07.1986</td>\n",
       "      <td>181.0</td>\n",
       "      <td>74.0</td>\n",
       "      <td>Left Winger</td>\n",
       "      <td>1</td>\n",
       "      <td>1</td>\n",
       "      <td>...</td>\n",
       "      <td>4</td>\n",
       "      <td>4</td>\n",
       "      <td>LUX</td>\n",
       "      <td>0.325185</td>\n",
       "      <td>127.0</td>\n",
       "      <td>0.003297</td>\n",
       "      <td>0.538462</td>\n",
       "      <td>130.0</td>\n",
       "      <td>0.013752</td>\n",
       "      <td>0.500</td>\n",
       "    </tr>\n",
       "    <tr>\n",
       "      <th>12</th>\n",
       "      <td>benedikt-hoewedes</td>\n",
       "      <td>Benedikt Höwedes</td>\n",
       "      <td>FC Schalke 04</td>\n",
       "      <td>Germany</td>\n",
       "      <td>29.02.1988</td>\n",
       "      <td>187.0</td>\n",
       "      <td>80.0</td>\n",
       "      <td>Center Back</td>\n",
       "      <td>1</td>\n",
       "      <td>1</td>\n",
       "      <td>...</td>\n",
       "      <td>4</td>\n",
       "      <td>4</td>\n",
       "      <td>LUX</td>\n",
       "      <td>0.325185</td>\n",
       "      <td>127.0</td>\n",
       "      <td>0.003297</td>\n",
       "      <td>0.538462</td>\n",
       "      <td>130.0</td>\n",
       "      <td>0.013752</td>\n",
       "      <td>0.000</td>\n",
       "    </tr>\n",
       "  </tbody>\n",
       "</table>\n",
       "<p>10 rows × 29 columns</p>\n",
       "</div>"
      ],
      "text/plain": [
       "           playerShort              player               club leagueCountry  \\\n",
       "0        lucas-wilchez       Lucas Wilchez      Real Zaragoza         Spain   \n",
       "1           john-utaka          John Utaka    Montpellier HSC        France   \n",
       "5         aaron-hughes        Aaron Hughes          Fulham FC       England   \n",
       "6   aleksandar-kolarov  Aleksandar Kolarov    Manchester City       England   \n",
       "7     alexander-tettey    Alexander Tettey       Norwich City       England   \n",
       "8    anders-lindegaard   Anders Lindegaard  Manchester United       England   \n",
       "9         andreas-beck        Andreas Beck    1899 Hoffenheim       Germany   \n",
       "10    antonio-rukavina    Antonio Rukavina    Real Valladolid         Spain   \n",
       "11      ashkan-dejagah      Ashkan Dejagah          Fulham FC       England   \n",
       "12   benedikt-hoewedes    Benedikt Höwedes      FC Schalke 04       Germany   \n",
       "\n",
       "      birthday  height  weight              position  games  victories  \\\n",
       "0   31.08.1983   177.0    72.0  Attacking Midfielder      1          0   \n",
       "1   08.01.1982   179.0    82.0          Right Winger      1          0   \n",
       "5   08.11.1979   182.0    71.0           Center Back      1          0   \n",
       "6   10.11.1985   187.0    80.0         Left Fullback      1          1   \n",
       "7   04.04.1986   180.0    68.0  Defensive Midfielder      1          0   \n",
       "8   13.04.1984   193.0    80.0            Goalkeeper      1          0   \n",
       "9   13.03.1987   180.0    70.0        Right Fullback      1          1   \n",
       "10  26.01.1984   177.0    74.0        Right Fullback      2          2   \n",
       "11  05.07.1986   181.0    74.0           Left Winger      1          1   \n",
       "12  29.02.1988   187.0    80.0           Center Back      1          1   \n",
       "\n",
       "      ...     refNum  refCountry  Alpha_3   meanIAT   nIAT     seIAT  \\\n",
       "0     ...          1           1      GRC  0.326391  712.0  0.000564   \n",
       "1     ...          2           2      ZMB  0.203375   40.0  0.010875   \n",
       "5     ...          4           4      LUX  0.325185  127.0  0.003297   \n",
       "6     ...          4           4      LUX  0.325185  127.0  0.003297   \n",
       "7     ...          4           4      LUX  0.325185  127.0  0.003297   \n",
       "8     ...          4           4      LUX  0.325185  127.0  0.003297   \n",
       "9     ...          4           4      LUX  0.325185  127.0  0.003297   \n",
       "10    ...          4           4      LUX  0.325185  127.0  0.003297   \n",
       "11    ...          4           4      LUX  0.325185  127.0  0.003297   \n",
       "12    ...          4           4      LUX  0.325185  127.0  0.003297   \n",
       "\n",
       "     meanExp   nExp     seExp  skintone  \n",
       "0   0.396000  750.0  0.002696     0.375  \n",
       "1  -0.204082   49.0  0.061504     0.750  \n",
       "5   0.538462  130.0  0.013752     0.125  \n",
       "6   0.538462  130.0  0.013752     0.125  \n",
       "7   0.538462  130.0  0.013752     1.000  \n",
       "8   0.538462  130.0  0.013752     0.250  \n",
       "9   0.538462  130.0  0.013752     0.000  \n",
       "10  0.538462  130.0  0.013752     0.000  \n",
       "11  0.538462  130.0  0.013752     0.500  \n",
       "12  0.538462  130.0  0.013752     0.000  \n",
       "\n",
       "[10 rows x 29 columns]"
      ]
     },
     "execution_count": 42,
     "metadata": {},
     "output_type": "execute_result"
    }
   ],
   "source": [
    "#df.set_index(df.columns[0], inplace=True)\n",
    "df.dropna(subset=['rater1', 'rater2'], inplace=True)\n",
    "df['skintone']=df[['rater1', 'rater2']].mean(axis=1)\n",
    "df.head(10)"
   ]
  },
  {
   "cell_type": "markdown",
   "metadata": {},
   "source": [
    "The next step is to change the format of the data and keep only relevant fields."
   ]
  },
  {
   "cell_type": "code",
   "execution_count": 43,
   "metadata": {
    "collapsed": false
   },
   "outputs": [
    {
     "data": {
      "text/html": [
       "<div>\n",
       "<table border=\"1\" class=\"dataframe\">\n",
       "  <thead>\n",
       "    <tr style=\"text-align: right;\">\n",
       "      <th></th>\n",
       "      <th>playerShort</th>\n",
       "      <th>club</th>\n",
       "      <th>leagueCountry</th>\n",
       "      <th>height</th>\n",
       "      <th>weight</th>\n",
       "      <th>position</th>\n",
       "      <th>games</th>\n",
       "      <th>victories</th>\n",
       "      <th>ties</th>\n",
       "      <th>defeats</th>\n",
       "      <th>...</th>\n",
       "      <th>refNum</th>\n",
       "      <th>refCountry</th>\n",
       "      <th>Alpha_3</th>\n",
       "      <th>meanIAT</th>\n",
       "      <th>nIAT</th>\n",
       "      <th>seIAT</th>\n",
       "      <th>meanExp</th>\n",
       "      <th>nExp</th>\n",
       "      <th>seExp</th>\n",
       "      <th>skintone</th>\n",
       "    </tr>\n",
       "  </thead>\n",
       "  <tbody>\n",
       "    <tr>\n",
       "      <th>0</th>\n",
       "      <td>lucas-wilchez</td>\n",
       "      <td>Real Zaragoza</td>\n",
       "      <td>Spain</td>\n",
       "      <td>177.0</td>\n",
       "      <td>72.0</td>\n",
       "      <td>Attacking Midfielder</td>\n",
       "      <td>1</td>\n",
       "      <td>0</td>\n",
       "      <td>0</td>\n",
       "      <td>1</td>\n",
       "      <td>...</td>\n",
       "      <td>1</td>\n",
       "      <td>1</td>\n",
       "      <td>GRC</td>\n",
       "      <td>0.326391</td>\n",
       "      <td>712.0</td>\n",
       "      <td>0.000564</td>\n",
       "      <td>0.396000</td>\n",
       "      <td>750.0</td>\n",
       "      <td>0.002696</td>\n",
       "      <td>0.375</td>\n",
       "    </tr>\n",
       "    <tr>\n",
       "      <th>1</th>\n",
       "      <td>john-utaka</td>\n",
       "      <td>Montpellier HSC</td>\n",
       "      <td>France</td>\n",
       "      <td>179.0</td>\n",
       "      <td>82.0</td>\n",
       "      <td>Right Winger</td>\n",
       "      <td>1</td>\n",
       "      <td>0</td>\n",
       "      <td>0</td>\n",
       "      <td>1</td>\n",
       "      <td>...</td>\n",
       "      <td>2</td>\n",
       "      <td>2</td>\n",
       "      <td>ZMB</td>\n",
       "      <td>0.203375</td>\n",
       "      <td>40.0</td>\n",
       "      <td>0.010875</td>\n",
       "      <td>-0.204082</td>\n",
       "      <td>49.0</td>\n",
       "      <td>0.061504</td>\n",
       "      <td>0.750</td>\n",
       "    </tr>\n",
       "    <tr>\n",
       "      <th>5</th>\n",
       "      <td>aaron-hughes</td>\n",
       "      <td>Fulham FC</td>\n",
       "      <td>England</td>\n",
       "      <td>182.0</td>\n",
       "      <td>71.0</td>\n",
       "      <td>Center Back</td>\n",
       "      <td>1</td>\n",
       "      <td>0</td>\n",
       "      <td>0</td>\n",
       "      <td>1</td>\n",
       "      <td>...</td>\n",
       "      <td>4</td>\n",
       "      <td>4</td>\n",
       "      <td>LUX</td>\n",
       "      <td>0.325185</td>\n",
       "      <td>127.0</td>\n",
       "      <td>0.003297</td>\n",
       "      <td>0.538462</td>\n",
       "      <td>130.0</td>\n",
       "      <td>0.013752</td>\n",
       "      <td>0.125</td>\n",
       "    </tr>\n",
       "    <tr>\n",
       "      <th>6</th>\n",
       "      <td>aleksandar-kolarov</td>\n",
       "      <td>Manchester City</td>\n",
       "      <td>England</td>\n",
       "      <td>187.0</td>\n",
       "      <td>80.0</td>\n",
       "      <td>Left Fullback</td>\n",
       "      <td>1</td>\n",
       "      <td>1</td>\n",
       "      <td>0</td>\n",
       "      <td>0</td>\n",
       "      <td>...</td>\n",
       "      <td>4</td>\n",
       "      <td>4</td>\n",
       "      <td>LUX</td>\n",
       "      <td>0.325185</td>\n",
       "      <td>127.0</td>\n",
       "      <td>0.003297</td>\n",
       "      <td>0.538462</td>\n",
       "      <td>130.0</td>\n",
       "      <td>0.013752</td>\n",
       "      <td>0.125</td>\n",
       "    </tr>\n",
       "    <tr>\n",
       "      <th>7</th>\n",
       "      <td>alexander-tettey</td>\n",
       "      <td>Norwich City</td>\n",
       "      <td>England</td>\n",
       "      <td>180.0</td>\n",
       "      <td>68.0</td>\n",
       "      <td>Defensive Midfielder</td>\n",
       "      <td>1</td>\n",
       "      <td>0</td>\n",
       "      <td>0</td>\n",
       "      <td>1</td>\n",
       "      <td>...</td>\n",
       "      <td>4</td>\n",
       "      <td>4</td>\n",
       "      <td>LUX</td>\n",
       "      <td>0.325185</td>\n",
       "      <td>127.0</td>\n",
       "      <td>0.003297</td>\n",
       "      <td>0.538462</td>\n",
       "      <td>130.0</td>\n",
       "      <td>0.013752</td>\n",
       "      <td>1.000</td>\n",
       "    </tr>\n",
       "  </tbody>\n",
       "</table>\n",
       "<p>5 rows × 24 columns</p>\n",
       "</div>"
      ],
      "text/plain": [
       "          playerShort             club leagueCountry  height  weight  \\\n",
       "0       lucas-wilchez    Real Zaragoza         Spain   177.0    72.0   \n",
       "1          john-utaka  Montpellier HSC        France   179.0    82.0   \n",
       "5        aaron-hughes        Fulham FC       England   182.0    71.0   \n",
       "6  aleksandar-kolarov  Manchester City       England   187.0    80.0   \n",
       "7    alexander-tettey     Norwich City       England   180.0    68.0   \n",
       "\n",
       "               position  games  victories  ties  defeats    ...     refNum  \\\n",
       "0  Attacking Midfielder      1          0     0        1    ...          1   \n",
       "1          Right Winger      1          0     0        1    ...          2   \n",
       "5           Center Back      1          0     0        1    ...          4   \n",
       "6         Left Fullback      1          1     0        0    ...          4   \n",
       "7  Defensive Midfielder      1          0     0        1    ...          4   \n",
       "\n",
       "   refCountry  Alpha_3   meanIAT   nIAT     seIAT   meanExp   nExp     seExp  \\\n",
       "0           1      GRC  0.326391  712.0  0.000564  0.396000  750.0  0.002696   \n",
       "1           2      ZMB  0.203375   40.0  0.010875 -0.204082   49.0  0.061504   \n",
       "5           4      LUX  0.325185  127.0  0.003297  0.538462  130.0  0.013752   \n",
       "6           4      LUX  0.325185  127.0  0.003297  0.538462  130.0  0.013752   \n",
       "7           4      LUX  0.325185  127.0  0.003297  0.538462  130.0  0.013752   \n",
       "\n",
       "   skintone  \n",
       "0     0.375  \n",
       "1     0.750  \n",
       "5     0.125  \n",
       "6     0.125  \n",
       "7     1.000  \n",
       "\n",
       "[5 rows x 24 columns]"
      ]
     },
     "execution_count": 43,
     "metadata": {},
     "output_type": "execute_result"
    }
   ],
   "source": [
    "df.drop(['player', 'rater1', 'rater2', 'photoID', 'birthday'], inplace=True, axis=1)\n",
    "df.head()"
   ]
  },
  {
   "cell_type": "markdown",
   "metadata": {
    "collapsed": true
   },
   "source": [
    "Now we will collapse these entries so that we have one row per player. We aggregate numerical values either by summing or averaging, and most frequent strings are selected (unless for "
   ]
  },
  {
   "cell_type": "code",
   "execution_count": 44,
   "metadata": {
    "collapsed": false,
    "scrolled": true
   },
   "outputs": [
    {
     "data": {
      "text/html": [
       "<div>\n",
       "<table border=\"1\" class=\"dataframe\">\n",
       "  <thead>\n",
       "    <tr style=\"text-align: right;\">\n",
       "      <th></th>\n",
       "      <th>height</th>\n",
       "      <th>redCards</th>\n",
       "      <th>games</th>\n",
       "      <th>position</th>\n",
       "      <th>yellowCards</th>\n",
       "      <th>ties</th>\n",
       "      <th>leagueCountry</th>\n",
       "      <th>meanIAT</th>\n",
       "      <th>defeats</th>\n",
       "      <th>goals</th>\n",
       "      <th>yellowReds</th>\n",
       "      <th>weight</th>\n",
       "      <th>meanExp</th>\n",
       "      <th>seExp</th>\n",
       "      <th>victories</th>\n",
       "      <th>seIAT</th>\n",
       "      <th>club</th>\n",
       "    </tr>\n",
       "  </thead>\n",
       "  <tbody>\n",
       "    <tr>\n",
       "      <th>0</th>\n",
       "      <td>182.0</td>\n",
       "      <td>0</td>\n",
       "      <td>654</td>\n",
       "      <td>5</td>\n",
       "      <td>19</td>\n",
       "      <td>179</td>\n",
       "      <td>England</td>\n",
       "      <td>0.346459</td>\n",
       "      <td>228</td>\n",
       "      <td>9</td>\n",
       "      <td>0</td>\n",
       "      <td>71.0</td>\n",
       "      <td>0.494575</td>\n",
       "      <td>0.004065</td>\n",
       "      <td>247</td>\n",
       "      <td>0.000652</td>\n",
       "      <td>Fulham FC</td>\n",
       "    </tr>\n",
       "    <tr>\n",
       "      <th>1</th>\n",
       "      <td>183.0</td>\n",
       "      <td>1</td>\n",
       "      <td>336</td>\n",
       "      <td>745</td>\n",
       "      <td>42</td>\n",
       "      <td>73</td>\n",
       "      <td>Germany</td>\n",
       "      <td>0.348818</td>\n",
       "      <td>122</td>\n",
       "      <td>62</td>\n",
       "      <td>0</td>\n",
       "      <td>73.0</td>\n",
       "      <td>0.449220</td>\n",
       "      <td>0.000993</td>\n",
       "      <td>141</td>\n",
       "      <td>0.000219</td>\n",
       "      <td>Werder Bremen</td>\n",
       "    </tr>\n",
       "    <tr>\n",
       "      <th>2</th>\n",
       "      <td>165.0</td>\n",
       "      <td>0</td>\n",
       "      <td>412</td>\n",
       "      <td>746</td>\n",
       "      <td>11</td>\n",
       "      <td>97</td>\n",
       "      <td>England</td>\n",
       "      <td>0.345893</td>\n",
       "      <td>115</td>\n",
       "      <td>31</td>\n",
       "      <td>0</td>\n",
       "      <td>63.0</td>\n",
       "      <td>0.491482</td>\n",
       "      <td>0.002032</td>\n",
       "      <td>200</td>\n",
       "      <td>0.000367</td>\n",
       "      <td>Tottenham Hotspur</td>\n",
       "    </tr>\n",
       "    <tr>\n",
       "      <th>3</th>\n",
       "      <td>178.0</td>\n",
       "      <td>1</td>\n",
       "      <td>260</td>\n",
       "      <td>747</td>\n",
       "      <td>31</td>\n",
       "      <td>42</td>\n",
       "      <td>England</td>\n",
       "      <td>0.346821</td>\n",
       "      <td>68</td>\n",
       "      <td>39</td>\n",
       "      <td>0</td>\n",
       "      <td>76.0</td>\n",
       "      <td>0.514693</td>\n",
       "      <td>0.013522</td>\n",
       "      <td>150</td>\n",
       "      <td>0.003334</td>\n",
       "      <td>Arsenal FC</td>\n",
       "    </tr>\n",
       "    <tr>\n",
       "      <th>4</th>\n",
       "      <td>180.0</td>\n",
       "      <td>2</td>\n",
       "      <td>124</td>\n",
       "      <td>4418</td>\n",
       "      <td>8</td>\n",
       "      <td>40</td>\n",
       "      <td>France</td>\n",
       "      <td>0.331600</td>\n",
       "      <td>43</td>\n",
       "      <td>1</td>\n",
       "      <td>4</td>\n",
       "      <td>73.0</td>\n",
       "      <td>0.335587</td>\n",
       "      <td>0.005296</td>\n",
       "      <td>41</td>\n",
       "      <td>0.001488</td>\n",
       "      <td>Montpellier HSC</td>\n",
       "    </tr>\n",
       "  </tbody>\n",
       "</table>\n",
       "</div>"
      ],
      "text/plain": [
       "   height  redCards  games  position  yellowCards  ties leagueCountry  \\\n",
       "0   182.0         0    654         5           19   179       England   \n",
       "1   183.0         1    336       745           42    73       Germany   \n",
       "2   165.0         0    412       746           11    97       England   \n",
       "3   178.0         1    260       747           31    42       England   \n",
       "4   180.0         2    124      4418            8    40        France   \n",
       "\n",
       "    meanIAT  defeats  goals  yellowReds  weight   meanExp     seExp  \\\n",
       "0  0.346459      228      9           0    71.0  0.494575  0.004065   \n",
       "1  0.348818      122     62           0    73.0  0.449220  0.000993   \n",
       "2  0.345893      115     31           0    63.0  0.491482  0.002032   \n",
       "3  0.346821       68     39           0    76.0  0.514693  0.013522   \n",
       "4  0.331600       43      1           4    73.0  0.335587  0.005296   \n",
       "\n",
       "   victories     seIAT               club  \n",
       "0        247  0.000652          Fulham FC  \n",
       "1        141  0.000219      Werder Bremen  \n",
       "2        200  0.000367  Tottenham Hotspur  \n",
       "3        150  0.003334         Arsenal FC  \n",
       "4         41  0.001488    Montpellier HSC  "
      ]
     },
     "execution_count": 44,
     "metadata": {},
     "output_type": "execute_result"
    }
   ],
   "source": [
    "players_grouped = df.groupby(by=['playerShort'])\n",
    "\n",
    "fdict = dict.fromkeys(['club', 'leagueCountry'], lambda x: x.value_counts().index[0])\n",
    "fdict.update({'position': lambda x: x.index[0]})\n",
    "fdict.update(dict.fromkeys(['meanIAT', 'meanExp', 'seIAT', 'seExp', 'height', 'weight', 'skintone'], lambda x: np.mean(x)))\n",
    "fdict.update(dict.fromkeys(['games', 'victories', 'ties', 'defeats', 'goals', 'yellowCards', 'yellowReds', 'redCards'], np.sum))\n",
    "\n",
    "data = players_grouped.agg(fdict)\n",
    "data.reset_index(inplace=True, drop=True)\n",
    "labels = data[['skintone']]\n",
    "data.drop('skintone', inplace=True, axis=1)\n",
    "data.head()"
   ]
  },
  {
   "cell_type": "markdown",
   "metadata": {},
   "source": [
    "Now we need to deal with the text features. Our model does not like text features so we have to encode them as numbers. There are two ways of doing this.\n",
    "1. We relate each text value to a number\n",
    "2. For each text value we add a new column and set it to 0 where that text value does not appear and 1 where it appers\n",
    "\n",
    "In general it it suggested to use the second aproach, but in our case I will use the first aproach for 2 reasons: \n",
    "-There are a lot of clubs and that will add a lot of columns\n",
    "-It will make it very dificult to inspect the feature_importances_"
   ]
  },
  {
   "cell_type": "code",
   "execution_count": 45,
   "metadata": {
    "collapsed": false
   },
   "outputs": [
    {
     "data": {
      "text/plain": [
       "LabelEncoder()"
      ]
     },
     "execution_count": 45,
     "metadata": {},
     "output_type": "execute_result"
    }
   ],
   "source": [
    "from sklearn import preprocessing\n",
    "le = preprocessing.LabelEncoder()\n",
    "le1 = preprocessing.LabelEncoder()\n",
    "le2 = preprocessing.LabelEncoder()\n",
    "le.fit(data['leagueCountry'])\n",
    "le1.fit(data['club'])\n",
    "le2.fit(data['position'].dropna())"
   ]
  },
  {
   "cell_type": "code",
   "execution_count": 46,
   "metadata": {
    "collapsed": false
   },
   "outputs": [
    {
     "data": {
      "text/html": [
       "<div>\n",
       "<table border=\"1\" class=\"dataframe\">\n",
       "  <thead>\n",
       "    <tr style=\"text-align: right;\">\n",
       "      <th></th>\n",
       "      <th>height</th>\n",
       "      <th>redCards</th>\n",
       "      <th>games</th>\n",
       "      <th>position</th>\n",
       "      <th>yellowCards</th>\n",
       "      <th>ties</th>\n",
       "      <th>leagueCountry</th>\n",
       "      <th>meanIAT</th>\n",
       "      <th>defeats</th>\n",
       "      <th>goals</th>\n",
       "      <th>yellowReds</th>\n",
       "      <th>weight</th>\n",
       "      <th>meanExp</th>\n",
       "      <th>seExp</th>\n",
       "      <th>victories</th>\n",
       "      <th>seIAT</th>\n",
       "      <th>club</th>\n",
       "    </tr>\n",
       "  </thead>\n",
       "  <tbody>\n",
       "    <tr>\n",
       "      <th>0</th>\n",
       "      <td>182.0</td>\n",
       "      <td>0</td>\n",
       "      <td>654</td>\n",
       "      <td>2</td>\n",
       "      <td>19</td>\n",
       "      <td>179</td>\n",
       "      <td>0</td>\n",
       "      <td>0.346459</td>\n",
       "      <td>228</td>\n",
       "      <td>9</td>\n",
       "      <td>0</td>\n",
       "      <td>71.0</td>\n",
       "      <td>0.494575</td>\n",
       "      <td>0.004065</td>\n",
       "      <td>247</td>\n",
       "      <td>0.000652</td>\n",
       "      <td>34</td>\n",
       "    </tr>\n",
       "    <tr>\n",
       "      <th>1</th>\n",
       "      <td>183.0</td>\n",
       "      <td>1</td>\n",
       "      <td>336</td>\n",
       "      <td>407</td>\n",
       "      <td>42</td>\n",
       "      <td>73</td>\n",
       "      <td>2</td>\n",
       "      <td>0.348818</td>\n",
       "      <td>122</td>\n",
       "      <td>62</td>\n",
       "      <td>0</td>\n",
       "      <td>73.0</td>\n",
       "      <td>0.449220</td>\n",
       "      <td>0.000993</td>\n",
       "      <td>141</td>\n",
       "      <td>0.000219</td>\n",
       "      <td>91</td>\n",
       "    </tr>\n",
       "    <tr>\n",
       "      <th>2</th>\n",
       "      <td>165.0</td>\n",
       "      <td>0</td>\n",
       "      <td>412</td>\n",
       "      <td>408</td>\n",
       "      <td>11</td>\n",
       "      <td>97</td>\n",
       "      <td>0</td>\n",
       "      <td>0.345893</td>\n",
       "      <td>115</td>\n",
       "      <td>31</td>\n",
       "      <td>0</td>\n",
       "      <td>63.0</td>\n",
       "      <td>0.491482</td>\n",
       "      <td>0.002032</td>\n",
       "      <td>200</td>\n",
       "      <td>0.000367</td>\n",
       "      <td>83</td>\n",
       "    </tr>\n",
       "    <tr>\n",
       "      <th>3</th>\n",
       "      <td>178.0</td>\n",
       "      <td>1</td>\n",
       "      <td>260</td>\n",
       "      <td>409</td>\n",
       "      <td>31</td>\n",
       "      <td>42</td>\n",
       "      <td>0</td>\n",
       "      <td>0.346821</td>\n",
       "      <td>68</td>\n",
       "      <td>39</td>\n",
       "      <td>0</td>\n",
       "      <td>76.0</td>\n",
       "      <td>0.514693</td>\n",
       "      <td>0.013522</td>\n",
       "      <td>150</td>\n",
       "      <td>0.003334</td>\n",
       "      <td>6</td>\n",
       "    </tr>\n",
       "    <tr>\n",
       "      <th>4</th>\n",
       "      <td>180.0</td>\n",
       "      <td>2</td>\n",
       "      <td>124</td>\n",
       "      <td>1374</td>\n",
       "      <td>8</td>\n",
       "      <td>40</td>\n",
       "      <td>1</td>\n",
       "      <td>0.331600</td>\n",
       "      <td>43</td>\n",
       "      <td>1</td>\n",
       "      <td>4</td>\n",
       "      <td>73.0</td>\n",
       "      <td>0.335587</td>\n",
       "      <td>0.005296</td>\n",
       "      <td>41</td>\n",
       "      <td>0.001488</td>\n",
       "      <td>51</td>\n",
       "    </tr>\n",
       "  </tbody>\n",
       "</table>\n",
       "</div>"
      ],
      "text/plain": [
       "   height  redCards  games  position  yellowCards  ties  leagueCountry  \\\n",
       "0   182.0         0    654         2           19   179              0   \n",
       "1   183.0         1    336       407           42    73              2   \n",
       "2   165.0         0    412       408           11    97              0   \n",
       "3   178.0         1    260       409           31    42              0   \n",
       "4   180.0         2    124      1374            8    40              1   \n",
       "\n",
       "    meanIAT  defeats  goals  yellowReds  weight   meanExp     seExp  \\\n",
       "0  0.346459      228      9           0    71.0  0.494575  0.004065   \n",
       "1  0.348818      122     62           0    73.0  0.449220  0.000993   \n",
       "2  0.345893      115     31           0    63.0  0.491482  0.002032   \n",
       "3  0.346821       68     39           0    76.0  0.514693  0.013522   \n",
       "4  0.331600       43      1           4    73.0  0.335587  0.005296   \n",
       "\n",
       "   victories     seIAT  club  \n",
       "0        247  0.000652    34  \n",
       "1        141  0.000219    91  \n",
       "2        200  0.000367    83  \n",
       "3        150  0.003334     6  \n",
       "4         41  0.001488    51  "
      ]
     },
     "execution_count": 46,
     "metadata": {},
     "output_type": "execute_result"
    }
   ],
   "source": [
    "data['leagueCountry'] = le.transform(data['leagueCountry'])\n",
    "data['club'] = le1.transform(data['club'])\n",
    "data['position'] = data['position'].fillna(le2.inverse_transform(np.median(le2.transform(data['position'].dropna())).astype(int)))\n",
    "data['position'] = le2.transform(data['position'])\n",
    "data.head()"
   ]
  },
  {
   "cell_type": "markdown",
   "metadata": {},
   "source": [
    "Our model also does not like NaN values so we will fill them with the median of the respetive column"
   ]
  },
  {
   "cell_type": "code",
   "execution_count": 47,
   "metadata": {
    "collapsed": true
   },
   "outputs": [],
   "source": [
    "data['height'] = data['height'].fillna(np.median(data['height'].dropna()))\n",
    "data['weight'] = data['weight'].fillna(np.median(data['weight'].dropna()))"
   ]
  },
  {
   "cell_type": "code",
   "execution_count": 48,
   "metadata": {
    "collapsed": false
   },
   "outputs": [],
   "source": [
    "#data.set_index(data.columns[0], inplace=True)"
   ]
  },
  {
   "cell_type": "code",
   "execution_count": 49,
   "metadata": {
    "collapsed": false
   },
   "outputs": [],
   "source": [
    "labels = labels.apply(lambda x: np.round(x))"
   ]
  },
  {
   "cell_type": "code",
   "execution_count": 50,
   "metadata": {
    "collapsed": false
   },
   "outputs": [
    {
     "data": {
      "text/plain": [
       "0.85863924050632912"
      ]
     },
     "execution_count": 50,
     "metadata": {},
     "output_type": "execute_result"
    }
   ],
   "source": [
    "from sklearn.ensemble import RandomForestClassifier\n",
    "from sklearn.cross_validation import KFold\n",
    "from sklearn import metrics\n",
    "def checkCrossValidationAccuracy (data, labels):\n",
    "    scores = []\n",
    "    kf = KFold(len(labels), n_folds=20, shuffle=True, random_state=123)\n",
    "    for train_index, test_index in kf:\n",
    "        clf = RandomForestClassifier(n_estimators=15, max_features=6,  min_samples_leaf=20,)\n",
    "        X_train, X_test = data.loc[train_index], data.loc[test_index]\n",
    "        y_train, y_test = labels.loc[train_index], labels.loc[test_index]\n",
    "        clf.fit(X_train, y_train['skintone'])\n",
    "        scores.append(metrics.accuracy_score(y_test['skintone'], clf.predict(X_test)))\n",
    "        #print(metrics.accuracy_score(y_test['skintone'], clf.predict(X_test)))\n",
    "        #print(metrics.accuracy_score(y_train['skintone'], clf.predict(X_train)))\n",
    "    return np.average(scores) \n",
    "checkCrossValidationAccuracy(data,labels)"
   ]
  },
  {
   "cell_type": "markdown",
   "metadata": {
    "collapsed": false
   },
   "source": [
    "Okay now let's try dropping some cols. Let's drop the club and the leagueCountry as those atributs should not affect the player"
   ]
  },
  {
   "cell_type": "code",
   "execution_count": 51,
   "metadata": {
    "collapsed": false
   },
   "outputs": [],
   "source": [
    "data1 = data.drop(\"leagueCountry\", 1)\n",
    "data1 = data1.drop(\"club\", 1)"
   ]
  },
  {
   "cell_type": "code",
   "execution_count": 52,
   "metadata": {
    "collapsed": false
   },
   "outputs": [
    {
     "data": {
      "text/plain": [
       "0.85045094936708843"
      ]
     },
     "execution_count": 52,
     "metadata": {},
     "output_type": "execute_result"
    }
   ],
   "source": [
    "checkCrossValidationAccuracy(data1,labels)"
   ]
  },
  {
   "cell_type": "markdown",
   "metadata": {
    "collapsed": false
   },
   "source": [
    "It looks like droping thoose features did not increase the accuracy but at the same time it simplified the model"
   ]
  },
  {
   "cell_type": "code",
   "execution_count": 53,
   "metadata": {
    "collapsed": false
   },
   "outputs": [],
   "source": [
    "data2 = data1.drop(\"games\", 1)\n",
    "data2 = data2.drop(\"victories\", 1)\n",
    "data2 = data2.drop(\"ties\", 1)\n",
    "data2 = data2.drop(\"defeats\", 1)"
   ]
  },
  {
   "cell_type": "code",
   "execution_count": 54,
   "metadata": {
    "collapsed": false
   },
   "outputs": [
    {
     "data": {
      "text/html": [
       "<div>\n",
       "<table border=\"1\" class=\"dataframe\">\n",
       "  <thead>\n",
       "    <tr style=\"text-align: right;\">\n",
       "      <th></th>\n",
       "      <th>height</th>\n",
       "      <th>redCards</th>\n",
       "      <th>position</th>\n",
       "      <th>yellowCards</th>\n",
       "      <th>meanIAT</th>\n",
       "      <th>goals</th>\n",
       "      <th>yellowReds</th>\n",
       "      <th>weight</th>\n",
       "      <th>meanExp</th>\n",
       "      <th>seExp</th>\n",
       "      <th>seIAT</th>\n",
       "    </tr>\n",
       "  </thead>\n",
       "  <tbody>\n",
       "    <tr>\n",
       "      <th>0</th>\n",
       "      <td>182.0</td>\n",
       "      <td>0</td>\n",
       "      <td>2</td>\n",
       "      <td>19</td>\n",
       "      <td>0.346459</td>\n",
       "      <td>9</td>\n",
       "      <td>0</td>\n",
       "      <td>71.0</td>\n",
       "      <td>0.494575</td>\n",
       "      <td>0.004065</td>\n",
       "      <td>0.000652</td>\n",
       "    </tr>\n",
       "    <tr>\n",
       "      <th>1</th>\n",
       "      <td>183.0</td>\n",
       "      <td>1</td>\n",
       "      <td>407</td>\n",
       "      <td>42</td>\n",
       "      <td>0.348818</td>\n",
       "      <td>62</td>\n",
       "      <td>0</td>\n",
       "      <td>73.0</td>\n",
       "      <td>0.449220</td>\n",
       "      <td>0.000993</td>\n",
       "      <td>0.000219</td>\n",
       "    </tr>\n",
       "    <tr>\n",
       "      <th>2</th>\n",
       "      <td>165.0</td>\n",
       "      <td>0</td>\n",
       "      <td>408</td>\n",
       "      <td>11</td>\n",
       "      <td>0.345893</td>\n",
       "      <td>31</td>\n",
       "      <td>0</td>\n",
       "      <td>63.0</td>\n",
       "      <td>0.491482</td>\n",
       "      <td>0.002032</td>\n",
       "      <td>0.000367</td>\n",
       "    </tr>\n",
       "    <tr>\n",
       "      <th>3</th>\n",
       "      <td>178.0</td>\n",
       "      <td>1</td>\n",
       "      <td>409</td>\n",
       "      <td>31</td>\n",
       "      <td>0.346821</td>\n",
       "      <td>39</td>\n",
       "      <td>0</td>\n",
       "      <td>76.0</td>\n",
       "      <td>0.514693</td>\n",
       "      <td>0.013522</td>\n",
       "      <td>0.003334</td>\n",
       "    </tr>\n",
       "    <tr>\n",
       "      <th>4</th>\n",
       "      <td>180.0</td>\n",
       "      <td>2</td>\n",
       "      <td>1374</td>\n",
       "      <td>8</td>\n",
       "      <td>0.331600</td>\n",
       "      <td>1</td>\n",
       "      <td>4</td>\n",
       "      <td>73.0</td>\n",
       "      <td>0.335587</td>\n",
       "      <td>0.005296</td>\n",
       "      <td>0.001488</td>\n",
       "    </tr>\n",
       "  </tbody>\n",
       "</table>\n",
       "</div>"
      ],
      "text/plain": [
       "   height  redCards  position  yellowCards   meanIAT  goals  yellowReds  \\\n",
       "0   182.0         0         2           19  0.346459      9           0   \n",
       "1   183.0         1       407           42  0.348818     62           0   \n",
       "2   165.0         0       408           11  0.345893     31           0   \n",
       "3   178.0         1       409           31  0.346821     39           0   \n",
       "4   180.0         2      1374            8  0.331600      1           4   \n",
       "\n",
       "   weight   meanExp     seExp     seIAT  \n",
       "0    71.0  0.494575  0.004065  0.000652  \n",
       "1    73.0  0.449220  0.000993  0.000219  \n",
       "2    63.0  0.491482  0.002032  0.000367  \n",
       "3    76.0  0.514693  0.013522  0.003334  \n",
       "4    73.0  0.335587  0.005296  0.001488  "
      ]
     },
     "execution_count": 54,
     "metadata": {},
     "output_type": "execute_result"
    }
   ],
   "source": [
    "data2.head()"
   ]
  },
  {
   "cell_type": "code",
   "execution_count": 55,
   "metadata": {
    "collapsed": false
   },
   "outputs": [
    {
     "data": {
      "text/plain": [
       "0.85550632911392399"
      ]
     },
     "execution_count": 55,
     "metadata": {},
     "output_type": "execute_result"
    }
   ],
   "source": [
    "checkCrossValidationAccuracy(data2,labels)"
   ]
  },
  {
   "cell_type": "code",
   "execution_count": 56,
   "metadata": {
    "collapsed": false
   },
   "outputs": [
    {
     "data": {
      "text/plain": [
       "array([ 0.0583228 ,  0.02574049,  0.11685382,  0.08499388,  0.11913601,\n",
       "        0.07686574,  0.02679127,  0.06222561,  0.14671423,  0.1440564 ,\n",
       "        0.13829974])"
      ]
     },
     "execution_count": 56,
     "metadata": {},
     "output_type": "execute_result"
    }
   ],
   "source": [
    "clf = RandomForestClassifier(n_estimators=15)\n",
    "clf.fit(data2, labels['skintone'])\n",
    "clf.feature_importances_"
   ]
  },
  {
   "cell_type": "markdown",
   "metadata": {
    "collapsed": false
   },
   "source": [
    "Let's try to join the yellowReds and redCards columns"
   ]
  },
  {
   "cell_type": "code",
   "execution_count": 57,
   "metadata": {
    "collapsed": false
   },
   "outputs": [],
   "source": [
    "data3 = data2\n",
    "data3['redCards'] = data3['redCards'] + data3['yellowReds']\n",
    "data3 = data3.drop(\"yellowReds\", 1)"
   ]
  },
  {
   "cell_type": "code",
   "execution_count": 58,
   "metadata": {
    "collapsed": false
   },
   "outputs": [
    {
     "data": {
      "text/plain": [
       "0.85677215189873412"
      ]
     },
     "execution_count": 58,
     "metadata": {},
     "output_type": "execute_result"
    }
   ],
   "source": [
    "checkCrossValidationAccuracy(data3,labels)"
   ]
  },
  {
   "cell_type": "code",
   "execution_count": 59,
   "metadata": {
    "collapsed": false
   },
   "outputs": [
    {
     "data": {
      "text/plain": [
       "array([ 0.05765721,  0.03973273,  0.11765068,  0.08879132,  0.15894327,\n",
       "        0.07855399,  0.07139096,  0.13451057,  0.14357928,  0.10918998])"
      ]
     },
     "execution_count": 59,
     "metadata": {},
     "output_type": "execute_result"
    }
   ],
   "source": [
    "clf = RandomForestClassifier(n_estimators=15)\n",
    "clf.fit(data3, labels['skintone'])\n",
    "clf.feature_importances_"
   ]
  },
  {
   "cell_type": "markdown",
   "metadata": {
    "collapsed": true
   },
   "source": [
    "Let's also try to remove the position "
   ]
  },
  {
   "cell_type": "code",
   "execution_count": 60,
   "metadata": {
    "collapsed": true
   },
   "outputs": [],
   "source": [
    "data4 = data3.drop(\"position\", 1)"
   ]
  },
  {
   "cell_type": "code",
   "execution_count": 61,
   "metadata": {
    "collapsed": false
   },
   "outputs": [
    {
     "data": {
      "text/plain": [
       "0.85487341772151892"
      ]
     },
     "execution_count": 61,
     "metadata": {},
     "output_type": "execute_result"
    }
   ],
   "source": [
    "checkCrossValidationAccuracy(data4,labels)"
   ]
  },
  {
   "cell_type": "markdown",
   "metadata": {},
   "source": [
    "We can also try to join the yellow cards and red cards in one column named cards"
   ]
  },
  {
   "cell_type": "code",
   "execution_count": 62,
   "metadata": {
    "collapsed": false
   },
   "outputs": [
    {
     "data": {
      "text/html": [
       "<div>\n",
       "<table border=\"1\" class=\"dataframe\">\n",
       "  <thead>\n",
       "    <tr style=\"text-align: right;\">\n",
       "      <th></th>\n",
       "      <th>height</th>\n",
       "      <th>meanIAT</th>\n",
       "      <th>goals</th>\n",
       "      <th>weight</th>\n",
       "      <th>meanExp</th>\n",
       "      <th>seExp</th>\n",
       "      <th>seIAT</th>\n",
       "      <th>cards</th>\n",
       "    </tr>\n",
       "  </thead>\n",
       "  <tbody>\n",
       "    <tr>\n",
       "      <th>0</th>\n",
       "      <td>182.0</td>\n",
       "      <td>0.346459</td>\n",
       "      <td>9</td>\n",
       "      <td>71.0</td>\n",
       "      <td>0.494575</td>\n",
       "      <td>0.004065</td>\n",
       "      <td>0.000652</td>\n",
       "      <td>19</td>\n",
       "    </tr>\n",
       "    <tr>\n",
       "      <th>1</th>\n",
       "      <td>183.0</td>\n",
       "      <td>0.348818</td>\n",
       "      <td>62</td>\n",
       "      <td>73.0</td>\n",
       "      <td>0.449220</td>\n",
       "      <td>0.000993</td>\n",
       "      <td>0.000219</td>\n",
       "      <td>43</td>\n",
       "    </tr>\n",
       "    <tr>\n",
       "      <th>2</th>\n",
       "      <td>165.0</td>\n",
       "      <td>0.345893</td>\n",
       "      <td>31</td>\n",
       "      <td>63.0</td>\n",
       "      <td>0.491482</td>\n",
       "      <td>0.002032</td>\n",
       "      <td>0.000367</td>\n",
       "      <td>11</td>\n",
       "    </tr>\n",
       "    <tr>\n",
       "      <th>3</th>\n",
       "      <td>178.0</td>\n",
       "      <td>0.346821</td>\n",
       "      <td>39</td>\n",
       "      <td>76.0</td>\n",
       "      <td>0.514693</td>\n",
       "      <td>0.013522</td>\n",
       "      <td>0.003334</td>\n",
       "      <td>32</td>\n",
       "    </tr>\n",
       "    <tr>\n",
       "      <th>4</th>\n",
       "      <td>180.0</td>\n",
       "      <td>0.331600</td>\n",
       "      <td>1</td>\n",
       "      <td>73.0</td>\n",
       "      <td>0.335587</td>\n",
       "      <td>0.005296</td>\n",
       "      <td>0.001488</td>\n",
       "      <td>14</td>\n",
       "    </tr>\n",
       "  </tbody>\n",
       "</table>\n",
       "</div>"
      ],
      "text/plain": [
       "   height   meanIAT  goals  weight   meanExp     seExp     seIAT  cards\n",
       "0   182.0  0.346459      9    71.0  0.494575  0.004065  0.000652     19\n",
       "1   183.0  0.348818     62    73.0  0.449220  0.000993  0.000219     43\n",
       "2   165.0  0.345893     31    63.0  0.491482  0.002032  0.000367     11\n",
       "3   178.0  0.346821     39    76.0  0.514693  0.013522  0.003334     32\n",
       "4   180.0  0.331600      1    73.0  0.335587  0.005296  0.001488     14"
      ]
     },
     "execution_count": 62,
     "metadata": {},
     "output_type": "execute_result"
    }
   ],
   "source": [
    "data5 = data4\n",
    "data5['cards'] = data5['redCards'] + data5['yellowCards']\n",
    "data5 = data5.drop('redCards', 1)\n",
    "data5 = data5.drop('yellowCards', 1)\n",
    "data5.head()"
   ]
  },
  {
   "cell_type": "code",
   "execution_count": 63,
   "metadata": {
    "collapsed": false
   },
   "outputs": [
    {
     "data": {
      "text/plain": [
       "0.85549050632911394"
      ]
     },
     "execution_count": 63,
     "metadata": {},
     "output_type": "execute_result"
    }
   ],
   "source": [
    "checkCrossValidationAccuracy(data5,labels)"
   ]
  },
  {
   "cell_type": "code",
   "execution_count": 64,
   "metadata": {
    "collapsed": false
   },
   "outputs": [
    {
     "data": {
      "text/plain": [
       "array([ 0.07569136,  0.15879286,  0.0930808 ,  0.0831971 ,  0.15490577,\n",
       "        0.15881666,  0.15671139,  0.11880406])"
      ]
     },
     "execution_count": 64,
     "metadata": {},
     "output_type": "execute_result"
    }
   ],
   "source": [
    "clf = RandomForestClassifier(n_estimators=15)\n",
    "clf.fit(data5, labels['skintone'])\n",
    "clf.feature_importances_"
   ]
  },
  {
   "cell_type": "markdown",
   "metadata": {},
   "source": [
    "The final simplification that we can try is to eleminate all data that is not connected to the cards"
   ]
  },
  {
   "cell_type": "code",
   "execution_count": 65,
   "metadata": {
    "collapsed": true
   },
   "outputs": [],
   "source": [
    "data6 = data5.drop('height', 1)\n",
    "data6 = data6.drop(\"weight\", 1)"
   ]
  },
  {
   "cell_type": "code",
   "execution_count": 66,
   "metadata": {
    "collapsed": false
   },
   "outputs": [
    {
     "data": {
      "text/plain": [
       "0.85803006329113918"
      ]
     },
     "execution_count": 66,
     "metadata": {},
     "output_type": "execute_result"
    }
   ],
   "source": [
    "checkCrossValidationAccuracy(data6,labels) "
   ]
  },
  {
   "cell_type": "code",
   "execution_count": 67,
   "metadata": {
    "collapsed": false
   },
   "outputs": [
    {
     "data": {
      "text/plain": [
       "array([ 0.21153353,  0.11133297,  0.175815  ,  0.17975633,  0.19560038,\n",
       "        0.12596179])"
      ]
     },
     "execution_count": 67,
     "metadata": {},
     "output_type": "execute_result"
    }
   ],
   "source": [
    "clf =  RandomForestClassifier(n_estimators=15)\n",
    "clf.fit(data6, labels['skintone'])\n",
    "clf.feature_importances_"
   ]
  },
  {
   "cell_type": "markdown",
   "metadata": {},
   "source": [
    "We can conclude that we can get very different feature importances while still maintaining a high accuracy of our model "
   ]
  },
  {
   "cell_type": "markdown",
   "metadata": {},
   "source": [
    "## Bonus"
   ]
  },
  {
   "cell_type": "code",
   "execution_count": 68,
   "metadata": {
    "collapsed": false
   },
   "outputs": [],
   "source": [
    "from sklearn.learning_curve import learning_curve \n",
    "def plotLearningCurves (estimator, title, data, labels):\n",
    "    plt.figure()\n",
    "    plt.title(title)\n",
    "    plt.xlabel(\"Training examples\")\n",
    "    plt.ylabel(\"Score\")\n",
    "    train_sizes, train_scores, test_scores = learning_curve(estimator, data, labels, cv=20, n_jobs=1, train_sizes=np.linspace(.1, 1.0, 5))\n",
    "    train_scores_mean = np.mean(train_scores, axis=1)\n",
    "    train_scores_std = np.std(train_scores, axis=1)\n",
    "    test_scores_mean = np.mean(test_scores, axis=1)\n",
    "    test_scores_std = np.std(test_scores, axis=1)\n",
    "    plt.grid()\n",
    "\n",
    "    plt.fill_between(train_sizes, train_scores_mean - train_scores_std,\n",
    "                     train_scores_mean + train_scores_std, alpha=0.1,\n",
    "                     color=\"r\")\n",
    "    plt.fill_between(train_sizes, test_scores_mean - test_scores_std,\n",
    "                     test_scores_mean + test_scores_std, alpha=0.1, color=\"g\")\n",
    "    plt.plot(train_sizes, train_scores_mean, 'o-', color=\"r\",\n",
    "             label=\"Training score\")\n",
    "    plt.plot(train_sizes, test_scores_mean, 'o-', color=\"g\",\n",
    "             label=\"Cross-validation score\")\n",
    "\n",
    "    plt.legend(loc=\"best\")\n",
    "    return plt"
   ]
  },
  {
   "cell_type": "code",
   "execution_count": 69,
   "metadata": {
    "collapsed": false
   },
   "outputs": [
    {
     "data": {
      "text/plain": [
       "<module 'matplotlib.pyplot' from 'C:\\\\Users\\\\Admin\\\\Anaconda3\\\\lib\\\\site-packages\\\\matplotlib\\\\pyplot.py'>"
      ]
     },
     "execution_count": 69,
     "metadata": {},
     "output_type": "execute_result"
    },
    {
     "data": {
      "image/png": "[encoded data removed]",
      "text/plain": [
       "<matplotlib.figure.Figure at 0x1367a5c0>"
      ]
     },
     "metadata": {},
     "output_type": "display_data"
    }
   ],
   "source": [
    "plotLearningCurves(clf, \"Standard\", data6, labels['skintone'])"
   ]
  },
  {
   "cell_type": "markdown",
   "metadata": {},
   "source": [
    "This is the last estimator form part1 as you can see the accuracy cross-validation accuracy increases with the number of training examples we use. This implies that we are not overfitting which means our bias is low. You can also see that the varaince with the shading around the points is not 0 which again is a good sing that we are not overfitting. \n",
    "Now let's try to change the parameters and make the bias increase.\n"
   ]
  },
  {
   "cell_type": "code",
   "execution_count": 70,
   "metadata": {
    "collapsed": false
   },
   "outputs": [
    {
     "data": {
      "text/plain": [
       "<module 'matplotlib.pyplot' from 'C:\\\\Users\\\\Admin\\\\Anaconda3\\\\lib\\\\site-packages\\\\matplotlib\\\\pyplot.py'>"
      ]
     },
     "execution_count": 70,
     "metadata": {},
     "output_type": "execute_result"
    },
    {
     "data": {
      "image/png": "[encoded data removed]",
      "text/plain": [
       "<matplotlib.figure.Figure at 0x124b71d0>"
      ]
     },
     "metadata": {},
     "output_type": "display_data"
    }
   ],
   "source": [
    "clf1 = RandomForestClassifier(n_estimators=1, max_features=6,  min_samples_leaf=20, max_depth=30, random_state=7)\n",
    "plotLearningCurves(clf1, \"Standard\", data6, labels['skintone'])"
   ]
  },
  {
   "cell_type": "markdown",
   "metadata": {},
   "source": [
    "We can see that the new model has a relativly high bias. At first, the cross-validation score improves with the increase in Training examples, but soon it starts decreasing, indicating that the model is overfiiting to some degree. We can also see that the variance is also very hihgh. I fixed the random_state of the Classifier so that you get the same plot with each execution.\n"
   ]
  },
  {
   "cell_type": "markdown",
   "metadata": {
    "collapsed": true
   },
   "source": [
    "## PART 2"
   ]
  },
  {
   "cell_type": "code",
   "execution_count": 71,
   "metadata": {
    "collapsed": true
   },
   "outputs": [],
   "source": [
    "import sklearn\n",
    "from sklearn.cluster import KMeans\n",
    "from sklearn.metrics import silhouette_samples, silhouette_score\n",
    "from sklearn.decomposition import PCA\n",
    "from sklearn.preprocessing import scale"
   ]
  },
  {
   "cell_type": "markdown",
   "metadata": {},
   "source": [
    "We recuperate the aggregated dataframe we computed earlier"
   ]
  },
  {
   "cell_type": "code",
   "execution_count": 72,
   "metadata": {
    "collapsed": false
   },
   "outputs": [
    {
     "data": {
      "text/html": [
       "<div>\n",
       "<table border=\"1\" class=\"dataframe\">\n",
       "  <thead>\n",
       "    <tr style=\"text-align: right;\">\n",
       "      <th></th>\n",
       "      <th>height</th>\n",
       "      <th>redCards</th>\n",
       "      <th>games</th>\n",
       "      <th>position</th>\n",
       "      <th>yellowCards</th>\n",
       "      <th>ties</th>\n",
       "      <th>skintone</th>\n",
       "      <th>leagueCountry</th>\n",
       "      <th>meanIAT</th>\n",
       "      <th>defeats</th>\n",
       "      <th>goals</th>\n",
       "      <th>yellowReds</th>\n",
       "      <th>weight</th>\n",
       "      <th>meanExp</th>\n",
       "      <th>seExp</th>\n",
       "      <th>victories</th>\n",
       "      <th>seIAT</th>\n",
       "      <th>club</th>\n",
       "    </tr>\n",
       "  </thead>\n",
       "  <tbody>\n",
       "    <tr>\n",
       "      <th>0</th>\n",
       "      <td>182.0</td>\n",
       "      <td>0</td>\n",
       "      <td>654</td>\n",
       "      <td>5</td>\n",
       "      <td>19</td>\n",
       "      <td>179</td>\n",
       "      <td>0.125</td>\n",
       "      <td>England</td>\n",
       "      <td>0.346459</td>\n",
       "      <td>228</td>\n",
       "      <td>9</td>\n",
       "      <td>0</td>\n",
       "      <td>71.0</td>\n",
       "      <td>0.494575</td>\n",
       "      <td>0.004065</td>\n",
       "      <td>247</td>\n",
       "      <td>0.000652</td>\n",
       "      <td>Fulham FC</td>\n",
       "    </tr>\n",
       "    <tr>\n",
       "      <th>1</th>\n",
       "      <td>183.0</td>\n",
       "      <td>1</td>\n",
       "      <td>336</td>\n",
       "      <td>745</td>\n",
       "      <td>42</td>\n",
       "      <td>73</td>\n",
       "      <td>0.125</td>\n",
       "      <td>Germany</td>\n",
       "      <td>0.348818</td>\n",
       "      <td>122</td>\n",
       "      <td>62</td>\n",
       "      <td>0</td>\n",
       "      <td>73.0</td>\n",
       "      <td>0.449220</td>\n",
       "      <td>0.000993</td>\n",
       "      <td>141</td>\n",
       "      <td>0.000219</td>\n",
       "      <td>Werder Bremen</td>\n",
       "    </tr>\n",
       "    <tr>\n",
       "      <th>2</th>\n",
       "      <td>165.0</td>\n",
       "      <td>0</td>\n",
       "      <td>412</td>\n",
       "      <td>746</td>\n",
       "      <td>11</td>\n",
       "      <td>97</td>\n",
       "      <td>0.250</td>\n",
       "      <td>England</td>\n",
       "      <td>0.345893</td>\n",
       "      <td>115</td>\n",
       "      <td>31</td>\n",
       "      <td>0</td>\n",
       "      <td>63.0</td>\n",
       "      <td>0.491482</td>\n",
       "      <td>0.002032</td>\n",
       "      <td>200</td>\n",
       "      <td>0.000367</td>\n",
       "      <td>Tottenham Hotspur</td>\n",
       "    </tr>\n",
       "    <tr>\n",
       "      <th>3</th>\n",
       "      <td>178.0</td>\n",
       "      <td>1</td>\n",
       "      <td>260</td>\n",
       "      <td>747</td>\n",
       "      <td>31</td>\n",
       "      <td>42</td>\n",
       "      <td>0.000</td>\n",
       "      <td>England</td>\n",
       "      <td>0.346821</td>\n",
       "      <td>68</td>\n",
       "      <td>39</td>\n",
       "      <td>0</td>\n",
       "      <td>76.0</td>\n",
       "      <td>0.514693</td>\n",
       "      <td>0.013522</td>\n",
       "      <td>150</td>\n",
       "      <td>0.003334</td>\n",
       "      <td>Arsenal FC</td>\n",
       "    </tr>\n",
       "    <tr>\n",
       "      <th>4</th>\n",
       "      <td>180.0</td>\n",
       "      <td>2</td>\n",
       "      <td>124</td>\n",
       "      <td>4418</td>\n",
       "      <td>8</td>\n",
       "      <td>40</td>\n",
       "      <td>0.250</td>\n",
       "      <td>France</td>\n",
       "      <td>0.331600</td>\n",
       "      <td>43</td>\n",
       "      <td>1</td>\n",
       "      <td>4</td>\n",
       "      <td>73.0</td>\n",
       "      <td>0.335587</td>\n",
       "      <td>0.005296</td>\n",
       "      <td>41</td>\n",
       "      <td>0.001488</td>\n",
       "      <td>Montpellier HSC</td>\n",
       "    </tr>\n",
       "  </tbody>\n",
       "</table>\n",
       "</div>"
      ],
      "text/plain": [
       "   height  redCards  games  position  yellowCards  ties  skintone  \\\n",
       "0   182.0         0    654         5           19   179     0.125   \n",
       "1   183.0         1    336       745           42    73     0.125   \n",
       "2   165.0         0    412       746           11    97     0.250   \n",
       "3   178.0         1    260       747           31    42     0.000   \n",
       "4   180.0         2    124      4418            8    40     0.250   \n",
       "\n",
       "  leagueCountry   meanIAT  defeats  goals  yellowReds  weight   meanExp  \\\n",
       "0       England  0.346459      228      9           0    71.0  0.494575   \n",
       "1       Germany  0.348818      122     62           0    73.0  0.449220   \n",
       "2       England  0.345893      115     31           0    63.0  0.491482   \n",
       "3       England  0.346821       68     39           0    76.0  0.514693   \n",
       "4        France  0.331600       43      1           4    73.0  0.335587   \n",
       "\n",
       "      seExp  victories     seIAT               club  \n",
       "0  0.004065        247  0.000652          Fulham FC  \n",
       "1  0.000993        141  0.000219      Werder Bremen  \n",
       "2  0.002032        200  0.000367  Tottenham Hotspur  \n",
       "3  0.013522        150  0.003334         Arsenal FC  \n",
       "4  0.005296         41  0.001488    Montpellier HSC  "
      ]
     },
     "execution_count": 72,
     "metadata": {},
     "output_type": "execute_result"
    }
   ],
   "source": [
    "part2df = players_grouped.agg(fdict)\n",
    "part2df.reset_index(inplace=True, drop=True)\n",
    "part2df.head()"
   ]
  },
  {
   "cell_type": "markdown",
   "metadata": {},
   "source": [
    "We only want the numeric data"
   ]
  },
  {
   "cell_type": "code",
   "execution_count": 73,
   "metadata": {
    "collapsed": true
   },
   "outputs": [],
   "source": [
    "part2df = part2df._get_numeric_data()"
   ]
  },
  {
   "cell_type": "code",
   "execution_count": 74,
   "metadata": {
    "collapsed": false,
    "scrolled": false
   },
   "outputs": [
    {
     "data": {
      "text/html": [
       "<div>\n",
       "<table border=\"1\" class=\"dataframe\">\n",
       "  <thead>\n",
       "    <tr style=\"text-align: right;\">\n",
       "      <th></th>\n",
       "      <th>height</th>\n",
       "      <th>redCards</th>\n",
       "      <th>games</th>\n",
       "      <th>position</th>\n",
       "      <th>yellowCards</th>\n",
       "      <th>ties</th>\n",
       "      <th>skintone</th>\n",
       "      <th>meanIAT</th>\n",
       "      <th>defeats</th>\n",
       "      <th>goals</th>\n",
       "      <th>yellowReds</th>\n",
       "      <th>weight</th>\n",
       "      <th>meanExp</th>\n",
       "      <th>seExp</th>\n",
       "      <th>victories</th>\n",
       "      <th>seIAT</th>\n",
       "    </tr>\n",
       "  </thead>\n",
       "  <tbody>\n",
       "    <tr>\n",
       "      <th>0</th>\n",
       "      <td>182.0</td>\n",
       "      <td>0</td>\n",
       "      <td>654</td>\n",
       "      <td>5</td>\n",
       "      <td>19</td>\n",
       "      <td>179</td>\n",
       "      <td>0.125</td>\n",
       "      <td>0.346459</td>\n",
       "      <td>228</td>\n",
       "      <td>9</td>\n",
       "      <td>0</td>\n",
       "      <td>71.0</td>\n",
       "      <td>0.494575</td>\n",
       "      <td>0.004065</td>\n",
       "      <td>247</td>\n",
       "      <td>0.000652</td>\n",
       "    </tr>\n",
       "    <tr>\n",
       "      <th>1</th>\n",
       "      <td>183.0</td>\n",
       "      <td>1</td>\n",
       "      <td>336</td>\n",
       "      <td>745</td>\n",
       "      <td>42</td>\n",
       "      <td>73</td>\n",
       "      <td>0.125</td>\n",
       "      <td>0.348818</td>\n",
       "      <td>122</td>\n",
       "      <td>62</td>\n",
       "      <td>0</td>\n",
       "      <td>73.0</td>\n",
       "      <td>0.449220</td>\n",
       "      <td>0.000993</td>\n",
       "      <td>141</td>\n",
       "      <td>0.000219</td>\n",
       "    </tr>\n",
       "    <tr>\n",
       "      <th>2</th>\n",
       "      <td>165.0</td>\n",
       "      <td>0</td>\n",
       "      <td>412</td>\n",
       "      <td>746</td>\n",
       "      <td>11</td>\n",
       "      <td>97</td>\n",
       "      <td>0.250</td>\n",
       "      <td>0.345893</td>\n",
       "      <td>115</td>\n",
       "      <td>31</td>\n",
       "      <td>0</td>\n",
       "      <td>63.0</td>\n",
       "      <td>0.491482</td>\n",
       "      <td>0.002032</td>\n",
       "      <td>200</td>\n",
       "      <td>0.000367</td>\n",
       "    </tr>\n",
       "    <tr>\n",
       "      <th>3</th>\n",
       "      <td>178.0</td>\n",
       "      <td>1</td>\n",
       "      <td>260</td>\n",
       "      <td>747</td>\n",
       "      <td>31</td>\n",
       "      <td>42</td>\n",
       "      <td>0.000</td>\n",
       "      <td>0.346821</td>\n",
       "      <td>68</td>\n",
       "      <td>39</td>\n",
       "      <td>0</td>\n",
       "      <td>76.0</td>\n",
       "      <td>0.514693</td>\n",
       "      <td>0.013522</td>\n",
       "      <td>150</td>\n",
       "      <td>0.003334</td>\n",
       "    </tr>\n",
       "    <tr>\n",
       "      <th>4</th>\n",
       "      <td>180.0</td>\n",
       "      <td>2</td>\n",
       "      <td>124</td>\n",
       "      <td>4418</td>\n",
       "      <td>8</td>\n",
       "      <td>40</td>\n",
       "      <td>0.250</td>\n",
       "      <td>0.331600</td>\n",
       "      <td>43</td>\n",
       "      <td>1</td>\n",
       "      <td>4</td>\n",
       "      <td>73.0</td>\n",
       "      <td>0.335587</td>\n",
       "      <td>0.005296</td>\n",
       "      <td>41</td>\n",
       "      <td>0.001488</td>\n",
       "    </tr>\n",
       "  </tbody>\n",
       "</table>\n",
       "</div>"
      ],
      "text/plain": [
       "   height  redCards  games  position  yellowCards  ties  skintone   meanIAT  \\\n",
       "0   182.0         0    654         5           19   179     0.125  0.346459   \n",
       "1   183.0         1    336       745           42    73     0.125  0.348818   \n",
       "2   165.0         0    412       746           11    97     0.250  0.345893   \n",
       "3   178.0         1    260       747           31    42     0.000  0.346821   \n",
       "4   180.0         2    124      4418            8    40     0.250  0.331600   \n",
       "\n",
       "   defeats  goals  yellowReds  weight   meanExp     seExp  victories     seIAT  \n",
       "0      228      9           0    71.0  0.494575  0.004065        247  0.000652  \n",
       "1      122     62           0    73.0  0.449220  0.000993        141  0.000219  \n",
       "2      115     31           0    63.0  0.491482  0.002032        200  0.000367  \n",
       "3       68     39           0    76.0  0.514693  0.013522        150  0.003334  \n",
       "4       43      1           4    73.0  0.335587  0.005296         41  0.001488  "
      ]
     },
     "execution_count": 74,
     "metadata": {},
     "output_type": "execute_result"
    }
   ],
   "source": [
    "part2df.head()"
   ]
  },
  {
   "cell_type": "markdown",
   "metadata": {},
   "source": [
    "We transform skintone into discrete values 0 and 1"
   ]
  },
  {
   "cell_type": "code",
   "execution_count": 75,
   "metadata": {
    "collapsed": false
   },
   "outputs": [
    {
     "data": {
      "text/html": [
       "<div>\n",
       "<table border=\"1\" class=\"dataframe\">\n",
       "  <thead>\n",
       "    <tr style=\"text-align: right;\">\n",
       "      <th></th>\n",
       "      <th>height</th>\n",
       "      <th>redCards</th>\n",
       "      <th>games</th>\n",
       "      <th>position</th>\n",
       "      <th>yellowCards</th>\n",
       "      <th>ties</th>\n",
       "      <th>skintone</th>\n",
       "      <th>meanIAT</th>\n",
       "      <th>defeats</th>\n",
       "      <th>goals</th>\n",
       "      <th>yellowReds</th>\n",
       "      <th>weight</th>\n",
       "      <th>meanExp</th>\n",
       "      <th>seExp</th>\n",
       "      <th>victories</th>\n",
       "      <th>seIAT</th>\n",
       "    </tr>\n",
       "  </thead>\n",
       "  <tbody>\n",
       "    <tr>\n",
       "      <th>0</th>\n",
       "      <td>182.0</td>\n",
       "      <td>0</td>\n",
       "      <td>654</td>\n",
       "      <td>5</td>\n",
       "      <td>19</td>\n",
       "      <td>179</td>\n",
       "      <td>0</td>\n",
       "      <td>0.346459</td>\n",
       "      <td>228</td>\n",
       "      <td>9</td>\n",
       "      <td>0</td>\n",
       "      <td>71.0</td>\n",
       "      <td>0.494575</td>\n",
       "      <td>0.004065</td>\n",
       "      <td>247</td>\n",
       "      <td>0.000652</td>\n",
       "    </tr>\n",
       "    <tr>\n",
       "      <th>1</th>\n",
       "      <td>183.0</td>\n",
       "      <td>1</td>\n",
       "      <td>336</td>\n",
       "      <td>745</td>\n",
       "      <td>42</td>\n",
       "      <td>73</td>\n",
       "      <td>0</td>\n",
       "      <td>0.348818</td>\n",
       "      <td>122</td>\n",
       "      <td>62</td>\n",
       "      <td>0</td>\n",
       "      <td>73.0</td>\n",
       "      <td>0.449220</td>\n",
       "      <td>0.000993</td>\n",
       "      <td>141</td>\n",
       "      <td>0.000219</td>\n",
       "    </tr>\n",
       "    <tr>\n",
       "      <th>2</th>\n",
       "      <td>165.0</td>\n",
       "      <td>0</td>\n",
       "      <td>412</td>\n",
       "      <td>746</td>\n",
       "      <td>11</td>\n",
       "      <td>97</td>\n",
       "      <td>0</td>\n",
       "      <td>0.345893</td>\n",
       "      <td>115</td>\n",
       "      <td>31</td>\n",
       "      <td>0</td>\n",
       "      <td>63.0</td>\n",
       "      <td>0.491482</td>\n",
       "      <td>0.002032</td>\n",
       "      <td>200</td>\n",
       "      <td>0.000367</td>\n",
       "    </tr>\n",
       "    <tr>\n",
       "      <th>3</th>\n",
       "      <td>178.0</td>\n",
       "      <td>1</td>\n",
       "      <td>260</td>\n",
       "      <td>747</td>\n",
       "      <td>31</td>\n",
       "      <td>42</td>\n",
       "      <td>0</td>\n",
       "      <td>0.346821</td>\n",
       "      <td>68</td>\n",
       "      <td>39</td>\n",
       "      <td>0</td>\n",
       "      <td>76.0</td>\n",
       "      <td>0.514693</td>\n",
       "      <td>0.013522</td>\n",
       "      <td>150</td>\n",
       "      <td>0.003334</td>\n",
       "    </tr>\n",
       "    <tr>\n",
       "      <th>4</th>\n",
       "      <td>180.0</td>\n",
       "      <td>2</td>\n",
       "      <td>124</td>\n",
       "      <td>4418</td>\n",
       "      <td>8</td>\n",
       "      <td>40</td>\n",
       "      <td>0</td>\n",
       "      <td>0.331600</td>\n",
       "      <td>43</td>\n",
       "      <td>1</td>\n",
       "      <td>4</td>\n",
       "      <td>73.0</td>\n",
       "      <td>0.335587</td>\n",
       "      <td>0.005296</td>\n",
       "      <td>41</td>\n",
       "      <td>0.001488</td>\n",
       "    </tr>\n",
       "  </tbody>\n",
       "</table>\n",
       "</div>"
      ],
      "text/plain": [
       "   height  redCards  games  position  yellowCards  ties  skintone   meanIAT  \\\n",
       "0   182.0         0    654         5           19   179         0  0.346459   \n",
       "1   183.0         1    336       745           42    73         0  0.348818   \n",
       "2   165.0         0    412       746           11    97         0  0.345893   \n",
       "3   178.0         1    260       747           31    42         0  0.346821   \n",
       "4   180.0         2    124      4418            8    40         0  0.331600   \n",
       "\n",
       "   defeats  goals  yellowReds  weight   meanExp     seExp  victories     seIAT  \n",
       "0      228      9           0    71.0  0.494575  0.004065        247  0.000652  \n",
       "1      122     62           0    73.0  0.449220  0.000993        141  0.000219  \n",
       "2      115     31           0    63.0  0.491482  0.002032        200  0.000367  \n",
       "3       68     39           0    76.0  0.514693  0.013522        150  0.003334  \n",
       "4       43      1           4    73.0  0.335587  0.005296         41  0.001488  "
      ]
     },
     "execution_count": 75,
     "metadata": {},
     "output_type": "execute_result"
    }
   ],
   "source": [
    "part2df['skintone'] = part2df['skintone'].apply(lambda x: 1 if x>=0.5 else 0)\n",
    "part2df.head()"
   ]
  },
  {
   "cell_type": "markdown",
   "metadata": {},
   "source": [
    "We then drop rows that contain at least one NaN, because KMeans can't work with that"
   ]
  },
  {
   "cell_type": "code",
   "execution_count": 76,
   "metadata": {
    "collapsed": false
   },
   "outputs": [],
   "source": [
    "part2df.dropna(inplace=True)"
   ]
  },
  {
   "cell_type": "code",
   "execution_count": 77,
   "metadata": {
    "collapsed": false
   },
   "outputs": [],
   "source": [
    "#part2df.corr()['skintone']"
   ]
  },
  {
   "cell_type": "markdown",
   "metadata": {},
   "source": [
    "We will now remove one column at a time and print the result.\n",
    "First we will put skintone in first position since we don't want to drop it"
   ]
  },
  {
   "cell_type": "code",
   "execution_count": 89,
   "metadata": {
    "collapsed": false,
    "scrolled": false
   },
   "outputs": [
    {
     "name": "stderr",
     "output_type": "stream",
     "text": [
      "C:\\Users\\Admin\\Anaconda3\\lib\\site-packages\\sklearn\\utils\\validation.py:420: DataConversionWarning: Data with input dtype int64 was converted to float64 by the scale function.\n",
      "  warnings.warn(msg, DataConversionWarning)\n",
      "C:\\Users\\Admin\\Anaconda3\\lib\\site-packages\\sklearn\\utils\\validation.py:420: DataConversionWarning: Data with input dtype int64 was converted to float64 by the scale function.\n",
      "  warnings.warn(msg, DataConversionWarning)\n",
      "C:\\Users\\Admin\\Anaconda3\\lib\\site-packages\\sklearn\\utils\\validation.py:420: DataConversionWarning: Data with input dtype int64 was converted to float64 by the scale function.\n",
      "  warnings.warn(msg, DataConversionWarning)\n",
      "C:\\Users\\Admin\\Anaconda3\\lib\\site-packages\\sklearn\\utils\\validation.py:420: DataConversionWarning: Data with input dtype int64 was converted to float64 by the scale function.\n",
      "  warnings.warn(msg, DataConversionWarning)\n",
      "C:\\Users\\Admin\\Anaconda3\\lib\\site-packages\\sklearn\\utils\\validation.py:420: DataConversionWarning: Data with input dtype int64 was converted to float64 by the scale function.\n",
      "  warnings.warn(msg, DataConversionWarning)\n",
      "C:\\Users\\Admin\\Anaconda3\\lib\\site-packages\\sklearn\\utils\\validation.py:420: DataConversionWarning: Data with input dtype int64 was converted to float64 by the scale function.\n",
      "  warnings.warn(msg, DataConversionWarning)\n",
      "C:\\Users\\Admin\\Anaconda3\\lib\\site-packages\\sklearn\\utils\\validation.py:420: DataConversionWarning: Data with input dtype int64 was converted to float64 by the scale function.\n",
      "  warnings.warn(msg, DataConversionWarning)\n",
      "C:\\Users\\Admin\\Anaconda3\\lib\\site-packages\\sklearn\\utils\\validation.py:420: DataConversionWarning: Data with input dtype int64 was converted to float64 by the scale function.\n",
      "  warnings.warn(msg, DataConversionWarning)\n",
      "C:\\Users\\Admin\\Anaconda3\\lib\\site-packages\\sklearn\\utils\\validation.py:420: DataConversionWarning: Data with input dtype int64 was converted to float64 by the scale function.\n",
      "  warnings.warn(msg, DataConversionWarning)\n"
     ]
    },
    {
     "data": {
      "text/html": [
       "<div>\n",
       "<table border=\"1\" class=\"dataframe\">\n",
       "  <thead>\n",
       "    <tr style=\"text-align: right;\">\n",
       "      <th></th>\n",
       "      <th>skintone</th>\n",
       "      <th>redCards</th>\n",
       "      <th>games</th>\n",
       "      <th>position</th>\n",
       "      <th>yellowCards</th>\n",
       "      <th>ties</th>\n",
       "      <th>height</th>\n",
       "      <th>meanIAT</th>\n",
       "      <th>defeats</th>\n",
       "      <th>goals</th>\n",
       "      <th>yellowReds</th>\n",
       "      <th>weight</th>\n",
       "      <th>meanExp</th>\n",
       "      <th>seExp</th>\n",
       "      <th>victories</th>\n",
       "      <th>seIAT</th>\n",
       "    </tr>\n",
       "  </thead>\n",
       "  <tbody>\n",
       "    <tr>\n",
       "      <th>0</th>\n",
       "      <td>0</td>\n",
       "      <td>-0.755506</td>\n",
       "      <td>2.932516</td>\n",
       "      <td>-0.408430</td>\n",
       "      <td>-0.507984</td>\n",
       "      <td>3.601954</td>\n",
       "      <td>-0.006355</td>\n",
       "      <td>-0.145724</td>\n",
       "      <td>3.747361</td>\n",
       "      <td>-0.456838</td>\n",
       "      <td>-0.688097</td>\n",
       "      <td>-0.708761</td>\n",
       "      <td>0.324131</td>\n",
       "      <td>0.256112</td>\n",
       "      <td>1.811847</td>\n",
       "      <td>0.041642</td>\n",
       "    </tr>\n",
       "    <tr>\n",
       "      <th>1</th>\n",
       "      <td>0</td>\n",
       "      <td>-0.010480</td>\n",
       "      <td>0.692276</td>\n",
       "      <td>-0.305393</td>\n",
       "      <td>0.411237</td>\n",
       "      <td>0.477676</td>\n",
       "      <td>0.141991</td>\n",
       "      <td>0.030067</td>\n",
       "      <td>1.163363</td>\n",
       "      <td>0.814036</td>\n",
       "      <td>-0.688097</td>\n",
       "      <td>-0.427201</td>\n",
       "      <td>-0.150731</td>\n",
       "      <td>-0.395449</td>\n",
       "      <td>0.443326</td>\n",
       "      <td>-0.377080</td>\n",
       "    </tr>\n",
       "    <tr>\n",
       "      <th>2</th>\n",
       "      <td>0</td>\n",
       "      <td>-0.755506</td>\n",
       "      <td>1.227679</td>\n",
       "      <td>-0.305254</td>\n",
       "      <td>-0.827713</td>\n",
       "      <td>1.185060</td>\n",
       "      <td>-2.528231</td>\n",
       "      <td>-0.187913</td>\n",
       "      <td>0.992722</td>\n",
       "      <td>0.070694</td>\n",
       "      <td>-0.688097</td>\n",
       "      <td>-1.835001</td>\n",
       "      <td>0.291746</td>\n",
       "      <td>-0.175018</td>\n",
       "      <td>1.205050</td>\n",
       "      <td>-0.233600</td>\n",
       "    </tr>\n",
       "    <tr>\n",
       "      <th>3</th>\n",
       "      <td>0</td>\n",
       "      <td>-0.010480</td>\n",
       "      <td>0.156872</td>\n",
       "      <td>-0.305115</td>\n",
       "      <td>-0.028390</td>\n",
       "      <td>-0.436028</td>\n",
       "      <td>-0.599738</td>\n",
       "      <td>-0.118738</td>\n",
       "      <td>-0.153013</td>\n",
       "      <td>0.262524</td>\n",
       "      <td>-0.688097</td>\n",
       "      <td>-0.004861</td>\n",
       "      <td>0.534771</td>\n",
       "      <td>2.261776</td>\n",
       "      <td>0.559521</td>\n",
       "      <td>2.635461</td>\n",
       "    </tr>\n",
       "    <tr>\n",
       "      <th>4</th>\n",
       "      <td>0</td>\n",
       "      <td>0.734547</td>\n",
       "      <td>-0.801218</td>\n",
       "      <td>0.206032</td>\n",
       "      <td>-0.947611</td>\n",
       "      <td>-0.494976</td>\n",
       "      <td>-0.303046</td>\n",
       "      <td>-1.252946</td>\n",
       "      <td>-0.762446</td>\n",
       "      <td>-0.648668</td>\n",
       "      <td>2.179815</td>\n",
       "      <td>-0.427201</td>\n",
       "      <td>-1.340466</td>\n",
       "      <td>0.517212</td>\n",
       "      <td>-0.847731</td>\n",
       "      <td>0.850192</td>\n",
       "    </tr>\n",
       "  </tbody>\n",
       "</table>\n",
       "</div>"
      ],
      "text/plain": [
       "   skintone  redCards     games  position  yellowCards      ties    height  \\\n",
       "0         0 -0.755506  2.932516 -0.408430    -0.507984  3.601954 -0.006355   \n",
       "1         0 -0.010480  0.692276 -0.305393     0.411237  0.477676  0.141991   \n",
       "2         0 -0.755506  1.227679 -0.305254    -0.827713  1.185060 -2.528231   \n",
       "3         0 -0.010480  0.156872 -0.305115    -0.028390 -0.436028 -0.599738   \n",
       "4         0  0.734547 -0.801218  0.206032    -0.947611 -0.494976 -0.303046   \n",
       "\n",
       "    meanIAT   defeats     goals  yellowReds    weight   meanExp     seExp  \\\n",
       "0 -0.145724  3.747361 -0.456838   -0.688097 -0.708761  0.324131  0.256112   \n",
       "1  0.030067  1.163363  0.814036   -0.688097 -0.427201 -0.150731 -0.395449   \n",
       "2 -0.187913  0.992722  0.070694   -0.688097 -1.835001  0.291746 -0.175018   \n",
       "3 -0.118738 -0.153013  0.262524   -0.688097 -0.004861  0.534771  2.261776   \n",
       "4 -1.252946 -0.762446 -0.648668    2.179815 -0.427201 -1.340466  0.517212   \n",
       "\n",
       "   victories     seIAT  \n",
       "0   1.811847  0.041642  \n",
       "1   0.443326 -0.377080  \n",
       "2   1.205050 -0.233600  \n",
       "3   0.559521  2.635461  \n",
       "4  -0.847731  0.850192  "
      ]
     },
     "execution_count": 89,
     "metadata": {},
     "output_type": "execute_result"
    }
   ],
   "source": [
    "cols = part2df.columns.tolist()\n",
    "for i in range (0, len(cols)):\n",
    "    if(cols[i] == 'skintone'):\n",
    "        cols[0], cols[i] = cols[i], cols[0] #put skintone in first column position, put the old first column where skintone wass\n",
    "shortenedDF = part2df[cols]\n",
    " #scale(shortenedDF)\n",
    "shortenedDF[shortenedDF.columns[1:]]= shortenedDF[shortenedDF.columns[1:]].apply(lambda x: scale(x))\n",
    "shortenedDF.head()\n",
    "#shortenedDF = shortenedDF.drop('position', axis=1) #this column pretty much ruins everything so maybe we should remove it"
   ]
  },
  {
   "cell_type": "markdown",
   "metadata": {},
   "source": [
    " We now start dropping one column at a time and cluster after each step"
   ]
  },
  {
   "cell_type": "code",
   "execution_count": null,
   "metadata": {
    "collapsed": false
   },
   "outputs": [],
   "source": [
    "kmean = KMeans(n_clusters=2, init='k-means++', n_init=10, max_iter=300, tol=0.0001, precompute_distances='auto', verbose=0, random_state=None, copy_x=True, n_jobs=1)\n",
    "pca_2 = PCA(2)\n",
    "\n",
    "silhouette_scores = []\n",
    "avg_skintones = []\n",
    "for i in range (shortenedDF.shape[1]-1,  0, -1):\n",
    "    #shortenedDF = shortenedDF.drop(shortenedDF.columns[i], axis=1)\n",
    "    kmean.fit(shortenedDF)\n",
    "    labels = kmean.labels_\n",
    "    silhouette_scores.append(sklearn.metrics.silhouette_score(shortenedDF, labels, metric='euclidean'))\n",
    "    avg_skintones.append(shortenedDF.groupby(labels).mean()['skintone'].values)\n",
    "    #We'll now use \"principal component analysis\" to plot the output, PCA tries to merge the columns to be able to print them in 2D while keeping the structure of the multidimensional clusters\n",
    "    plot_columns = pca_2.fit_transform(shortenedDF)\n",
    "    plt.scatter(x=plot_columns[:,0], y=plot_columns[:,1], c=labels)\n",
    "    plt.title(shortenedDF.columns.tolist())\n",
    "    plt.show()\n",
    "    shortenedDF = shortenedDF.drop(shortenedDF.columns[i], axis=1)"
   ]
  },
  {
   "cell_type": "code",
   "execution_count": 85,
   "metadata": {
    "collapsed": false
   },
   "outputs": [
    {
     "data": {
      "text/plain": [
       "[0.23994070229063716,\n",
       " 0.24438034427784736,\n",
       " 0.22241037442998363,\n",
       " 0.23273068532939437,\n",
       " 0.25289650824257343,\n",
       " 0.27311353966266633,\n",
       " 0.28409054269372808,\n",
       " 0.2924237614103225,\n",
       " 0.27100976267087817,\n",
       " 0.32000507629669167,\n",
       " 0.38823724084426964,\n",
       " 0.38191286728224549,\n",
       " 0.38315668609867404,\n",
       " 0.43233799113189247,\n",
       " 0.60635817041186268]"
      ]
     },
     "execution_count": 85,
     "metadata": {},
     "output_type": "execute_result"
    }
   ],
   "source": [
    "silhouette_scores"
   ]
  },
  {
   "cell_type": "code",
   "execution_count": 86,
   "metadata": {
    "collapsed": false
   },
   "outputs": [
    {
     "data": {
      "text/plain": [
       "[array([ 0.22727273,  0.24903475]),\n",
       " array([ 0.22263451,  0.25170732]),\n",
       " array([ 0.2287695 ,  0.24924012]),\n",
       " array([ 0.25226131,  0.22319859]),\n",
       " array([ 0.22631579,  0.25050302]),\n",
       " array([ 0.22564103,  0.25127681]),\n",
       " array([ 0.25280326,  0.22298456]),\n",
       " array([ 0.255     ,  0.21808511]),\n",
       " array([ 0.22302158,  0.25198413]),\n",
       " array([ 0.22302158,  0.25198413]),\n",
       " array([ 0.22302158,  0.25198413]),\n",
       " array([ 0.21503132,  0.25345622]),\n",
       " array([ 0.23029046,  0.24676525]),\n",
       " array([ 0.23739496,  0.24356618]),\n",
       " array([ 0.23313407,  0.26717557])]"
      ]
     },
     "execution_count": 86,
     "metadata": {},
     "output_type": "execute_result"
    }
   ],
   "source": [
    "avg_skintones"
   ]
  },
  {
   "cell_type": "markdown",
   "metadata": {
    "collapsed": true
   },
   "source": [
    "It would seem the repartition of skintone per cluster is pretty much equivalent for all of them"
   ]
  },
  {
   "cell_type": "code",
   "execution_count": null,
   "metadata": {
    "collapsed": true
   },
   "outputs": [],
   "source": []
  }
 ],
 "metadata": {
  "anaconda-cloud": {},
  "kernelspec": {
   "display_name": "Python [conda root]",
   "language": "python",
   "name": "conda-root-py"
  },
  "language_info": {
   "codemirror_mode": {
    "name": "ipython",
    "version": 3
   },
   "file_extension": ".py",
   "mimetype": "text/x-python",
   "name": "python",
   "nbconvert_exporter": "python",
   "pygments_lexer": "ipython3",
   "version": "3.5.2"
  }
 },
 "nbformat": 4,
 "nbformat_minor": 0
}

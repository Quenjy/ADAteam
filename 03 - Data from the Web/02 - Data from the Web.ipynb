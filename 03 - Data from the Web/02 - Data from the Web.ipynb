{
 "cells": [
  {
   "cell_type": "markdown",
   "metadata": {},
   "source": [
    "# Assignment 2 - Data from the web"
   ]
  },
  {
   "cell_type": "markdown",
   "metadata": {},
   "source": [
    "## Data scraping"
   ]
  },
  {
   "cell_type": "markdown",
   "metadata": {},
   "source": [
    "## 1. Obtain all the data"
   ]
  },
  {
   "cell_type": "code",
   "execution_count": 154,
   "metadata": {
    "collapsed": true
   },
   "outputs": [],
   "source": [
    "import requests\n",
    "import pandas as pd\n",
    "import numpy as np\n",
    "import os\n",
    "import os.path\n",
    "import re\n",
    "from IPython.display import display\n",
    "from bs4 import BeautifulSoup"
   ]
  },
  {
   "cell_type": "markdown",
   "metadata": {},
   "source": [
    "The first thing to do is to get the base URL (basically looking at the address bar of the browser).\n",
    "We need a second variable INDEX_PARAM because this page is using frames, and we'll need the base address to access them."
   ]
  },
  {
   "cell_type": "code",
   "execution_count": 155,
   "metadata": {
    "collapsed": true
   },
   "outputs": [],
   "source": [
    "BASE_URL = \"http://isa.epfl.ch/imoniteur_ISAP/%21gedpublicreports.htm\"\n",
    "INDEX_PARAM = \"ww_i_reportmodel=133685247\""
   ]
  },
  {
   "cell_type": "markdown",
   "metadata": {},
   "source": [
    "Then let's fetch the parameters names, but as it is a bit tricker, BeautifulSoup will be a great help for this (and also some manual html inspection)."
   ]
  },
  {
   "cell_type": "code",
   "execution_count": 156,
   "metadata": {
    "collapsed": false
   },
   "outputs": [
    {
     "name": "stdout",
     "output_type": "stream",
     "text": [
      "!GEDPUBLICREPORTS.filter?ww_i_reportModel=133685247\n"
     ]
    }
   ],
   "source": [
    "r = requests.get(BASE_URL + '?' + INDEX_PARAM)\n",
    "soup = BeautifulSoup(r.text, 'html.parser')\n",
    "\n",
    "\n",
    "#print(soup)\n",
    "\n",
    "for frame in soup.find_all('frame'):\n",
    "    if frame['name'] == 'toc':\n",
    "        r = requests.get(\"http://isa.epfl.ch/imoniteur_ISAP/\" + frame['src'])\n",
    "        print(frame['src'])\n",
    "# The content of the frame\n",
    "\n",
    "# Print slects\n",
    "soup = BeautifulSoup(r.text, 'html.parser')\n",
    "query = 'http://isa.epfl.ch/imoniteur_ISAP/!GEDPUBLICREPORTS.html?ww_x_GPS=-1&ww_i_reportModel=133685247'\n",
    "    \n"
   ]
  },
  {
   "cell_type": "markdown",
   "metadata": {},
   "source": [
    "For convenience, we also create another function that builds the query from some desired parameters."
   ]
  },
  {
   "cell_type": "code",
   "execution_count": 157,
   "metadata": {
    "collapsed": false
   },
   "outputs": [],
   "source": [
    "def build_query(section, startYear, endYear, semesterType, semesterNumber, semesterSeason):\n",
    "    # Print slects\n",
    "    soup = BeautifulSoup(r.text, 'html.parser')\n",
    "    query = 'http://isa.epfl.ch/imoniteur_ISAP/!GEDPUBLICREPORTS.html?ww_x_GPS=-1&ww_i_reportModel=133685247'\n",
    "\n",
    "\n",
    "    for in_put in soup.findAll('input'):\n",
    "        #print (in_put['name'])\n",
    "        if in_put.text == \"xls\":\n",
    "        #print(in_put['value'])\n",
    "            query = query + '&' + in_put['name'] + '=' + in_put['value']\n",
    "     \n",
    "    for select in soup.findAll('select'):\n",
    "    #print (select['name'])\n",
    "        for t in select.findAll('option'):\n",
    "        #print(t)\n",
    "            if t.text == section:\n",
    "            #print(t['value'])\n",
    "                query = query + '&' + select['name'] + '=' + t['value']\n",
    "            if t.text == str(startYear) + '-' + str(endYear):\n",
    "                query = query + '&' + select['name'] + '=' + t['value']\n",
    "            if t.text == semesterType + \" \" + str(semesterNumber):\n",
    "                query = query + '&' + select['name'] + '=' + t['value']\n",
    "            if t.text == \"Semestre \" + semesterSeason:\n",
    "                query = query + '&' + select['name'] + '=' + t['value']\n",
    "    return query\n"
   ]
  },
  {
   "cell_type": "markdown",
   "metadata": {},
   "source": [
    "And finally a nice function to easily query the EPFL page and get the data from it."
   ]
  },
  {
   "cell_type": "code",
   "execution_count": 354,
   "metadata": {
    "collapsed": false
   },
   "outputs": [],
   "source": [
    "DATA_FOLDER_PATH = 'Data/'\n",
    "COLUMNS_NAMES = [\"civility\", \"name\", \"bachelor_orientation\", \"master_orientation\", \"specialisation\", \"optional_spec\", \"minor\", \"status\", \"exchange_type\", \"exchange_school\", \"sciper\"]\n",
    "def query_epfl(section, startYear, endYear, semesterType, semesterNumber, semesterSeason, update = False, writeToFile = True):\n",
    "    #we create files to save the queries (and network bandwidth)\n",
    "    path = str(section) + str(startYear) + str(endYear) + str(semesterType) + str(semesterNumber) + str(semesterSeason)\n",
    "    \n",
    "    #to avoid file naming issues\n",
    "    path = re.sub('[^A-Za-z0-9]+', '', path)\n",
    "    path += \".xls\"\n",
    "    \n",
    "    df = None\n",
    "    #we query the epfl server only if the file does not exist, or if we want to update the data\n",
    "    if(not os.path.isfile(DATA_FOLDER_PATH + path) or update):\n",
    "        queryString = build_query(section, startYear, endYear, semesterType, semesterNumber, semesterSeason)\n",
    "        response = requests.get(queryString, stream=True)\n",
    "        if response.status_code == 200:\n",
    "            data = pd.read_html(response.text, match='.+', flavor=None, header=1, index_col=None, skiprows=1)\n",
    "            df = data[0]\n",
    "            df.drop(df.columns[[11, 12]], axis=1, inplace=True) #remove useless columns (all are empty)\n",
    "            df.columns = COLUMNS_NAMES\n",
    "            \n",
    "            #cleaning the invalid rows (basically mapping the scipers to real numbers and remove the non-number rows)\n",
    "            scipers = df['sciper']\n",
    "            df = df.drop('sciper', axis=1)\n",
    "            df = df.join(scipers.apply(pd.to_numeric, errors='coerce'))\n",
    "            df = df[~df.sciper.isnull()]\n",
    "            \n",
    "            if writeToFile:\n",
    "                df.to_excel(DATA_FOLDER_PATH + path) #save to xls file\n",
    "    else:\n",
    "        df = pd.read_excel(DATA_FOLDER_PATH + path, sheetname=0, header=0)\n",
    "    \n",
    "    return df"
   ]
  },
  {
   "cell_type": "markdown",
   "metadata": {},
   "source": [
    "We can now start using those functions to collect data. \n",
    "Example below:"
   ]
  },
  {
   "cell_type": "code",
   "execution_count": 355,
   "metadata": {
    "collapsed": false
   },
   "outputs": [
    {
     "data": {
      "text/html": [
       "<div>\n",
       "<table border=\"1\" class=\"dataframe\">\n",
       "  <thead>\n",
       "    <tr style=\"text-align: right;\">\n",
       "      <th></th>\n",
       "      <th>civility</th>\n",
       "      <th>name</th>\n",
       "      <th>bachelor_orientation</th>\n",
       "      <th>master_orientation</th>\n",
       "      <th>specialisation</th>\n",
       "      <th>optional_spec</th>\n",
       "      <th>minor</th>\n",
       "      <th>status</th>\n",
       "      <th>exchange_type</th>\n",
       "      <th>exchange_school</th>\n",
       "      <th>sciper</th>\n",
       "    </tr>\n",
       "  </thead>\n",
       "  <tbody>\n",
       "    <tr>\n",
       "      <th>0</th>\n",
       "      <td>Monsieur</td>\n",
       "      <td>Aapro Niccolò</td>\n",
       "      <td>NaN</td>\n",
       "      <td>NaN</td>\n",
       "      <td>NaN</td>\n",
       "      <td>NaN</td>\n",
       "      <td>NaN</td>\n",
       "      <td>Présent</td>\n",
       "      <td>NaN</td>\n",
       "      <td>NaN</td>\n",
       "      <td>170617.0</td>\n",
       "    </tr>\n",
       "    <tr>\n",
       "      <th>1</th>\n",
       "      <td>Monsieur</td>\n",
       "      <td>Arn Patrick</td>\n",
       "      <td>NaN</td>\n",
       "      <td>NaN</td>\n",
       "      <td>NaN</td>\n",
       "      <td>NaN</td>\n",
       "      <td>NaN</td>\n",
       "      <td>Présent</td>\n",
       "      <td>NaN</td>\n",
       "      <td>NaN</td>\n",
       "      <td>174454.0</td>\n",
       "    </tr>\n",
       "    <tr>\n",
       "      <th>2</th>\n",
       "      <td>Monsieur</td>\n",
       "      <td>Balas Martin</td>\n",
       "      <td>NaN</td>\n",
       "      <td>NaN</td>\n",
       "      <td>NaN</td>\n",
       "      <td>NaN</td>\n",
       "      <td>NaN</td>\n",
       "      <td>Présent</td>\n",
       "      <td>NaN</td>\n",
       "      <td>NaN</td>\n",
       "      <td>174774.0</td>\n",
       "    </tr>\n",
       "    <tr>\n",
       "      <th>3</th>\n",
       "      <td>Monsieur</td>\n",
       "      <td>Bandelier Matthieu</td>\n",
       "      <td>NaN</td>\n",
       "      <td>NaN</td>\n",
       "      <td>NaN</td>\n",
       "      <td>NaN</td>\n",
       "      <td>NaN</td>\n",
       "      <td>Présent</td>\n",
       "      <td>NaN</td>\n",
       "      <td>NaN</td>\n",
       "      <td>173962.0</td>\n",
       "    </tr>\n",
       "    <tr>\n",
       "      <th>4</th>\n",
       "      <td>Monsieur</td>\n",
       "      <td>Bindschaedler Laurent</td>\n",
       "      <td>NaN</td>\n",
       "      <td>NaN</td>\n",
       "      <td>NaN</td>\n",
       "      <td>NaN</td>\n",
       "      <td>NaN</td>\n",
       "      <td>Présent</td>\n",
       "      <td>NaN</td>\n",
       "      <td>NaN</td>\n",
       "      <td>170654.0</td>\n",
       "    </tr>\n",
       "  </tbody>\n",
       "</table>\n",
       "</div>"
      ],
      "text/plain": [
       "   civility                   name bachelor_orientation master_orientation  \\\n",
       "0  Monsieur          Aapro Niccolò                  NaN                NaN   \n",
       "1  Monsieur            Arn Patrick                  NaN                NaN   \n",
       "2  Monsieur           Balas Martin                  NaN                NaN   \n",
       "3  Monsieur     Bandelier Matthieu                  NaN                NaN   \n",
       "4  Monsieur  Bindschaedler Laurent                  NaN                NaN   \n",
       "\n",
       "  specialisation optional_spec minor   status exchange_type exchange_school  \\\n",
       "0            NaN           NaN   NaN  Présent           NaN             NaN   \n",
       "1            NaN           NaN   NaN  Présent           NaN             NaN   \n",
       "2            NaN           NaN   NaN  Présent           NaN             NaN   \n",
       "3            NaN           NaN   NaN  Présent           NaN             NaN   \n",
       "4            NaN           NaN   NaN  Présent           NaN             NaN   \n",
       "\n",
       "     sciper  \n",
       "0  170617.0  \n",
       "1  174454.0  \n",
       "2  174774.0  \n",
       "3  173962.0  \n",
       "4  170654.0  "
      ]
     },
     "execution_count": 355,
     "metadata": {},
     "output_type": "execute_result"
    }
   ],
   "source": [
    "test = query_epfl(\"Informatique\", 2007,2008, \"Bachelor semestre\", 3, \"d'automne\")\n",
    "test.head()"
   ]
  },
  {
   "cell_type": "markdown",
   "metadata": {},
   "source": [
    "We're now going to collect and merge every single semester of every single year. We'll append columns \"year\", \"semester\".\n",
    "\n",
    "Together with a student's sciper, we'll use this to make unique indexes. We could've used the name but it's possible that two students with the same name would be in the same class in the same year and semestre."
   ]
  },
  {
   "cell_type": "code",
   "execution_count": 360,
   "metadata": {
    "collapsed": false
   },
   "outputs": [
    {
     "data": {
      "text/plain": [
       "(5807, 10)"
      ]
     },
     "execution_count": 360,
     "metadata": {},
     "output_type": "execute_result"
    }
   ],
   "source": [
    "frames = []\n",
    "for year in range(2007, 2017):\n",
    "    for semester in range (1, 7):\n",
    "        if(semester % 2 == 0 ):\n",
    "            season=\"de printemps\"\n",
    "        else:\n",
    "            season=\"d'automne\"\n",
    "            \n",
    "        df = query_epfl(\"Informatique\", year,year+1, \"Bachelor semestre\", semester, season)\n",
    "        #df.columns = [\"civility\", \"name\", \"status\", \"sciper\"]\n",
    "        df['year'] = year\n",
    "        df['semester'] = semester\n",
    "        df.set_index(['year', 'semester', 'sciper'], drop=True, append=False, inplace=True)\n",
    "        if (not df.index.is_unique):\n",
    "            print(\"Error: non unique index in year:\" + str(year) + \"-\" + str(year+1) + \", semester:\" + str(semester) + \", season:\" + str(season))\n",
    "            \n",
    "        frames.append(df)\n",
    "\n",
    "bStudents = pd.concat(frames)\n",
    "bStudents.shape"
   ]
  },
  {
   "cell_type": "markdown",
   "metadata": {},
   "source": [
    "We make sure the index is unique"
   ]
  },
  {
   "cell_type": "code",
   "execution_count": 361,
   "metadata": {
    "collapsed": false
   },
   "outputs": [
    {
     "data": {
      "text/plain": [
       "True"
      ]
     },
     "execution_count": 361,
     "metadata": {},
     "output_type": "execute_result"
    }
   ],
   "source": [
    "bStudents.index.is_unique"
   ]
  },
  {
   "cell_type": "code",
   "execution_count": 368,
   "metadata": {
    "collapsed": false
   },
   "outputs": [],
   "source": [
    "bStudents.to_excel('text.xls')"
   ]
  },
  {
   "cell_type": "markdown",
   "metadata": {
    "collapsed": true
   },
   "source": [
    "With this very nice table, we still need the keep only the students present in semester 1 and semester 6."
   ]
  },
  {
   "cell_type": "code",
   "execution_count": 367,
   "metadata": {
    "collapsed": false
   },
   "outputs": [
    {
     "ename": "SyntaxError",
     "evalue": "invalid syntax (<ipython-input-367-9490e7da7645>, line 1)",
     "output_type": "error",
     "traceback": [
      "\u001b[0;36m  File \u001b[0;32m\"<ipython-input-367-9490e7da7645>\"\u001b[0;36m, line \u001b[0;32m1\u001b[0m\n\u001b[0;31m    bStudents16 = bStudents[bStudents['semester'] = 1 or bStudents['semester'] = 6]\u001b[0m\n\u001b[0m                                                  ^\u001b[0m\n\u001b[0;31mSyntaxError\u001b[0m\u001b[0;31m:\u001b[0m invalid syntax\n"
     ]
    }
   ],
   "source": [
    "bStudents16 = bStudents[bStudents['semester'] = 1 or bStudents['semester'] = 6]"
   ]
  },
  {
   "cell_type": "code",
   "execution_count": null,
   "metadata": {
    "collapsed": true
   },
   "outputs": [],
   "source": []
  },
  {
   "cell_type": "code",
   "execution_count": null,
   "metadata": {
    "collapsed": true
   },
   "outputs": [],
   "source": []
  }
 ],
 "metadata": {
  "anaconda-cloud": {},
  "celltoolbar": "Raw Cell Format",
  "kernelspec": {
   "display_name": "Python [conda root]",
   "language": "python",
   "name": "conda-root-py"
  },
  "language_info": {
   "codemirror_mode": {
    "name": "ipython",
    "version": 3
   },
   "file_extension": ".py",
   "mimetype": "text/x-python",
   "name": "python",
   "nbconvert_exporter": "python",
   "pygments_lexer": "ipython3",
   "version": "3.5.2"
  }
 },
 "nbformat": 4,
 "nbformat_minor": 1
}

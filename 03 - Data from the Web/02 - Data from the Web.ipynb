{
 "cells": [
  {
   "cell_type": "markdown",
   "metadata": {},
   "source": [
    "# Assignment 2 - Data from the web"
   ]
  },
  {
   "cell_type": "markdown",
   "metadata": {},
   "source": [
    "## Data scraping"
   ]
  },
  {
   "cell_type": "markdown",
   "metadata": {},
   "source": [
    "## 1. Obtain all the data"
   ]
  },
  {
   "cell_type": "code",
   "execution_count": 1,
   "metadata": {
    "collapsed": true
   },
   "outputs": [],
   "source": [
    "import requests\n",
    "from bs4 import BeautifulSoup"
   ]
  },
  {
   "cell_type": "markdown",
   "metadata": {},
   "source": [
    "The first thing to do is to get the base URL (basically looking at the address bar of the browser).\n",
    "We need a second variable INDEX_PARAM because this page is using frames, and we'll need the base address to access them."
   ]
  },
  {
   "cell_type": "code",
   "execution_count": 11,
   "metadata": {
    "collapsed": true
   },
   "outputs": [],
   "source": [
    "BASE_URL = \"http://isa.epfl.ch/imoniteur_ISAP/%21gedpublicreports.htm\"\n",
    "INDEX_PARAM = \"ww_i_reportmodel=133685247\""
   ]
  },
  {
   "cell_type": "markdown",
   "metadata": {},
   "source": [
    "Then let's fetch the parameters names, but as it is a bit tricker, BeautifulSoup will be a great help for this (and also some manual html inspection)."
   ]
  },
  {
   "cell_type": "code",
   "execution_count": 35,
   "metadata": {
    "collapsed": false
   },
   "outputs": [
    {
     "name": "stdout",
     "output_type": "stream",
     "text": [
      "ww_b_list\n",
      "ww_i_reportmodel\n",
      "ww_c_langue\n",
      "ww_i_reportModelXsl\n",
      "ww_i_reportModelXsl\n",
      "zz_x_UNITE_ACAD\n",
      "zz_x_PERIODE_ACAD\n",
      "zz_x_PERIODE_PEDAGO\n",
      "zz_x_HIVERETE\n",
      "dummy\n",
      "ww_x_UNITE_ACAD\n",
      "ww_x_PERIODE_ACAD\n",
      "ww_x_PERIODE_PEDAGO\n",
      "ww_x_HIVERETE\n"
     ]
    }
   ],
   "source": [
    "r = requests.get(BASE_URL + '?' + INDEX_PARAM)\n",
    "soup = BeautifulSoup(r.text, 'html.parser')\n",
    "\n",
    "#print(soup)\n",
    "\n",
    "for frame in soup.find_all('frame'):\n",
    "    if frame['name'] == 'toc':\n",
    "        r = requests.get(\"http://isa.epfl.ch/imoniteur_ISAP/\" + frame['src'])\n",
    "# The content of the frame\n",
    "\n",
    "# Print inputs\n",
    "soup = BeautifulSoup(r.text, 'html.parser')\n",
    "for in_put in soup.findAll('input'):\n",
    "    print (in_put['name'])\n",
    "\n",
    "# Print slects    \n",
    "for select in soup.findAll('select'):\n",
    "    print (select['name'])\n",
    "    \n"
   ]
  },
  {
   "cell_type": "markdown",
   "metadata": {},
   "source": [
    "and finally a nice function to easily query the EPFL page and get the data from it."
   ]
  },
  {
   "cell_type": "code",
   "execution_count": 13,
   "metadata": {
    "collapsed": false
   },
   "outputs": [],
   "source": [
    "def query_epfl( args ):\n",
    "    \"Query the base URL with passed arguments (args)\"\n",
    "    print(args)\n",
    "    return"
   ]
  },
  {
   "cell_type": "code",
   "execution_count": null,
   "metadata": {
    "collapsed": true
   },
   "outputs": [],
   "source": []
  },
  {
   "cell_type": "code",
   "execution_count": null,
   "metadata": {
    "collapsed": true
   },
   "outputs": [],
   "source": []
  },
  {
   "cell_type": "code",
   "execution_count": null,
   "metadata": {
    "collapsed": true
   },
   "outputs": [],
   "source": []
  },
  {
   "cell_type": "code",
   "execution_count": null,
   "metadata": {
    "collapsed": true
   },
   "outputs": [],
   "source": []
  },
  {
   "cell_type": "code",
   "execution_count": null,
   "metadata": {
    "collapsed": true
   },
   "outputs": [],
   "source": []
  },
  {
   "cell_type": "code",
   "execution_count": null,
   "metadata": {
    "collapsed": true
   },
   "outputs": [],
   "source": []
  },
  {
   "cell_type": "code",
   "execution_count": null,
   "metadata": {
    "collapsed": true
   },
   "outputs": [],
   "source": []
  },
  {
   "cell_type": "code",
   "execution_count": null,
   "metadata": {
    "collapsed": true
   },
   "outputs": [],
   "source": []
  },
  {
   "cell_type": "code",
   "execution_count": null,
   "metadata": {
    "collapsed": true
   },
   "outputs": [],
   "source": []
  },
  {
   "cell_type": "code",
   "execution_count": null,
   "metadata": {
    "collapsed": true
   },
   "outputs": [],
   "source": []
  }
 ],
 "metadata": {
  "anaconda-cloud": {},
  "kernelspec": {
   "display_name": "Python [Root]",
   "language": "python",
   "name": "Python [Root]"
  },
  "language_info": {
   "codemirror_mode": {
    "name": "ipython",
    "version": 3
   },
   "file_extension": ".py",
   "mimetype": "text/x-python",
   "name": "python",
   "nbconvert_exporter": "python",
   "pygments_lexer": "ipython3",
   "version": "3.5.2"
  }
 },
 "nbformat": 4,
 "nbformat_minor": 1
}

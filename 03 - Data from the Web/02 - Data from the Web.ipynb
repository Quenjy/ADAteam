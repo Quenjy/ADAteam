{
 "cells": [
  {
   "cell_type": "markdown",
   "metadata": {},
   "source": [
    "# Assignment 2 - Data from the web"
   ]
  },
  {
   "cell_type": "markdown",
   "metadata": {},
   "source": [
    "## Data scraping"
   ]
  },
  {
   "cell_type": "markdown",
   "metadata": {},
   "source": [
    "## 1. Obtain all the data"
   ]
  },
  {
   "cell_type": "code",
   "execution_count": 2,
   "metadata": {
    "collapsed": true
   },
   "outputs": [],
   "source": [
    "%matplotlib inline\n",
    "import requests\n",
    "import pandas as pd\n",
    "import numpy as np\n",
    "import math\n",
    "import os\n",
    "import os.path\n",
    "import re\n",
    "import matplotlib.pyplot as plt\n",
    "from IPython.display import display\n",
    "from bs4 import BeautifulSoup\n",
    "from scipy import stats"
   ]
  },
  {
   "cell_type": "markdown",
   "metadata": {},
   "source": [
    "The first thing to do is to get the base URL (basically looking at the address bar of the browser).\n",
    "We need a second variable INDEX_PARAM because this page is using frames, and we'll need the base address to access them."
   ]
  },
  {
   "cell_type": "code",
   "execution_count": 3,
   "metadata": {
    "collapsed": true
   },
   "outputs": [],
   "source": [
    "BASE_URL = \"http://isa.epfl.ch/imoniteur_ISAP/%21gedpublicreports.htm\"\n",
    "INDEX_PARAM = \"ww_i_reportmodel=133685247\""
   ]
  },
  {
   "cell_type": "markdown",
   "metadata": {},
   "source": [
    "Then let's fetch the parameters names, but as it is a bit tricker, BeautifulSoup will be a great help for this (and also some manual html inspection)."
   ]
  },
  {
   "cell_type": "code",
   "execution_count": 4,
   "metadata": {
    "collapsed": false
   },
   "outputs": [
    {
     "name": "stdout",
     "output_type": "stream",
     "text": [
      "!GEDPUBLICREPORTS.filter?ww_i_reportModel=133685247\n"
     ]
    }
   ],
   "source": [
    "r = requests.get(BASE_URL + '?' + INDEX_PARAM)\n",
    "soup = BeautifulSoup(r.text, 'html.parser')\n",
    "\n",
    "\n",
    "#print(soup)\n",
    "\n",
    "for frame in soup.find_all('frame'):\n",
    "    if frame['name'] == 'toc':\n",
    "        r = requests.get(\"http://isa.epfl.ch/imoniteur_ISAP/\" + frame['src'])\n",
    "        print(frame['src'])\n",
    "# The content of the frame\n",
    "\n",
    "# Print slects\n",
    "soup = BeautifulSoup(r.text, 'html.parser')\n",
    "query = 'http://isa.epfl.ch/imoniteur_ISAP/!GEDPUBLICREPORTS.html?ww_x_GPS=-1&ww_i_reportModel=133685247'\n",
    "    \n"
   ]
  },
  {
   "cell_type": "markdown",
   "metadata": {},
   "source": [
    "For convenience, we also create another function that builds the query from some desired parameters."
   ]
  },
  {
   "cell_type": "code",
   "execution_count": 5,
   "metadata": {
    "collapsed": false
   },
   "outputs": [],
   "source": [
    "def build_query(section, startYear, endYear, semesterType, semesterNumber, semesterSeason):\n",
    "    # Print slects\n",
    "    soup = BeautifulSoup(r.text, 'html.parser')\n",
    "    query = 'http://isa.epfl.ch/imoniteur_ISAP/!GEDPUBLICREPORTS.html?ww_x_GPS=-1&ww_i_reportModel=133685247'\n",
    "\n",
    "\n",
    "    for in_put in soup.findAll('input'):\n",
    "        #print (in_put['name'])\n",
    "        if in_put.text == \"xls\":\n",
    "        #print(in_put['value'])\n",
    "            query = query + '&' + in_put['name'] + '=' + in_put['value']\n",
    "     \n",
    "    for select in soup.findAll('select'):\n",
    "    #print (select['name'])\n",
    "        for t in select.findAll('option'):\n",
    "        #print(t)\n",
    "            if t.text == section:\n",
    "            #print(t['value'])\n",
    "                query = query + '&' + select['name'] + '=' + t['value']\n",
    "            if t.text == str(startYear) + '-' + str(endYear):\n",
    "                query = query + '&' + select['name'] + '=' + t['value']\n",
    "            if t.text == semesterType + \" \" + str(semesterNumber):\n",
    "                query = query + '&' + select['name'] + '=' + t['value']\n",
    "            if t.text == \"Semestre \" + semesterSeason:\n",
    "                query = query + '&' + select['name'] + '=' + t['value']\n",
    "    return query\n"
   ]
  },
  {
   "cell_type": "markdown",
   "metadata": {},
   "source": [
    "And finally a nice function to easily query the EPFL page and get the data from it."
   ]
  },
  {
   "cell_type": "code",
   "execution_count": 6,
   "metadata": {
    "collapsed": false
   },
   "outputs": [],
   "source": [
    "DATA_FOLDER_PATH = 'Data/'\n",
    "os.makedirs(DATA_FOLDER_PATH, exist_ok=True) #creates folder it it doesn't exist\n",
    "COLUMNS_NAMES = [\"civility\", \"name\", \"bachelor_orientation\", \"master_orientation\", \"specialisation\", \"optional_spec\", \"minor\", \"status\", \"exchange_type\", \"exchange_school\", \"sciper\"]\n",
    "def query_epfl(section, startYear, endYear, semesterType, semesterNumber, semesterSeason, update = False, writeToFile = True):\n",
    "    #we create files to save the queries (and network bandwidth)\n",
    "    path = str(section) + str(startYear) + str(endYear) + str(semesterType) + str(semesterNumber) + str(semesterSeason)\n",
    "    \n",
    "    #to avoid file naming issues\n",
    "    path = re.sub('[^A-Za-z0-9]+', '', path)\n",
    "    path += \".xls\"\n",
    "    \n",
    "    df = None\n",
    "    #we query the epfl server only if the file does not exist, or if we want to update the data\n",
    "    if(not os.path.isfile(DATA_FOLDER_PATH + path) or update):\n",
    "        queryString = build_query(section, startYear, endYear, semesterType, semesterNumber, semesterSeason)\n",
    "        response = requests.get(queryString, stream=True)\n",
    "        if response.status_code == 200:\n",
    "            data = pd.read_html(response.text, match='.+', flavor=None, header=1, index_col=None, skiprows=1)\n",
    "            df = data[0]\n",
    "            df.drop(df.columns[[11, 12]], axis=1, inplace=True) #remove useless columns (all are empty)\n",
    "            df.columns = COLUMNS_NAMES\n",
    "            \n",
    "            #cleaning the invalid rows (basically mapping the scipers to real numbers and remove the non-number rows)\n",
    "            scipers = df['sciper']\n",
    "            df = df.drop('sciper', axis=1)\n",
    "            df = df.join(scipers.apply(pd.to_numeric, errors='coerce'))\n",
    "            df = df[~df.sciper.isnull()]\n",
    "            \n",
    "            if writeToFile:\n",
    "                df.to_excel(DATA_FOLDER_PATH + path) #save to xls file\n",
    "    else:\n",
    "        df = pd.read_excel(DATA_FOLDER_PATH + path, sheetname=0, header=0)\n",
    "    \n",
    "    return df"
   ]
  },
  {
   "cell_type": "markdown",
   "metadata": {},
   "source": [
    "We can now start using those functions to collect data. \n",
    "Example below:"
   ]
  },
  {
   "cell_type": "code",
   "execution_count": 7,
   "metadata": {
    "collapsed": false
   },
   "outputs": [
    {
     "data": {
      "text/html": [
       "<div>\n",
       "<table border=\"1\" class=\"dataframe\">\n",
       "  <thead>\n",
       "    <tr style=\"text-align: right;\">\n",
       "      <th></th>\n",
       "      <th>civility</th>\n",
       "      <th>name</th>\n",
       "      <th>bachelor_orientation</th>\n",
       "      <th>master_orientation</th>\n",
       "      <th>specialisation</th>\n",
       "      <th>optional_spec</th>\n",
       "      <th>minor</th>\n",
       "      <th>status</th>\n",
       "      <th>exchange_type</th>\n",
       "      <th>exchange_school</th>\n",
       "      <th>sciper</th>\n",
       "    </tr>\n",
       "  </thead>\n",
       "  <tbody>\n",
       "    <tr>\n",
       "      <th>0</th>\n",
       "      <td>Monsieur</td>\n",
       "      <td>Aapro Niccolò</td>\n",
       "      <td>NaN</td>\n",
       "      <td>NaN</td>\n",
       "      <td>NaN</td>\n",
       "      <td>NaN</td>\n",
       "      <td>NaN</td>\n",
       "      <td>Présent</td>\n",
       "      <td>NaN</td>\n",
       "      <td>NaN</td>\n",
       "      <td>170617</td>\n",
       "    </tr>\n",
       "    <tr>\n",
       "      <th>1</th>\n",
       "      <td>Monsieur</td>\n",
       "      <td>Arn Patrick</td>\n",
       "      <td>NaN</td>\n",
       "      <td>NaN</td>\n",
       "      <td>NaN</td>\n",
       "      <td>NaN</td>\n",
       "      <td>NaN</td>\n",
       "      <td>Présent</td>\n",
       "      <td>NaN</td>\n",
       "      <td>NaN</td>\n",
       "      <td>174454</td>\n",
       "    </tr>\n",
       "    <tr>\n",
       "      <th>2</th>\n",
       "      <td>Monsieur</td>\n",
       "      <td>Balas Martin</td>\n",
       "      <td>NaN</td>\n",
       "      <td>NaN</td>\n",
       "      <td>NaN</td>\n",
       "      <td>NaN</td>\n",
       "      <td>NaN</td>\n",
       "      <td>Présent</td>\n",
       "      <td>NaN</td>\n",
       "      <td>NaN</td>\n",
       "      <td>174774</td>\n",
       "    </tr>\n",
       "    <tr>\n",
       "      <th>3</th>\n",
       "      <td>Monsieur</td>\n",
       "      <td>Bandelier Matthieu</td>\n",
       "      <td>NaN</td>\n",
       "      <td>NaN</td>\n",
       "      <td>NaN</td>\n",
       "      <td>NaN</td>\n",
       "      <td>NaN</td>\n",
       "      <td>Présent</td>\n",
       "      <td>NaN</td>\n",
       "      <td>NaN</td>\n",
       "      <td>173962</td>\n",
       "    </tr>\n",
       "    <tr>\n",
       "      <th>4</th>\n",
       "      <td>Monsieur</td>\n",
       "      <td>Bindschaedler Laurent</td>\n",
       "      <td>NaN</td>\n",
       "      <td>NaN</td>\n",
       "      <td>NaN</td>\n",
       "      <td>NaN</td>\n",
       "      <td>NaN</td>\n",
       "      <td>Présent</td>\n",
       "      <td>NaN</td>\n",
       "      <td>NaN</td>\n",
       "      <td>170654</td>\n",
       "    </tr>\n",
       "  </tbody>\n",
       "</table>\n",
       "</div>"
      ],
      "text/plain": [
       "   civility                   name  bachelor_orientation  master_orientation  \\\n",
       "0  Monsieur          Aapro Niccolò                   NaN                 NaN   \n",
       "1  Monsieur            Arn Patrick                   NaN                 NaN   \n",
       "2  Monsieur           Balas Martin                   NaN                 NaN   \n",
       "3  Monsieur     Bandelier Matthieu                   NaN                 NaN   \n",
       "4  Monsieur  Bindschaedler Laurent                   NaN                 NaN   \n",
       "\n",
       "   specialisation  optional_spec  minor   status  exchange_type  \\\n",
       "0             NaN            NaN    NaN  Présent            NaN   \n",
       "1             NaN            NaN    NaN  Présent            NaN   \n",
       "2             NaN            NaN    NaN  Présent            NaN   \n",
       "3             NaN            NaN    NaN  Présent            NaN   \n",
       "4             NaN            NaN    NaN  Présent            NaN   \n",
       "\n",
       "   exchange_school  sciper  \n",
       "0              NaN  170617  \n",
       "1              NaN  174454  \n",
       "2              NaN  174774  \n",
       "3              NaN  173962  \n",
       "4              NaN  170654  "
      ]
     },
     "execution_count": 7,
     "metadata": {},
     "output_type": "execute_result"
    }
   ],
   "source": [
    "test = query_epfl(\"Informatique\", 2007,2008, \"Bachelor semestre\", 3, \"d'automne\")\n",
    "test.head()"
   ]
  },
  {
   "cell_type": "markdown",
   "metadata": {},
   "source": [
    "## 2. Bachelor"
   ]
  },
  {
   "cell_type": "markdown",
   "metadata": {},
   "source": [
    "We're now going to collect and merge every single semester of every single year. We'll append columns \"year\", \"semester\".\n",
    "\n",
    "Together with a student's sciper, we'll use this to make unique indexes. We could've used the name but it's possible that two students with the same name would be in the same class in the same year and semestre."
   ]
  },
  {
   "cell_type": "code",
   "execution_count": 8,
   "metadata": {
    "collapsed": false
   },
   "outputs": [
    {
     "data": {
      "text/plain": [
       "(5808, 13)"
      ]
     },
     "execution_count": 8,
     "metadata": {},
     "output_type": "execute_result"
    }
   ],
   "source": [
    "frames = []\n",
    "for year in range(2007, 2017):\n",
    "    for semester in range (1, 7):\n",
    "        if(semester % 2 == 0 ):\n",
    "            season=\"de printemps\"\n",
    "        else:\n",
    "            season=\"d'automne\"\n",
    "            \n",
    "        df = query_epfl(\"Informatique\", year,year+1, \"Bachelor semestre\", semester, season)\n",
    "        df['year'] = year\n",
    "        df['semester'] = semester\n",
    "        #we use semester as first index for simplicity of use in next part\n",
    "        df.set_index(['semester', 'year', 'sciper'], drop=False, append=False, inplace=True)\n",
    "        if (not df.index.is_unique):\n",
    "            print(\"Error: non unique index in year:\" + str(year) + \"-\" + str(year+1) + \", semester:\" + str(semester) + \", season:\" + str(season))\n",
    "            \n",
    "        frames.append(df)\n",
    "\n",
    "bStudents = pd.concat(frames)\n",
    "bStudents.shape"
   ]
  },
  {
   "cell_type": "markdown",
   "metadata": {},
   "source": [
    "We make sure the index is unique"
   ]
  },
  {
   "cell_type": "code",
   "execution_count": 9,
   "metadata": {
    "collapsed": false
   },
   "outputs": [
    {
     "data": {
      "text/plain": [
       "True"
      ]
     },
     "execution_count": 9,
     "metadata": {},
     "output_type": "execute_result"
    }
   ],
   "source": [
    "bStudents.index.is_unique"
   ]
  },
  {
   "cell_type": "markdown",
   "metadata": {},
   "source": [
    "For better readability, we now drop all columns that are completely empty"
   ]
  },
  {
   "cell_type": "code",
   "execution_count": 10,
   "metadata": {
    "collapsed": false
   },
   "outputs": [],
   "source": [
    "bStudents = bStudents.dropna(axis=1, how='all')"
   ]
  },
  {
   "cell_type": "code",
   "execution_count": 11,
   "metadata": {
    "collapsed": false
   },
   "outputs": [
    {
     "data": {
      "text/html": [
       "<div>\n",
       "<table border=\"1\" class=\"dataframe\">\n",
       "  <thead>\n",
       "    <tr style=\"text-align: right;\">\n",
       "      <th></th>\n",
       "      <th></th>\n",
       "      <th></th>\n",
       "      <th>civility</th>\n",
       "      <th>name</th>\n",
       "      <th>optional_spec</th>\n",
       "      <th>status</th>\n",
       "      <th>exchange_type</th>\n",
       "      <th>exchange_school</th>\n",
       "      <th>sciper</th>\n",
       "      <th>year</th>\n",
       "      <th>semester</th>\n",
       "    </tr>\n",
       "    <tr>\n",
       "      <th>semester</th>\n",
       "      <th>year</th>\n",
       "      <th>sciper</th>\n",
       "      <th></th>\n",
       "      <th></th>\n",
       "      <th></th>\n",
       "      <th></th>\n",
       "      <th></th>\n",
       "      <th></th>\n",
       "      <th></th>\n",
       "      <th></th>\n",
       "      <th></th>\n",
       "    </tr>\n",
       "  </thead>\n",
       "  <tbody>\n",
       "    <tr>\n",
       "      <th rowspan=\"5\" valign=\"top\">1</th>\n",
       "      <th rowspan=\"5\" valign=\"top\">2007</th>\n",
       "      <th>169569</th>\n",
       "      <td>Monsieur</td>\n",
       "      <td>Arévalo Christian</td>\n",
       "      <td>NaN</td>\n",
       "      <td>Présent</td>\n",
       "      <td>NaN</td>\n",
       "      <td>NaN</td>\n",
       "      <td>169569</td>\n",
       "      <td>2007</td>\n",
       "      <td>1</td>\n",
       "    </tr>\n",
       "    <tr>\n",
       "      <th>174905</th>\n",
       "      <td>Monsieur</td>\n",
       "      <td>Aubelle Flavien</td>\n",
       "      <td>NaN</td>\n",
       "      <td>Présent</td>\n",
       "      <td>NaN</td>\n",
       "      <td>NaN</td>\n",
       "      <td>174905</td>\n",
       "      <td>2007</td>\n",
       "      <td>1</td>\n",
       "    </tr>\n",
       "    <tr>\n",
       "      <th>173922</th>\n",
       "      <td>Monsieur</td>\n",
       "      <td>Badoud Morgan</td>\n",
       "      <td>NaN</td>\n",
       "      <td>Présent</td>\n",
       "      <td>NaN</td>\n",
       "      <td>NaN</td>\n",
       "      <td>173922</td>\n",
       "      <td>2007</td>\n",
       "      <td>1</td>\n",
       "    </tr>\n",
       "    <tr>\n",
       "      <th>179406</th>\n",
       "      <td>Monsieur</td>\n",
       "      <td>Baeriswyl Jonathan</td>\n",
       "      <td>NaN</td>\n",
       "      <td>Présent</td>\n",
       "      <td>NaN</td>\n",
       "      <td>NaN</td>\n",
       "      <td>179406</td>\n",
       "      <td>2007</td>\n",
       "      <td>1</td>\n",
       "    </tr>\n",
       "    <tr>\n",
       "      <th>179428</th>\n",
       "      <td>Monsieur</td>\n",
       "      <td>Barroco Michael</td>\n",
       "      <td>NaN</td>\n",
       "      <td>Présent</td>\n",
       "      <td>NaN</td>\n",
       "      <td>NaN</td>\n",
       "      <td>179428</td>\n",
       "      <td>2007</td>\n",
       "      <td>1</td>\n",
       "    </tr>\n",
       "  </tbody>\n",
       "</table>\n",
       "</div>"
      ],
      "text/plain": [
       "                      civility                name optional_spec   status  \\\n",
       "semester year sciper                                                        \n",
       "1        2007 169569  Monsieur   Arévalo Christian           NaN  Présent   \n",
       "              174905  Monsieur     Aubelle Flavien           NaN  Présent   \n",
       "              173922  Monsieur       Badoud Morgan           NaN  Présent   \n",
       "              179406  Monsieur  Baeriswyl Jonathan           NaN  Présent   \n",
       "              179428  Monsieur     Barroco Michael           NaN  Présent   \n",
       "\n",
       "                     exchange_type exchange_school  sciper  year  semester  \n",
       "semester year sciper                                                        \n",
       "1        2007 169569           NaN             NaN  169569  2007         1  \n",
       "              174905           NaN             NaN  174905  2007         1  \n",
       "              173922           NaN             NaN  173922  2007         1  \n",
       "              179406           NaN             NaN  179406  2007         1  \n",
       "              179428           NaN             NaN  179428  2007         1  "
      ]
     },
     "execution_count": 11,
     "metadata": {},
     "output_type": "execute_result"
    }
   ],
   "source": [
    "bStudents.head()"
   ]
  },
  {
   "cell_type": "markdown",
   "metadata": {
    "collapsed": true
   },
   "source": [
    "With this very nice table, we still need the keep the students present in semester 1 and semester 6 only (and also filter out the columns we don't need)."
   ]
  },
  {
   "cell_type": "code",
   "execution_count": 12,
   "metadata": {
    "collapsed": false
   },
   "outputs": [
    {
     "data": {
      "text/html": [
       "<div>\n",
       "<table border=\"1\" class=\"dataframe\">\n",
       "  <thead>\n",
       "    <tr style=\"text-align: right;\">\n",
       "      <th></th>\n",
       "      <th>civility</th>\n",
       "      <th>year_S1</th>\n",
       "      <th>year_S6</th>\n",
       "      <th>ydiff</th>\n",
       "    </tr>\n",
       "    <tr>\n",
       "      <th>sciper</th>\n",
       "      <th></th>\n",
       "      <th></th>\n",
       "      <th></th>\n",
       "      <th></th>\n",
       "    </tr>\n",
       "  </thead>\n",
       "  <tbody>\n",
       "    <tr>\n",
       "      <th>147008</th>\n",
       "      <td>Monsieur</td>\n",
       "      <td>2008</td>\n",
       "      <td>2011</td>\n",
       "      <td>3</td>\n",
       "    </tr>\n",
       "    <tr>\n",
       "      <th>169569</th>\n",
       "      <td>Monsieur</td>\n",
       "      <td>2007</td>\n",
       "      <td>2010</td>\n",
       "      <td>3</td>\n",
       "    </tr>\n",
       "    <tr>\n",
       "      <th>169731</th>\n",
       "      <td>Monsieur</td>\n",
       "      <td>2007</td>\n",
       "      <td>2011</td>\n",
       "      <td>4</td>\n",
       "    </tr>\n",
       "    <tr>\n",
       "      <th>169795</th>\n",
       "      <td>Monsieur</td>\n",
       "      <td>2007</td>\n",
       "      <td>2011</td>\n",
       "      <td>4</td>\n",
       "    </tr>\n",
       "    <tr>\n",
       "      <th>171195</th>\n",
       "      <td>Monsieur</td>\n",
       "      <td>2007</td>\n",
       "      <td>2010</td>\n",
       "      <td>3</td>\n",
       "    </tr>\n",
       "  </tbody>\n",
       "</table>\n",
       "</div>"
      ],
      "text/plain": [
       "        civility  year_S1  year_S6  ydiff\n",
       "sciper                                   \n",
       "147008  Monsieur     2008     2011      3\n",
       "169569  Monsieur     2007     2010      3\n",
       "169731  Monsieur     2007     2011      4\n",
       "169795  Monsieur     2007     2011      4\n",
       "171195  Monsieur     2007     2010      3"
      ]
     },
     "execution_count": 12,
     "metadata": {},
     "output_type": "execute_result"
    }
   ],
   "source": [
    "bStudentsS1toS6 = pd.merge(bStudents.loc[1], bStudents.loc[6], how='inner', on=['civility', 'name', 'sciper'], suffixes=('_S1', '_S6'))\n",
    "bStudentsS1toS6 = bStudentsS1toS6[['civility', 'sciper', 'year_S1', 'year_S6']] #only retain the important fields\n",
    "\n",
    "bStudentsS1toS6['year_S6'] += 1 #we do this because the last year is not the graduation year, but when it started (2015-2016 = 2015)\n",
    "bStudentsS1toS6['ydiff'] = bStudentsS1toS6['year_S6'] - bStudentsS1toS6['year_S1']\n",
    "\n",
    "bStudentsS1toS6 = bStudentsS1toS6.groupby('sciper', group_keys=False).apply(lambda x: x.ix[x.ydiff.idxmax()])\n",
    "bStudentsS1toS6.set_index('sciper', inplace=True)\n",
    "bStudentsS1toS6.head()"
   ]
  },
  {
   "cell_type": "markdown",
   "metadata": {},
   "source": [
    "Quick check before proceeding"
   ]
  },
  {
   "cell_type": "code",
   "execution_count": 13,
   "metadata": {
    "collapsed": false
   },
   "outputs": [
    {
     "data": {
      "text/plain": [
       "True"
      ]
     },
     "execution_count": 13,
     "metadata": {},
     "output_type": "execute_result"
    }
   ],
   "source": [
    "bStudentsS1toS6.index.is_unique"
   ]
  },
  {
   "cell_type": "markdown",
   "metadata": {},
   "source": [
    "Before going further, we will modify the dataframe a bit to simplify the processing of genders"
   ]
  },
  {
   "cell_type": "code",
   "execution_count": 14,
   "metadata": {
    "collapsed": false
   },
   "outputs": [],
   "source": [
    "gender_map = {\"Monsieur\": 0, \"Madame\": 1}\n",
    "#bStudentsS1toS6['civility'] = bStudentsS1toS6['civility'].map(gender_map)"
   ]
  },
  {
   "cell_type": "markdown",
   "metadata": {},
   "source": [
    "As a first approach, we use the 'describe' methods of pandas on the ydiff field"
   ]
  },
  {
   "cell_type": "code",
   "execution_count": 15,
   "metadata": {
    "collapsed": false
   },
   "outputs": [
    {
     "data": {
      "text/plain": [
       "count    397.000000\n",
       "mean       3.468514\n",
       "std        0.733155\n",
       "min        3.000000\n",
       "25%        3.000000\n",
       "50%        3.000000\n",
       "75%        4.000000\n",
       "max        7.000000\n",
       "Name: ydiff, dtype: float64"
      ]
     },
     "execution_count": 15,
     "metadata": {},
     "output_type": "execute_result"
    }
   ],
   "source": [
    "bStudentsS1toS6['ydiff'].describe()"
   ]
  },
  {
   "cell_type": "markdown",
   "metadata": {},
   "source": [
    "Ignoring the count (which is meaningless in this case) and the min (since you can't get the bachelor in less than 3 years), we observe quite a low mean and std, but these should not be over considered since they are weak against outliers. \n",
    "But the quantiles give us nice informations, more than 50% of students graduated in 3 years (which is the minimum) and 75% in 4 years!\n",
    "Then the maximum is 7, that is uncommon since you have 6 years to graduate.\n",
    "Let's find out how many people are in this case"
   ]
  },
  {
   "cell_type": "code",
   "execution_count": 16,
   "metadata": {
    "collapsed": false
   },
   "outputs": [
    {
     "data": {
      "text/html": [
       "<div>\n",
       "<table border=\"1\" class=\"dataframe\">\n",
       "  <thead>\n",
       "    <tr style=\"text-align: right;\">\n",
       "      <th></th>\n",
       "      <th>civility</th>\n",
       "      <th>year_S1</th>\n",
       "      <th>year_S6</th>\n",
       "      <th>ydiff</th>\n",
       "    </tr>\n",
       "    <tr>\n",
       "      <th>sciper</th>\n",
       "      <th></th>\n",
       "      <th></th>\n",
       "      <th></th>\n",
       "      <th></th>\n",
       "    </tr>\n",
       "  </thead>\n",
       "  <tbody>\n",
       "    <tr>\n",
       "      <th>196034</th>\n",
       "      <td>Monsieur</td>\n",
       "      <td>2009</td>\n",
       "      <td>2016</td>\n",
       "      <td>7</td>\n",
       "    </tr>\n",
       "  </tbody>\n",
       "</table>\n",
       "</div>"
      ],
      "text/plain": [
       "        civility  year_S1  year_S6  ydiff\n",
       "sciper                                   \n",
       "196034  Monsieur     2009     2016      7"
      ]
     },
     "execution_count": 16,
     "metadata": {},
     "output_type": "execute_result"
    }
   ],
   "source": [
    "bStudentsS1toS6[bStudentsS1toS6.ydiff == 7]"
   ]
  },
  {
   "cell_type": "markdown",
   "metadata": {},
   "source": [
    "As only one person is concerned, we can then assume that this dude had some special treatment."
   ]
  },
  {
   "cell_type": "markdown",
   "metadata": {},
   "source": [
    "Now that we are certain that our dataset is well formed, we can start to analyze it properly.\n",
    "We begin by grouping the students by their graduation time."
   ]
  },
  {
   "cell_type": "code",
   "execution_count": 17,
   "metadata": {
    "collapsed": false
   },
   "outputs": [
    {
     "data": {
      "text/plain": [
       "ydiff\n",
       "3    259\n",
       "4     98\n",
       "5     33\n",
       "6      6\n",
       "7      1\n",
       "dtype: int64"
      ]
     },
     "execution_count": 17,
     "metadata": {},
     "output_type": "execute_result"
    },
    {
     "data": {
      "image/png": "[encoded data removed]",
      "text/plain": [
       "<matplotlib.figure.Figure at 0x24d2e0ad978>"
      ]
     },
     "metadata": {},
     "output_type": "display_data"
    }
   ],
   "source": [
    "bStudentsS1toS6_grp = bStudentsS1toS6.groupby(bStudentsS1toS6.ydiff)\n",
    "bStudentsS1toS6_grp.size().plot.bar()\n",
    "bStudentsS1toS6_grp.size()"
   ]
  },
  {
   "cell_type": "markdown",
   "metadata": {},
   "source": [
    "We don't see many more things than what the 'described()' function showed, only the large amount of people having graduated in the minimal time."
   ]
  },
  {
   "cell_type": "markdown",
   "metadata": {},
   "source": [
    "The next step is to split the students by their gender."
   ]
  },
  {
   "cell_type": "code",
   "execution_count": 18,
   "metadata": {
    "collapsed": false
   },
   "outputs": [
    {
     "data": {
      "text/html": [
       "<div>\n",
       "<table border=\"1\" class=\"dataframe\">\n",
       "  <thead>\n",
       "    <tr style=\"text-align: right;\">\n",
       "      <th></th>\n",
       "      <th></th>\n",
       "      <th>ydiff</th>\n",
       "      <th>year_S1</th>\n",
       "      <th>year_S6</th>\n",
       "    </tr>\n",
       "    <tr>\n",
       "      <th>civility</th>\n",
       "      <th></th>\n",
       "      <th></th>\n",
       "      <th></th>\n",
       "      <th></th>\n",
       "    </tr>\n",
       "  </thead>\n",
       "  <tbody>\n",
       "    <tr>\n",
       "      <th rowspan=\"8\" valign=\"top\">Madame</th>\n",
       "      <th>count</th>\n",
       "      <td>29.000000</td>\n",
       "      <td>29.000000</td>\n",
       "      <td>29.000000</td>\n",
       "    </tr>\n",
       "    <tr>\n",
       "      <th>mean</th>\n",
       "      <td>3.310345</td>\n",
       "      <td>2010.620690</td>\n",
       "      <td>2013.931034</td>\n",
       "    </tr>\n",
       "    <tr>\n",
       "      <th>std</th>\n",
       "      <td>0.541390</td>\n",
       "      <td>2.060059</td>\n",
       "      <td>2.170106</td>\n",
       "    </tr>\n",
       "    <tr>\n",
       "      <th>min</th>\n",
       "      <td>3.000000</td>\n",
       "      <td>2007.000000</td>\n",
       "      <td>2010.000000</td>\n",
       "    </tr>\n",
       "    <tr>\n",
       "      <th>25%</th>\n",
       "      <td>3.000000</td>\n",
       "      <td>2009.000000</td>\n",
       "      <td>2012.000000</td>\n",
       "    </tr>\n",
       "    <tr>\n",
       "      <th>50%</th>\n",
       "      <td>3.000000</td>\n",
       "      <td>2011.000000</td>\n",
       "      <td>2014.000000</td>\n",
       "    </tr>\n",
       "    <tr>\n",
       "      <th>75%</th>\n",
       "      <td>4.000000</td>\n",
       "      <td>2012.000000</td>\n",
       "      <td>2016.000000</td>\n",
       "    </tr>\n",
       "    <tr>\n",
       "      <th>max</th>\n",
       "      <td>5.000000</td>\n",
       "      <td>2014.000000</td>\n",
       "      <td>2017.000000</td>\n",
       "    </tr>\n",
       "    <tr>\n",
       "      <th rowspan=\"8\" valign=\"top\">Monsieur</th>\n",
       "      <th>count</th>\n",
       "      <td>368.000000</td>\n",
       "      <td>368.000000</td>\n",
       "      <td>368.000000</td>\n",
       "    </tr>\n",
       "    <tr>\n",
       "      <th>mean</th>\n",
       "      <td>3.480978</td>\n",
       "      <td>2010.475543</td>\n",
       "      <td>2013.956522</td>\n",
       "    </tr>\n",
       "    <tr>\n",
       "      <th>std</th>\n",
       "      <td>0.745316</td>\n",
       "      <td>2.029604</td>\n",
       "      <td>2.017164</td>\n",
       "    </tr>\n",
       "    <tr>\n",
       "      <th>min</th>\n",
       "      <td>3.000000</td>\n",
       "      <td>2007.000000</td>\n",
       "      <td>2010.000000</td>\n",
       "    </tr>\n",
       "    <tr>\n",
       "      <th>25%</th>\n",
       "      <td>3.000000</td>\n",
       "      <td>2009.000000</td>\n",
       "      <td>2012.750000</td>\n",
       "    </tr>\n",
       "    <tr>\n",
       "      <th>50%</th>\n",
       "      <td>3.000000</td>\n",
       "      <td>2011.000000</td>\n",
       "      <td>2014.000000</td>\n",
       "    </tr>\n",
       "    <tr>\n",
       "      <th>75%</th>\n",
       "      <td>4.000000</td>\n",
       "      <td>2012.000000</td>\n",
       "      <td>2016.000000</td>\n",
       "    </tr>\n",
       "    <tr>\n",
       "      <th>max</th>\n",
       "      <td>7.000000</td>\n",
       "      <td>2014.000000</td>\n",
       "      <td>2017.000000</td>\n",
       "    </tr>\n",
       "  </tbody>\n",
       "</table>\n",
       "</div>"
      ],
      "text/plain": [
       "                     ydiff      year_S1      year_S6\n",
       "civility                                            \n",
       "Madame   count   29.000000    29.000000    29.000000\n",
       "         mean     3.310345  2010.620690  2013.931034\n",
       "         std      0.541390     2.060059     2.170106\n",
       "         min      3.000000  2007.000000  2010.000000\n",
       "         25%      3.000000  2009.000000  2012.000000\n",
       "         50%      3.000000  2011.000000  2014.000000\n",
       "         75%      4.000000  2012.000000  2016.000000\n",
       "         max      5.000000  2014.000000  2017.000000\n",
       "Monsieur count  368.000000   368.000000   368.000000\n",
       "         mean     3.480978  2010.475543  2013.956522\n",
       "         std      0.745316     2.029604     2.017164\n",
       "         min      3.000000  2007.000000  2010.000000\n",
       "         25%      3.000000  2009.000000  2012.750000\n",
       "         50%      3.000000  2011.000000  2014.000000\n",
       "         75%      4.000000  2012.000000  2016.000000\n",
       "         max      7.000000  2014.000000  2017.000000"
      ]
     },
     "execution_count": 18,
     "metadata": {},
     "output_type": "execute_result"
    }
   ],
   "source": [
    "bStudentsByGender = bStudentsS1toS6.groupby(bStudentsS1toS6.civility)\n",
    "bStudentsByGender.describe()"
   ]
  },
  {
   "cell_type": "markdown",
   "metadata": {},
   "source": [
    "Nothing significant to report here, only that most of the graduated students are men (368 against 29)."
   ]
  },
  {
   "cell_type": "code",
   "execution_count": 19,
   "metadata": {
    "collapsed": false
   },
   "outputs": [
    {
     "name": "stdout",
     "output_type": "stream",
     "text": [
      "Mean:\n",
      "civility\n",
      "Madame      3.310345\n",
      "Monsieur    3.480978\n",
      "Name: ydiff, dtype: float64\n",
      "STD:\n",
      "civility\n",
      "Madame      0.541390\n",
      "Monsieur    0.745316\n",
      "Name: ydiff, dtype: float64\n"
     ]
    },
    {
     "data": {
      "image/png": "[encoded data removed]",
      "text/plain": [
       "<matplotlib.figure.Figure at 0x24d2e0911d0>"
      ]
     },
     "metadata": {},
     "output_type": "display_data"
    }
   ],
   "source": [
    "bStudentsByGender['ydiff'].mean().plot.bar()\n",
    "print(\"Mean:\\n\" + str(bStudentsByGender['ydiff'].mean()))\n",
    "print(\"STD:\\n\" + str(bStudentsByGender['ydiff'].std()))"
   ]
  },
  {
   "cell_type": "markdown",
   "metadata": {},
   "source": [
    "Using a boxplot, we can barely see any difference. Except for an outlier in the male category"
   ]
  },
  {
   "cell_type": "code",
   "execution_count": 20,
   "metadata": {
    "collapsed": false
   },
   "outputs": [
    {
     "data": {
      "text/plain": [
       "OrderedDict([('Madame',\n",
       "              <matplotlib.axes._subplots.AxesSubplot at 0x24d2fa3f240>),\n",
       "             ('Monsieur',\n",
       "              <matplotlib.axes._subplots.AxesSubplot at 0x24d2fa8ce80>)])"
      ]
     },
     "execution_count": 20,
     "metadata": {},
     "output_type": "execute_result"
    },
    {
     "data": {
      "image/png": "[encoded data removed]",
      "text/plain": [
       "<matplotlib.figure.Figure at 0x24d2f126438>"
      ]
     },
     "metadata": {},
     "output_type": "display_data"
    }
   ],
   "source": [
    "bStudentsByGender.boxplot(column ='ydiff', return_type='axes' )"
   ]
  },
  {
   "cell_type": "markdown",
   "metadata": {},
   "source": [
    "The best test to determine whether the difference in distribution is actually different or not is the Wilcoxon-Mann-Whitney u test. For two reasons :\n",
    "- This isn't a normal distribution (peak will be at 3, but you can't go left, only right)\n",
    "- We aren't comparing paired samples\n",
    "\n",
    "We will use it now with the two tailed test because we're looking for significant differences in any direction"
   ]
  },
  {
   "cell_type": "code",
   "execution_count": 102,
   "metadata": {
    "collapsed": false
   },
   "outputs": [
    {
     "data": {
      "text/plain": [
       "0.31072323298070637"
      ]
     },
     "execution_count": 102,
     "metadata": {},
     "output_type": "execute_result"
    }
   ],
   "source": [
    "subset_male = bStudentsS1toS6[bStudentsS1toS6['civility'] == 'Monsieur'  ]\n",
    "subset_female = bStudentsS1toS6[bStudentsS1toS6['civility'] == 'Madame'  ]\n",
    "\n",
    "stats.mannwhitneyu(subset_male.ydiff, subset_female.ydiff, alternative = 'two-sided').pvalue"
   ]
  },
  {
   "cell_type": "markdown",
   "metadata": {},
   "source": [
    "As we can see we are far from a significant p-value.\n",
    "\n",
    "So we can conclude that there is no significant difference here, only that female students are a bit better and more uniformly distributed, but the size of the sample is too low to establish conclusions."
   ]
  },
  {
   "cell_type": "markdown",
   "metadata": {},
   "source": [
    "## 3. Master\n"
   ]
  },
  {
   "cell_type": "markdown",
   "metadata": {
    "collapsed": true
   },
   "source": [
    "Now let's try to do the same thing for the Master students. We will use the same query fuction "
   ]
  },
  {
   "cell_type": "code",
   "execution_count": 22,
   "metadata": {
    "collapsed": false
   },
   "outputs": [
    {
     "data": {
      "text/plain": [
       "(2716, 13)"
      ]
     },
     "execution_count": 22,
     "metadata": {},
     "output_type": "execute_result"
    }
   ],
   "source": [
    "frames = []\n",
    "for year in range(2007, 2017):\n",
    "    for semester in range (1, 4):\n",
    "        if(semester % 2 == 0 ):\n",
    "            season=\"de printemps\"\n",
    "        else:\n",
    "            season=\"d'automne\"\n",
    "            \n",
    "        df = query_epfl(\"Informatique\", year,year+1, \"Master semestre\", semester, season)\n",
    "        df['year'] = year\n",
    "        df['semester'] = semester\n",
    "        #we use semester as first index for simplicity of use in next part\n",
    "        df.set_index(['semester', 'year', 'sciper'], drop=False, append=False, inplace=True)\n",
    "        if (not df.index.is_unique):\n",
    "            print(\"Error: non unique index in year:\" + str(year) + \"-\" + str(year+1) + \", semester:\" + str(semester) + \", season:\" + str(season))\n",
    "            \n",
    "        frames.append(df)\n",
    "\n",
    "msStudents = pd.concat(frames)\n",
    "msStudents.shape"
   ]
  },
  {
   "cell_type": "markdown",
   "metadata": {
    "collapsed": true
   },
   "source": [
    "And again just a quick check"
   ]
  },
  {
   "cell_type": "code",
   "execution_count": 23,
   "metadata": {
    "collapsed": false
   },
   "outputs": [
    {
     "data": {
      "text/plain": [
       "True"
      ]
     },
     "execution_count": 23,
     "metadata": {},
     "output_type": "execute_result"
    }
   ],
   "source": [
    "msStudents.index.is_unique"
   ]
  },
  {
   "cell_type": "code",
   "execution_count": 24,
   "metadata": {
    "collapsed": false
   },
   "outputs": [
    {
     "data": {
      "text/html": [
       "<div>\n",
       "<table border=\"1\" class=\"dataframe\">\n",
       "  <thead>\n",
       "    <tr style=\"text-align: right;\">\n",
       "      <th></th>\n",
       "      <th></th>\n",
       "      <th></th>\n",
       "      <th>civility</th>\n",
       "      <th>name</th>\n",
       "      <th>bachelor_orientation</th>\n",
       "      <th>master_orientation</th>\n",
       "      <th>specialisation</th>\n",
       "      <th>optional_spec</th>\n",
       "      <th>minor</th>\n",
       "      <th>status</th>\n",
       "      <th>exchange_type</th>\n",
       "      <th>exchange_school</th>\n",
       "      <th>sciper</th>\n",
       "      <th>year</th>\n",
       "      <th>semester</th>\n",
       "    </tr>\n",
       "    <tr>\n",
       "      <th>semester</th>\n",
       "      <th>year</th>\n",
       "      <th>sciper</th>\n",
       "      <th></th>\n",
       "      <th></th>\n",
       "      <th></th>\n",
       "      <th></th>\n",
       "      <th></th>\n",
       "      <th></th>\n",
       "      <th></th>\n",
       "      <th></th>\n",
       "      <th></th>\n",
       "      <th></th>\n",
       "      <th></th>\n",
       "      <th></th>\n",
       "      <th></th>\n",
       "    </tr>\n",
       "  </thead>\n",
       "  <tbody>\n",
       "    <tr>\n",
       "      <th rowspan=\"5\" valign=\"top\">1</th>\n",
       "      <th rowspan=\"5\" valign=\"top\">2007</th>\n",
       "      <th>153066</th>\n",
       "      <td>Monsieur</td>\n",
       "      <td>Aeberhard François-Xavier</td>\n",
       "      <td>NaN</td>\n",
       "      <td>NaN</td>\n",
       "      <td>NaN</td>\n",
       "      <td>NaN</td>\n",
       "      <td>NaN</td>\n",
       "      <td>Présent</td>\n",
       "      <td>NaN</td>\n",
       "      <td>NaN</td>\n",
       "      <td>153066</td>\n",
       "      <td>2007</td>\n",
       "      <td>1</td>\n",
       "    </tr>\n",
       "    <tr>\n",
       "      <th>180027</th>\n",
       "      <td>Madame</td>\n",
       "      <td>Agarwal Megha</td>\n",
       "      <td>NaN</td>\n",
       "      <td>NaN</td>\n",
       "      <td>NaN</td>\n",
       "      <td>NaN</td>\n",
       "      <td>NaN</td>\n",
       "      <td>Présent</td>\n",
       "      <td>NaN</td>\n",
       "      <td>NaN</td>\n",
       "      <td>180027</td>\n",
       "      <td>2007</td>\n",
       "      <td>1</td>\n",
       "    </tr>\n",
       "    <tr>\n",
       "      <th>152232</th>\n",
       "      <td>Monsieur</td>\n",
       "      <td>Anagnostaras David</td>\n",
       "      <td>NaN</td>\n",
       "      <td>NaN</td>\n",
       "      <td>NaN</td>\n",
       "      <td>NaN</td>\n",
       "      <td>NaN</td>\n",
       "      <td>Présent</td>\n",
       "      <td>NaN</td>\n",
       "      <td>NaN</td>\n",
       "      <td>152232</td>\n",
       "      <td>2007</td>\n",
       "      <td>1</td>\n",
       "    </tr>\n",
       "    <tr>\n",
       "      <th>177395</th>\n",
       "      <td>Monsieur</td>\n",
       "      <td>Auroux Damien</td>\n",
       "      <td>NaN</td>\n",
       "      <td>NaN</td>\n",
       "      <td>NaN</td>\n",
       "      <td>NaN</td>\n",
       "      <td>NaN</td>\n",
       "      <td>Présent</td>\n",
       "      <td>NaN</td>\n",
       "      <td>NaN</td>\n",
       "      <td>177395</td>\n",
       "      <td>2007</td>\n",
       "      <td>1</td>\n",
       "    </tr>\n",
       "    <tr>\n",
       "      <th>161970</th>\n",
       "      <td>Monsieur</td>\n",
       "      <td>Awalebo Joseph</td>\n",
       "      <td>NaN</td>\n",
       "      <td>NaN</td>\n",
       "      <td>NaN</td>\n",
       "      <td>NaN</td>\n",
       "      <td>NaN</td>\n",
       "      <td>Présent</td>\n",
       "      <td>NaN</td>\n",
       "      <td>NaN</td>\n",
       "      <td>161970</td>\n",
       "      <td>2007</td>\n",
       "      <td>1</td>\n",
       "    </tr>\n",
       "  </tbody>\n",
       "</table>\n",
       "</div>"
      ],
      "text/plain": [
       "                      civility                       name  \\\n",
       "semester year sciper                                        \n",
       "1        2007 153066  Monsieur  Aeberhard François-Xavier   \n",
       "              180027    Madame              Agarwal Megha   \n",
       "              152232  Monsieur         Anagnostaras David   \n",
       "              177395  Monsieur              Auroux Damien   \n",
       "              161970  Monsieur             Awalebo Joseph   \n",
       "\n",
       "                      bachelor_orientation  master_orientation specialisation  \\\n",
       "semester year sciper                                                            \n",
       "1        2007 153066                   NaN                 NaN            NaN   \n",
       "              180027                   NaN                 NaN            NaN   \n",
       "              152232                   NaN                 NaN            NaN   \n",
       "              177395                   NaN                 NaN            NaN   \n",
       "              161970                   NaN                 NaN            NaN   \n",
       "\n",
       "                      optional_spec minor   status exchange_type  \\\n",
       "semester year sciper                                               \n",
       "1        2007 153066            NaN   NaN  Présent           NaN   \n",
       "              180027            NaN   NaN  Présent           NaN   \n",
       "              152232            NaN   NaN  Présent           NaN   \n",
       "              177395            NaN   NaN  Présent           NaN   \n",
       "              161970            NaN   NaN  Présent           NaN   \n",
       "\n",
       "                     exchange_school  sciper  year  semester  \n",
       "semester year sciper                                          \n",
       "1        2007 153066             NaN  153066  2007         1  \n",
       "              180027             NaN  180027  2007         1  \n",
       "              152232             NaN  152232  2007         1  \n",
       "              177395             NaN  177395  2007         1  \n",
       "              161970             NaN  161970  2007         1  "
      ]
     },
     "execution_count": 24,
     "metadata": {},
     "output_type": "execute_result"
    }
   ],
   "source": [
    "msStudents.head()"
   ]
  },
  {
   "cell_type": "code",
   "execution_count": 25,
   "metadata": {
    "collapsed": false
   },
   "outputs": [],
   "source": [
    "msStudentsS1toS2 = pd.merge(msStudents.loc[1], msStudents.loc[2], how='inner', on=['civility', 'name', 'sciper'], suffixes=('_S1', '_S2'))\n",
    "msStudentsS1toS2 = msStudentsS1toS2[['civility', 'sciper', 'minor_S2' , 'specialisation_S2','year_S1', 'year_S2']] #only retain the important fields\n",
    "# We only get the minor and spec. info form the second semester because it is the most recent data and the time when most people make the slection\n",
    "\n",
    "#Here we will make an assumption that all people that are in semester 2 and have not selected an minor or spec, \n",
    "#decided to take the 90 ECTS master and a probaly doing a master project\n",
    "msStudentsS1toS2 = msStudentsS1toS2[pd.isnull(msStudentsS1toS2['minor_S2']) & pd.isnull(msStudentsS1toS2['specialisation_S2'])]\n",
    "\n",
    "#We will calculate the study time in months \n",
    "msStudentsS1toS2['year_S2'] += 1 #again, we do this because a spring semester in (2015-2016) will count as 2015 but the actual year is 2016\n",
    "msStudentsS1toS2['months'] = (msStudentsS1toS2['year_S2'] - msStudentsS1toS2['year_S1']) * 12 + 6\n",
    "\n",
    "msStudentsS1toS2= msStudentsS1toS2.groupby('sciper', group_keys=False).apply(lambda x: x.ix[x.months.idxmax()])\n",
    "msStudentsS1toS2.set_index('sciper', inplace=True)"
   ]
  },
  {
   "cell_type": "code",
   "execution_count": 26,
   "metadata": {
    "collapsed": false
   },
   "outputs": [
    {
     "data": {
      "text/html": [
       "<div>\n",
       "<table border=\"1\" class=\"dataframe\">\n",
       "  <thead>\n",
       "    <tr style=\"text-align: right;\">\n",
       "      <th></th>\n",
       "      <th>civility</th>\n",
       "      <th>minor_S2</th>\n",
       "      <th>specialisation_S2</th>\n",
       "      <th>year_S1</th>\n",
       "      <th>year_S2</th>\n",
       "      <th>months</th>\n",
       "    </tr>\n",
       "    <tr>\n",
       "      <th>sciper</th>\n",
       "      <th></th>\n",
       "      <th></th>\n",
       "      <th></th>\n",
       "      <th></th>\n",
       "      <th></th>\n",
       "      <th></th>\n",
       "    </tr>\n",
       "  </thead>\n",
       "  <tbody>\n",
       "    <tr>\n",
       "      <th>146330</th>\n",
       "      <td>Monsieur</td>\n",
       "      <td>NaN</td>\n",
       "      <td>NaN</td>\n",
       "      <td>2007</td>\n",
       "      <td>2008</td>\n",
       "      <td>18</td>\n",
       "    </tr>\n",
       "    <tr>\n",
       "      <th>146929</th>\n",
       "      <td>Monsieur</td>\n",
       "      <td>NaN</td>\n",
       "      <td>NaN</td>\n",
       "      <td>2007</td>\n",
       "      <td>2008</td>\n",
       "      <td>18</td>\n",
       "    </tr>\n",
       "    <tr>\n",
       "      <th>147008</th>\n",
       "      <td>Monsieur</td>\n",
       "      <td>NaN</td>\n",
       "      <td>NaN</td>\n",
       "      <td>2011</td>\n",
       "      <td>2013</td>\n",
       "      <td>30</td>\n",
       "    </tr>\n",
       "    <tr>\n",
       "      <th>153066</th>\n",
       "      <td>Monsieur</td>\n",
       "      <td>NaN</td>\n",
       "      <td>NaN</td>\n",
       "      <td>2007</td>\n",
       "      <td>2009</td>\n",
       "      <td>30</td>\n",
       "    </tr>\n",
       "    <tr>\n",
       "      <th>153746</th>\n",
       "      <td>Monsieur</td>\n",
       "      <td>NaN</td>\n",
       "      <td>NaN</td>\n",
       "      <td>2007</td>\n",
       "      <td>2008</td>\n",
       "      <td>18</td>\n",
       "    </tr>\n",
       "  </tbody>\n",
       "</table>\n",
       "</div>"
      ],
      "text/plain": [
       "        civility  minor_S2  specialisation_S2  year_S1  year_S2  months\n",
       "sciper                                                                 \n",
       "146330  Monsieur       NaN                NaN     2007     2008      18\n",
       "146929  Monsieur       NaN                NaN     2007     2008      18\n",
       "147008  Monsieur       NaN                NaN     2011     2013      30\n",
       "153066  Monsieur       NaN                NaN     2007     2009      30\n",
       "153746  Monsieur       NaN                NaN     2007     2008      18"
      ]
     },
     "execution_count": 26,
     "metadata": {},
     "output_type": "execute_result"
    }
   ],
   "source": [
    "msStudentsS1toS2.head()"
   ]
  },
  {
   "cell_type": "code",
   "execution_count": 27,
   "metadata": {
    "collapsed": false
   },
   "outputs": [
    {
     "data": {
      "text/plain": [
       "months\n",
       "6      23\n",
       "18    404\n",
       "30     85\n",
       "42      4\n",
       "Name: civility, dtype: int64"
      ]
     },
     "execution_count": 27,
     "metadata": {},
     "output_type": "execute_result"
    }
   ],
   "source": [
    "msStudentsS1toS2.groupby('months').count().civility"
   ]
  },
  {
   "cell_type": "code",
   "execution_count": 28,
   "metadata": {
    "collapsed": false
   },
   "outputs": [
    {
     "data": {
      "text/plain": [
       "19.627906976744185"
      ]
     },
     "execution_count": 28,
     "metadata": {},
     "output_type": "execute_result"
    }
   ],
   "source": [
    "msStudentsS1toS2.months.mean()"
   ]
  },
  {
   "cell_type": "markdown",
   "metadata": {
    "collapsed": true
   },
   "source": [
    "From here we can see that the average time it takes to complete a masters at epfl with out a specilization or minor is aorund 19.6 months. Most people finish in 18 months which is the required minimum.\n",
    "There are some people that appear to have started the studies directly in their second semester and we assume that they are people with special treatment."
   ]
  },
  {
   "cell_type": "markdown",
   "metadata": {},
   "source": [
    "Now let's take a look at the people with a minor or specilization"
   ]
  },
  {
   "cell_type": "code",
   "execution_count": 29,
   "metadata": {
    "collapsed": true
   },
   "outputs": [],
   "source": [
    "msStudentsS1toS2Spec = pd.merge(msStudents.loc[1], msStudents.loc[2], how='inner', on=['civility', 'name', 'sciper'], suffixes=('_S1', '_S2'))\n",
    "msStudentsS1toS2Spec = msStudentsS1toS2Spec[['civility', 'sciper', 'minor_S2' , 'specialisation_S2','year_S1', 'year_S2']] "
   ]
  },
  {
   "cell_type": "markdown",
   "metadata": {},
   "source": [
    "We will use the data we aleady have but this time we will also check if the sudent has finished Semester 3"
   ]
  },
  {
   "cell_type": "code",
   "execution_count": 30,
   "metadata": {
    "collapsed": false
   },
   "outputs": [],
   "source": [
    "msStudentsS1toS2Spec = msStudentsS1toS2Spec[pd.notnull(msStudentsS1toS2Spec['minor_S2']) | pd.notnull(msStudentsS1toS2Spec['specialisation_S2'])]\n",
    "#We will calculate the study time in months \n",
    "msStudentsS1toS2Spec['year_S2'] += 1 #again, we do this because a spring semester in (2015-2016) will count as 2015 but the actual year is 2016\n",
    "msStudentsS1toS2Spec['months'] = (msStudentsS1toS2Spec['year_S2'] - msStudentsS1toS2Spec['year_S1']) * 12 + 6\n",
    "                                                                                                      \n",
    "\n",
    "msStudentsS1toS2Spec= msStudentsS1toS2Spec.groupby('sciper', group_keys=False).apply(lambda x: x.ix[x.months.idxmax()])\n",
    "msStudentsS1toS2Spec.set_index('sciper', inplace=True)"
   ]
  },
  {
   "cell_type": "markdown",
   "metadata": {},
   "source": [
    "Now we will get the people that have done Semester 3 and we will elimintae students which have a Minor or Specilization and do not have a Master Semester 3"
   ]
  },
  {
   "cell_type": "code",
   "execution_count": 31,
   "metadata": {
    "collapsed": false
   },
   "outputs": [],
   "source": [
    "msStudentsS3 = msStudents.loc[3]\n",
    "msStudentsS3.set_index('sciper', inplace=True)\n",
    "indexes = msStudentsS1toS2Spec.index.intersection(msStudentsS3.index.unique())\n",
    "msStudentsS1toS2Spec = msStudentsS1toS2Spec.loc[indexes]\n",
    "#Here we also need to do one more correction Since we have the time difference between S2 and S1 The people that do S1, S2 and S3 \n",
    "#And then finish will appear as only 18-months we need to correct this because this is infact 24 since we already checked if they did S3\n",
    "msStudentsS1toS2Spec.loc[msStudentsS1toS2Spec['months'] == 18, 'months'] = 24"
   ]
  },
  {
   "cell_type": "markdown",
   "metadata": {},
   "source": [
    "Now we can calucalte the average time it takes to finish with a Minor or Specilization"
   ]
  },
  {
   "cell_type": "code",
   "execution_count": 32,
   "metadata": {
    "collapsed": false
   },
   "outputs": [
    {
     "data": {
      "text/plain": [
       "27.47252747252747"
      ]
     },
     "execution_count": 32,
     "metadata": {},
     "output_type": "execute_result"
    }
   ],
   "source": [
    "msStudentsS1toS2Spec.months.mean() "
   ]
  },
  {
   "cell_type": "markdown",
   "metadata": {},
   "source": [
    "We can now calucalte and overall averrage of all Masters "
   ]
  },
  {
   "cell_type": "code",
   "execution_count": 33,
   "metadata": {
    "collapsed": false
   },
   "outputs": [
    {
     "data": {
      "text/plain": [
       "22.342205323193916"
      ]
     },
     "execution_count": 33,
     "metadata": {},
     "output_type": "execute_result"
    }
   ],
   "source": [
    "(msStudentsS1toS2Spec.months.mean() * len(msStudentsS1toS2Spec) + msStudentsS1toS2.months.mean() \n",
    " * len(msStudentsS1toS2)) / (len(msStudentsS1toS2Spec)+len(msStudentsS1toS2))"
   ]
  },
  {
   "cell_type": "markdown",
   "metadata": {},
   "source": [
    "So on average a student at EPFL will finish their Master in about  22 months"
   ]
  },
  {
   "cell_type": "markdown",
   "metadata": {},
   "source": [
    "Let's break down the averages by Specilizations"
   ]
  },
  {
   "cell_type": "code",
   "execution_count": 34,
   "metadata": {
    "collapsed": true
   },
   "outputs": [],
   "source": [
    "msStudentsS1toS2Spec = msStudentsS1toS2Spec[pd.notnull(msStudentsS1toS2Spec['specialisation_S2'])]"
   ]
  },
  {
   "cell_type": "code",
   "execution_count": 35,
   "metadata": {
    "collapsed": false
   },
   "outputs": [
    {
     "data": {
      "text/plain": [
       "specialisation_S2\n",
       "Biocomputing                      30.000000\n",
       "Computer Engineering - SP         27.000000\n",
       "Computer Science Theory           24.000000\n",
       "Data Analytics                    24.000000\n",
       "Foundations of Software           28.333333\n",
       "Information Security - SP         25.714286\n",
       "Internet Information Systems      24.000000\n",
       "Internet computing                27.662338\n",
       "Service science                   27.000000\n",
       "Signals, Images and Interfaces    28.857143\n",
       "Software Systems                  25.500000\n",
       "Name: months, dtype: float64"
      ]
     },
     "execution_count": 35,
     "metadata": {},
     "output_type": "execute_result"
    }
   ],
   "source": [
    "msStudentsS1toS2Spec.groupby('specialisation_S2').months.mean()"
   ]
  },
  {
   "cell_type": "markdown",
   "metadata": {},
   "source": [
    "I will use only the average of the students with Sepcilizations to compare it with average stay per each category. For this task we will use the One-Sample T-Test but first let's do a simple describe"
   ]
  },
  {
   "cell_type": "code",
   "execution_count": 36,
   "metadata": {
    "collapsed": false
   },
   "outputs": [
    {
     "data": {
      "text/plain": [
       "specialisation_S2                    \n",
       "Biocomputing                    count     2.000000\n",
       "                                mean     30.000000\n",
       "                                std       0.000000\n",
       "                                min      30.000000\n",
       "                                25%      30.000000\n",
       "                                50%      30.000000\n",
       "                                75%      30.000000\n",
       "                                max      30.000000\n",
       "Computer Engineering - SP       count    16.000000\n",
       "                                mean     27.000000\n",
       "                                std       3.098387\n",
       "                                min      24.000000\n",
       "                                25%      24.000000\n",
       "                                50%      27.000000\n",
       "                                75%      30.000000\n",
       "                                max      30.000000\n",
       "Computer Science Theory         count     1.000000\n",
       "                                mean     24.000000\n",
       "                                std            NaN\n",
       "                                min      24.000000\n",
       "                                25%      24.000000\n",
       "                                50%      24.000000\n",
       "                                75%      24.000000\n",
       "                                max      24.000000\n",
       "Data Analytics                  count     3.000000\n",
       "                                mean     24.000000\n",
       "                                std       0.000000\n",
       "                                min      24.000000\n",
       "                                25%      24.000000\n",
       "                                50%      24.000000\n",
       "                                75%      24.000000\n",
       "                                max      24.000000\n",
       "Foundations of Software         count    54.000000\n",
       "                                mean     28.333333\n",
       "                                std       4.425484\n",
       "                                min      24.000000\n",
       "                                25%      24.000000\n",
       "                                50%      30.000000\n",
       "                                75%      30.000000\n",
       "                                max      42.000000\n",
       "Information Security - SP       count     7.000000\n",
       "                                mean     25.714286\n",
       "                                std       2.927700\n",
       "                                min      24.000000\n",
       "                                25%      24.000000\n",
       "                                50%      24.000000\n",
       "                                75%      27.000000\n",
       "                                max      30.000000\n",
       "Internet Information Systems    count     1.000000\n",
       "                                mean     24.000000\n",
       "                                std            NaN\n",
       "                                min      24.000000\n",
       "                                25%      24.000000\n",
       "                                50%      24.000000\n",
       "                                75%      24.000000\n",
       "                                max      24.000000\n",
       "Internet computing              count    77.000000\n",
       "                                mean     27.662338\n",
       "                                std       4.476872\n",
       "                                min      24.000000\n",
       "                                25%      24.000000\n",
       "                                50%      30.000000\n",
       "                                75%      30.000000\n",
       "                                max      42.000000\n",
       "Service science                 count     2.000000\n",
       "                                mean     27.000000\n",
       "                                std       4.242641\n",
       "                                min      24.000000\n",
       "                                25%      25.500000\n",
       "                                50%      27.000000\n",
       "                                75%      28.500000\n",
       "                                max      30.000000\n",
       "Signals, Images and Interfaces  count    21.000000\n",
       "                                mean     28.857143\n",
       "                                std       5.237229\n",
       "                                min      24.000000\n",
       "                                25%      24.000000\n",
       "                                50%      30.000000\n",
       "                                75%      30.000000\n",
       "                                max      42.000000\n",
       "Software Systems                count    16.000000\n",
       "                                mean     25.500000\n",
       "                                std       2.683282\n",
       "                                min      24.000000\n",
       "                                25%      24.000000\n",
       "                                50%      24.000000\n",
       "                                75%      25.500000\n",
       "                                max      30.000000\n",
       "Name: months, dtype: float64"
      ]
     },
     "execution_count": 36,
     "metadata": {},
     "output_type": "execute_result"
    }
   ],
   "source": [
    "  pd.set_option('display.max_rows', 1000) #Just to force Pandas to print all the rows and not to print ... \n",
    "msStudentsS1toS2Spec.groupby('specialisation_S2').months.describe()"
   ]
  },
  {
   "cell_type": "markdown",
   "metadata": {},
   "source": [
    "For the describe output we can see that for some specilizations we have very small samples so it makes no sense to use a T test"
   ]
  },
  {
   "cell_type": "code",
   "execution_count": 37,
   "metadata": {
    "collapsed": false
   },
   "outputs": [
    {
     "name": "stdout",
     "output_type": "stream",
     "text": [
      "Ttest_1sampResult(statistic=-0.77459666924148518, pvalue=0.45061617484036998)\n",
      "Ttest_1sampResult(statistic=1.2176923119055889, pvalue=0.22873459954809389)\n",
      "Ttest_1sampResult(statistic=0.12218594249202235, pvalue=0.90307427274415886)\n",
      "Ttest_1sampResult(statistic=1.0999999999999992, pvalue=0.28439662758989281)\n",
      "Ttest_1sampResult(statistic=-3.1304951684997078, pvalue=0.0068751634124808612)\n"
     ]
    }
   ],
   "source": [
    "print(stats.ttest_1samp(a= msStudentsS1toS2Spec.loc[msStudentsS1toS2Spec['specialisation_S2'] == 'Computer Engineering - SP', 'months'],    popmean= msStudentsS1toS2Spec.months.mean()))\n",
    "print(stats.ttest_1samp(a= msStudentsS1toS2Spec.loc[msStudentsS1toS2Spec['specialisation_S2'] == 'Foundations of Software', 'months'],    popmean= msStudentsS1toS2Spec.months.mean()))\n",
    "print(stats.ttest_1samp(a= msStudentsS1toS2Spec.loc[msStudentsS1toS2Spec['specialisation_S2'] == 'Internet computing', 'months'],    popmean= msStudentsS1toS2Spec.months.mean()))\n",
    "print(stats.ttest_1samp(a= msStudentsS1toS2Spec.loc[msStudentsS1toS2Spec['specialisation_S2'] == 'Signals, Images and Interfaces', 'months'],    popmean= msStudentsS1toS2Spec.months.mean()))\n",
    "print(stats.ttest_1samp(a= msStudentsS1toS2Spec.loc[msStudentsS1toS2Spec['specialisation_S2'] == 'Software Systems', 'months'],    popmean= msStudentsS1toS2Spec.months.mean()))"
   ]
  },
  {
   "cell_type": "markdown",
   "metadata": {
    "collapsed": false
   },
   "source": [
    "We can conclude that only in the last test the p value is below the threshold chosen for statistical significance of 0.05, but since the sample is so small there isn't much to conclude from this."
   ]
  },
  {
   "cell_type": "markdown",
   "metadata": {
    "collapsed": false
   },
   "source": [
    "## 4. BONUS PART"
   ]
  },
  {
   "cell_type": "markdown",
   "metadata": {},
   "source": [
    "We will look at the evolution of time spent in a master's degree for men and women.\n",
    "First we beging with men :\n",
    "\n",
    "The whiter a point is, the denser it is"
   ]
  },
  {
   "cell_type": "code",
   "execution_count": 81,
   "metadata": {
    "collapsed": false
   },
   "outputs": [
    {
     "data": {
      "image/png": "[encoded data removed]",
      "text/plain": [
       "<matplotlib.figure.Figure at 0x24d316fd208>"
      ]
     },
     "metadata": {},
     "output_type": "display_data"
    }
   ],
   "source": [
    "msStudentsTotal = msStudentsS1toS2.append(msStudentsS1toS2Spec) #merge the students with and without specs\n",
    "\n",
    "subset_male = msStudentsTotal[msStudentsTotal['civility'] == 'Monsieur'  ]\n",
    "subset_female = msStudentsTotal[msStudentsTotal['civility'] == 'Madame'  ]\n",
    "\n",
    "xy = np.vstack([subset_male.year_S1,subset_male.months]) #used to get density per point, inspired by http://stackoverflow.com/questions/20105364/how-can-i-make-a-scatter-plot-colored-by-density-in-matplotlib\n",
    "z = stats.gaussian_kde(xy)(xy)\n",
    "\n",
    "plt.scatter(x=subset_male.year_S1, y=subset_male.months, c = z, s=80);\n"
   ]
  },
  {
   "cell_type": "markdown",
   "metadata": {},
   "source": [
    "And now for women"
   ]
  },
  {
   "cell_type": "code",
   "execution_count": 82,
   "metadata": {
    "collapsed": false
   },
   "outputs": [
    {
     "data": {
      "image/png": "[encoded data removed]",
      "text/plain": [
       "<matplotlib.figure.Figure at 0x24d3015f0f0>"
      ]
     },
     "metadata": {},
     "output_type": "display_data"
    }
   ],
   "source": [
    "xy = np.vstack([subset_female.year_S1,subset_female.months]) #used to get density per point, inspired by http://stackoverflow.com/questions/20105364/how-can-i-make-a-scatter-plot-colored-by-density-in-matplotlib\n",
    "z = stats.gaussian_kde(xy)(xy)\n",
    "\n",
    "plt.scatter(x=subset_female.year_S1, y=subset_female.months, c=z, s=80);"
   ]
  },
  {
   "cell_type": "markdown",
   "metadata": {},
   "source": [
    "As we can see the most dense points are in the middle for both groups, men have more outliers but their sample is also much bigger, so this is to be expected and not every statistically relevant\n",
    "\n",
    "\n",
    "We will now ask pandas to describe the stats in months spent in a master's degree per gender, and plot the results that go with it"
   ]
  },
  {
   "cell_type": "code",
   "execution_count": 84,
   "metadata": {
    "collapsed": false
   },
   "outputs": [
    {
     "data": {
      "text/plain": [
       "civility       \n",
       "Madame    count     92.000000\n",
       "          mean      21.782609\n",
       "          std        5.881291\n",
       "          min        6.000000\n",
       "          25%       18.000000\n",
       "          50%       18.000000\n",
       "          75%       30.000000\n",
       "          max       42.000000\n",
       "Monsieur  count    624.000000\n",
       "          mean      21.865385\n",
       "          std        6.481569\n",
       "          min        6.000000\n",
       "          25%       18.000000\n",
       "          50%       18.000000\n",
       "          75%       30.000000\n",
       "          max       42.000000\n",
       "Name: months, dtype: float64"
      ]
     },
     "execution_count": 84,
     "metadata": {},
     "output_type": "execute_result"
    }
   ],
   "source": [
    "msStudentsByGender = msStudentsTotal.groupby(msStudentsTotal.civility)\n",
    "msStudentsByGender.months.describe()"
   ]
  },
  {
   "cell_type": "code",
   "execution_count": 85,
   "metadata": {
    "collapsed": false
   },
   "outputs": [
    {
     "name": "stdout",
     "output_type": "stream",
     "text": [
      "Mean:\n",
      "civility\n",
      "Madame      21.782609\n",
      "Monsieur    21.865385\n",
      "Name: months, dtype: float64\n",
      "STD:\n",
      "civility\n",
      "Madame      5.881291\n",
      "Monsieur    6.481569\n",
      "Name: months, dtype: float64\n"
     ]
    },
    {
     "data": {
      "image/png": "[encoded data removed]",
      "text/plain": [
       "<matplotlib.figure.Figure at 0x24d2ff06390>"
      ]
     },
     "metadata": {},
     "output_type": "display_data"
    }
   ],
   "source": [
    "msStudentsByGender['months'].mean().plot.bar()\n",
    "print(\"Mean:\\n\" + str(msStudentsByGender['months'].mean()))\n",
    "print(\"STD:\\n\" + str(msStudentsByGender['months'].std()))"
   ]
  },
  {
   "cell_type": "code",
   "execution_count": 87,
   "metadata": {
    "collapsed": false
   },
   "outputs": [
    {
     "data": {
      "text/plain": [
       "OrderedDict([('Madame',\n",
       "              <matplotlib.axes._subplots.AxesSubplot at 0x24d2e048dd8>),\n",
       "             ('Monsieur',\n",
       "              <matplotlib.axes._subplots.AxesSubplot at 0x24d313f8470>)])"
      ]
     },
     "execution_count": 87,
     "metadata": {},
     "output_type": "execute_result"
    },
    {
     "data": {
      "image/png": "[encoded data removed]",
      "text/plain": [
       "<matplotlib.figure.Figure at 0x24d3170a6d8>"
      ]
     },
     "metadata": {},
     "output_type": "display_data"
    }
   ],
   "source": [
    "msStudentsByGender.boxplot(column ='months', return_type='axes' )"
   ]
  },
  {
   "cell_type": "markdown",
   "metadata": {
    "collapsed": true
   },
   "source": [
    "As we can clearly see on those graphs, the distributions are extremely close, almost similar. This leads us to believe that the gender of a person has no effect on their stay duration in a master's degree.\n",
    "\n",
    "We can verify this by using the Wilcoxon-Mann-Whitney u test once again, since those are non normally distributed and independent samples\n",
    "\n",
    "We check the null hypothesis \"A person's gender has an effect on the time spent on a master's degree\""
   ]
  },
  {
   "cell_type": "code",
   "execution_count": 101,
   "metadata": {
    "collapsed": false
   },
   "outputs": [
    {
     "data": {
      "text/plain": [
       "0.70839055247428218"
      ]
     },
     "execution_count": 101,
     "metadata": {},
     "output_type": "execute_result"
    }
   ],
   "source": [
    "stats.mannwhitneyu(subset_male.months, subset_female.months, alternative = 'two-sided').pvalue"
   ]
  },
  {
   "cell_type": "markdown",
   "metadata": {},
   "source": [
    "The p value is extremely far from relevant, contradicting the null hypothesis"
   ]
  }
 ],
 "metadata": {
  "anaconda-cloud": {},
  "celltoolbar": "Raw Cell Format",
  "kernelspec": {
   "display_name": "Python [Root]",
   "language": "python",
   "name": "Python [Root]"
  },
  "language_info": {
   "codemirror_mode": {
    "name": "ipython",
    "version": 3
   },
   "file_extension": ".py",
   "mimetype": "text/x-python",
   "name": "python",
   "nbconvert_exporter": "python",
   "pygments_lexer": "ipython3",
   "version": "3.5.2"
  }
 },
 "nbformat": 4,
 "nbformat_minor": 1
}

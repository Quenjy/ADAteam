{
 "cells": [
  {
   "cell_type": "markdown",
   "metadata": {},
   "source": [
    "# Assignment 2 - Data from the web"
   ]
  },
  {
   "cell_type": "markdown",
   "metadata": {},
   "source": [
    "## Data scraping"
   ]
  },
  {
   "cell_type": "markdown",
   "metadata": {},
   "source": [
    "## 1. Obtain all the data"
   ]
  },
  {
   "cell_type": "code",
   "execution_count": 30,
   "metadata": {
    "collapsed": true
   },
   "outputs": [],
   "source": [
    "%matplotlib inline\n",
    "import requests\n",
    "import pandas as pd\n",
    "import numpy as np\n",
    "import math\n",
    "import os\n",
    "import os.path\n",
    "import re\n",
    "import matplotlib.pyplot as plt\n",
    "from IPython.display import display\n",
    "from bs4 import BeautifulSoup\n",
    "from scipy import stats"
   ]
  },
  {
   "cell_type": "markdown",
   "metadata": {},
   "source": [
    "The first thing to do is to get the base URL (basically looking at the address bar of the browser).\n",
    "We need a second variable INDEX_PARAM because this page is using frames, and we'll need the base address to access them."
   ]
  },
  {
   "cell_type": "code",
   "execution_count": 31,
   "metadata": {
    "collapsed": true
   },
   "outputs": [],
   "source": [
    "BASE_URL = \"http://isa.epfl.ch/imoniteur_ISAP/%21gedpublicreports.htm\"\n",
    "INDEX_PARAM = \"ww_i_reportmodel=133685247\""
   ]
  },
  {
   "cell_type": "markdown",
   "metadata": {},
   "source": [
    "Then let's fetch the parameters names, but as it is a bit tricker, BeautifulSoup will be a great help for this (and also some manual html inspection)."
   ]
  },
  {
   "cell_type": "code",
   "execution_count": 32,
   "metadata": {
    "collapsed": false
   },
   "outputs": [
    {
     "name": "stdout",
     "output_type": "stream",
     "text": [
      "!GEDPUBLICREPORTS.filter?ww_i_reportModel=133685247\n"
     ]
    }
   ],
   "source": [
    "r = requests.get(BASE_URL + '?' + INDEX_PARAM)\n",
    "soup = BeautifulSoup(r.text, 'html.parser')\n",
    "\n",
    "\n",
    "#print(soup)\n",
    "\n",
    "for frame in soup.find_all('frame'):\n",
    "    if frame['name'] == 'toc':\n",
    "        r = requests.get(\"http://isa.epfl.ch/imoniteur_ISAP/\" + frame['src'])\n",
    "        print(frame['src'])\n",
    "# The content of the frame\n",
    "\n",
    "# Print slects\n",
    "soup = BeautifulSoup(r.text, 'html.parser')\n",
    "query = 'http://isa.epfl.ch/imoniteur_ISAP/!GEDPUBLICREPORTS.html?ww_x_GPS=-1&ww_i_reportModel=133685247'\n",
    "    \n"
   ]
  },
  {
   "cell_type": "markdown",
   "metadata": {},
   "source": [
    "For convenience, we also create another function that builds the query from some desired parameters."
   ]
  },
  {
   "cell_type": "code",
   "execution_count": 33,
   "metadata": {
    "collapsed": false
   },
   "outputs": [],
   "source": [
    "def build_query(section, startYear, endYear, semesterType, semesterNumber, semesterSeason):\n",
    "    # Print slects\n",
    "    soup = BeautifulSoup(r.text, 'html.parser')\n",
    "    query = 'http://isa.epfl.ch/imoniteur_ISAP/!GEDPUBLICREPORTS.html?ww_x_GPS=-1&ww_i_reportModel=133685247'\n",
    "\n",
    "\n",
    "    for in_put in soup.findAll('input'):\n",
    "        #print (in_put['name'])\n",
    "        if in_put.text == \"xls\":\n",
    "        #print(in_put['value'])\n",
    "            query = query + '&' + in_put['name'] + '=' + in_put['value']\n",
    "     \n",
    "    for select in soup.findAll('select'):\n",
    "    #print (select['name'])\n",
    "        for t in select.findAll('option'):\n",
    "        #print(t)\n",
    "            if t.text == section:\n",
    "            #print(t['value'])\n",
    "                query = query + '&' + select['name'] + '=' + t['value']\n",
    "            if t.text == str(startYear) + '-' + str(endYear):\n",
    "                query = query + '&' + select['name'] + '=' + t['value']\n",
    "            if t.text == semesterType + \" \" + str(semesterNumber):\n",
    "                query = query + '&' + select['name'] + '=' + t['value']\n",
    "            if t.text == \"Semestre \" + semesterSeason:\n",
    "                query = query + '&' + select['name'] + '=' + t['value']\n",
    "    return query\n"
   ]
  },
  {
   "cell_type": "markdown",
   "metadata": {},
   "source": [
    "And finally a nice function to easily query the EPFL page and get the data from it."
   ]
  },
  {
   "cell_type": "code",
   "execution_count": 34,
   "metadata": {
    "collapsed": false
   },
   "outputs": [],
   "source": [
    "DATA_FOLDER_PATH = 'Data/'\n",
    "os.makedirs(DATA_FOLDER_PATH, exist_ok=True) #creates folder it it doesn't exist\n",
    "COLUMNS_NAMES = [\"civility\", \"name\", \"bachelor_orientation\", \"master_orientation\", \"specialisation\", \"optional_spec\", \"minor\", \"status\", \"exchange_type\", \"exchange_school\", \"sciper\"]\n",
    "def query_epfl(section, startYear, endYear, semesterType, semesterNumber, semesterSeason, update = False, writeToFile = True):\n",
    "    #we create files to save the queries (and network bandwidth)\n",
    "    path = str(section) + str(startYear) + str(endYear) + str(semesterType) + str(semesterNumber) + str(semesterSeason)\n",
    "    \n",
    "    #to avoid file naming issues\n",
    "    path = re.sub('[^A-Za-z0-9]+', '', path)\n",
    "    path += \".xls\"\n",
    "    \n",
    "    df = None\n",
    "    #we query the epfl server only if the file does not exist, or if we want to update the data\n",
    "    if(not os.path.isfile(DATA_FOLDER_PATH + path) or update):\n",
    "        queryString = build_query(section, startYear, endYear, semesterType, semesterNumber, semesterSeason)\n",
    "        response = requests.get(queryString, stream=True)\n",
    "        if response.status_code == 200:\n",
    "            data = pd.read_html(response.text, match='.+', flavor=None, header=1, index_col=None, skiprows=1)\n",
    "            df = data[0]\n",
    "            df.drop(df.columns[[11, 12]], axis=1, inplace=True) #remove useless columns (all are empty)\n",
    "            df.columns = COLUMNS_NAMES\n",
    "            \n",
    "            #cleaning the invalid rows (basically mapping the scipers to real numbers and remove the non-number rows)\n",
    "            scipers = df['sciper']\n",
    "            df = df.drop('sciper', axis=1)\n",
    "            df = df.join(scipers.apply(pd.to_numeric, errors='coerce'))\n",
    "            df = df[~df.sciper.isnull()]\n",
    "            \n",
    "            if writeToFile:\n",
    "                df.to_excel(DATA_FOLDER_PATH + path) #save to xls file\n",
    "    else:\n",
    "        df = pd.read_excel(DATA_FOLDER_PATH + path, sheetname=0, header=0)\n",
    "    \n",
    "    return df"
   ]
  },
  {
   "cell_type": "markdown",
   "metadata": {},
   "source": [
    "We can now start using those functions to collect data. \n",
    "Example below:"
   ]
  },
  {
   "cell_type": "code",
   "execution_count": 35,
   "metadata": {
    "collapsed": false
   },
   "outputs": [
    {
     "data": {
      "text/html": [
       "<div>\n",
       "<table border=\"1\" class=\"dataframe\">\n",
       "  <thead>\n",
       "    <tr style=\"text-align: right;\">\n",
       "      <th></th>\n",
       "      <th>civility</th>\n",
       "      <th>name</th>\n",
       "      <th>bachelor_orientation</th>\n",
       "      <th>master_orientation</th>\n",
       "      <th>specialisation</th>\n",
       "      <th>optional_spec</th>\n",
       "      <th>minor</th>\n",
       "      <th>status</th>\n",
       "      <th>exchange_type</th>\n",
       "      <th>exchange_school</th>\n",
       "      <th>sciper</th>\n",
       "    </tr>\n",
       "  </thead>\n",
       "  <tbody>\n",
       "    <tr>\n",
       "      <th>0</th>\n",
       "      <td>Monsieur</td>\n",
       "      <td>Aapro Niccolò</td>\n",
       "      <td>NaN</td>\n",
       "      <td>NaN</td>\n",
       "      <td>NaN</td>\n",
       "      <td>NaN</td>\n",
       "      <td>NaN</td>\n",
       "      <td>Présent</td>\n",
       "      <td>NaN</td>\n",
       "      <td>NaN</td>\n",
       "      <td>170617.0</td>\n",
       "    </tr>\n",
       "    <tr>\n",
       "      <th>1</th>\n",
       "      <td>Monsieur</td>\n",
       "      <td>Arn Patrick</td>\n",
       "      <td>NaN</td>\n",
       "      <td>NaN</td>\n",
       "      <td>NaN</td>\n",
       "      <td>NaN</td>\n",
       "      <td>NaN</td>\n",
       "      <td>Présent</td>\n",
       "      <td>NaN</td>\n",
       "      <td>NaN</td>\n",
       "      <td>174454.0</td>\n",
       "    </tr>\n",
       "    <tr>\n",
       "      <th>2</th>\n",
       "      <td>Monsieur</td>\n",
       "      <td>Balas Martin</td>\n",
       "      <td>NaN</td>\n",
       "      <td>NaN</td>\n",
       "      <td>NaN</td>\n",
       "      <td>NaN</td>\n",
       "      <td>NaN</td>\n",
       "      <td>Présent</td>\n",
       "      <td>NaN</td>\n",
       "      <td>NaN</td>\n",
       "      <td>174774.0</td>\n",
       "    </tr>\n",
       "    <tr>\n",
       "      <th>3</th>\n",
       "      <td>Monsieur</td>\n",
       "      <td>Bandelier Matthieu</td>\n",
       "      <td>NaN</td>\n",
       "      <td>NaN</td>\n",
       "      <td>NaN</td>\n",
       "      <td>NaN</td>\n",
       "      <td>NaN</td>\n",
       "      <td>Présent</td>\n",
       "      <td>NaN</td>\n",
       "      <td>NaN</td>\n",
       "      <td>173962.0</td>\n",
       "    </tr>\n",
       "    <tr>\n",
       "      <th>4</th>\n",
       "      <td>Monsieur</td>\n",
       "      <td>Bindschaedler Laurent</td>\n",
       "      <td>NaN</td>\n",
       "      <td>NaN</td>\n",
       "      <td>NaN</td>\n",
       "      <td>NaN</td>\n",
       "      <td>NaN</td>\n",
       "      <td>Présent</td>\n",
       "      <td>NaN</td>\n",
       "      <td>NaN</td>\n",
       "      <td>170654.0</td>\n",
       "    </tr>\n",
       "  </tbody>\n",
       "</table>\n",
       "</div>"
      ],
      "text/plain": [
       "   civility                   name bachelor_orientation master_orientation  \\\n",
       "0  Monsieur          Aapro Niccolò                  NaN                NaN   \n",
       "1  Monsieur            Arn Patrick                  NaN                NaN   \n",
       "2  Monsieur           Balas Martin                  NaN                NaN   \n",
       "3  Monsieur     Bandelier Matthieu                  NaN                NaN   \n",
       "4  Monsieur  Bindschaedler Laurent                  NaN                NaN   \n",
       "\n",
       "  specialisation optional_spec minor   status exchange_type exchange_school  \\\n",
       "0            NaN           NaN   NaN  Présent           NaN             NaN   \n",
       "1            NaN           NaN   NaN  Présent           NaN             NaN   \n",
       "2            NaN           NaN   NaN  Présent           NaN             NaN   \n",
       "3            NaN           NaN   NaN  Présent           NaN             NaN   \n",
       "4            NaN           NaN   NaN  Présent           NaN             NaN   \n",
       "\n",
       "     sciper  \n",
       "0  170617.0  \n",
       "1  174454.0  \n",
       "2  174774.0  \n",
       "3  173962.0  \n",
       "4  170654.0  "
      ]
     },
     "execution_count": 35,
     "metadata": {},
     "output_type": "execute_result"
    }
   ],
   "source": [
    "test = query_epfl(\"Informatique\", 2007,2008, \"Bachelor semestre\", 3, \"d'automne\")\n",
    "test.head()"
   ]
  },
  {
   "cell_type": "markdown",
   "metadata": {},
   "source": [
    "We're now going to collect and merge every single semester of every single year. We'll append columns \"year\", \"semester\".\n",
    "\n",
    "Together with a student's sciper, we'll use this to make unique indexes. We could've used the name but it's possible that two students with the same name would be in the same class in the same year and semestre."
   ]
  },
  {
   "cell_type": "code",
   "execution_count": 36,
   "metadata": {
    "collapsed": false
   },
   "outputs": [
    {
     "data": {
      "text/plain": [
       "(5808, 13)"
      ]
     },
     "execution_count": 36,
     "metadata": {},
     "output_type": "execute_result"
    }
   ],
   "source": [
    "frames = []\n",
    "for year in range(2007, 2017):\n",
    "    for semester in range (1, 7):\n",
    "        if(semester % 2 == 0 ):\n",
    "            season=\"de printemps\"\n",
    "        else:\n",
    "            season=\"d'automne\"\n",
    "            \n",
    "        df = query_epfl(\"Informatique\", year,year+1, \"Bachelor semestre\", semester, season)\n",
    "        df['year'] = year\n",
    "        df['semester'] = semester\n",
    "        #we use semester as first index for simplicity of use in next part\n",
    "        df.set_index(['semester', 'year', 'sciper'], drop=False, append=False, inplace=True)\n",
    "        if (not df.index.is_unique):\n",
    "            print(\"Error: non unique index in year:\" + str(year) + \"-\" + str(year+1) + \", semester:\" + str(semester) + \", season:\" + str(season))\n",
    "            \n",
    "        frames.append(df)\n",
    "\n",
    "bStudents = pd.concat(frames)\n",
    "bStudents.shape"
   ]
  },
  {
   "cell_type": "markdown",
   "metadata": {},
   "source": [
    "We make sure the index is unique"
   ]
  },
  {
   "cell_type": "code",
   "execution_count": 37,
   "metadata": {
    "collapsed": false
   },
   "outputs": [
    {
     "data": {
      "text/plain": [
       "True"
      ]
     },
     "execution_count": 37,
     "metadata": {},
     "output_type": "execute_result"
    }
   ],
   "source": [
    "bStudents.index.is_unique"
   ]
  },
  {
   "cell_type": "markdown",
   "metadata": {},
   "source": [
    "For better readability, we now drop all columns that are completely empty"
   ]
  },
  {
   "cell_type": "code",
   "execution_count": 38,
   "metadata": {
    "collapsed": false
   },
   "outputs": [],
   "source": [
    "bStudents = bStudents.dropna(axis=1, how='all')"
   ]
  },
  {
   "cell_type": "code",
   "execution_count": 39,
   "metadata": {
    "collapsed": false
   },
   "outputs": [
    {
     "data": {
      "text/html": [
       "<div>\n",
       "<table border=\"1\" class=\"dataframe\">\n",
       "  <thead>\n",
       "    <tr style=\"text-align: right;\">\n",
       "      <th></th>\n",
       "      <th></th>\n",
       "      <th></th>\n",
       "      <th>civility</th>\n",
       "      <th>name</th>\n",
       "      <th>optional_spec</th>\n",
       "      <th>status</th>\n",
       "      <th>exchange_type</th>\n",
       "      <th>exchange_school</th>\n",
       "      <th>sciper</th>\n",
       "      <th>year</th>\n",
       "      <th>semester</th>\n",
       "    </tr>\n",
       "    <tr>\n",
       "      <th>semester</th>\n",
       "      <th>year</th>\n",
       "      <th>sciper</th>\n",
       "      <th></th>\n",
       "      <th></th>\n",
       "      <th></th>\n",
       "      <th></th>\n",
       "      <th></th>\n",
       "      <th></th>\n",
       "      <th></th>\n",
       "      <th></th>\n",
       "      <th></th>\n",
       "    </tr>\n",
       "  </thead>\n",
       "  <tbody>\n",
       "    <tr>\n",
       "      <th rowspan=\"5\" valign=\"top\">1</th>\n",
       "      <th rowspan=\"5\" valign=\"top\">2007</th>\n",
       "      <th>169569.0</th>\n",
       "      <td>Monsieur</td>\n",
       "      <td>Arévalo Christian</td>\n",
       "      <td>NaN</td>\n",
       "      <td>Présent</td>\n",
       "      <td>NaN</td>\n",
       "      <td>NaN</td>\n",
       "      <td>169569.0</td>\n",
       "      <td>2007</td>\n",
       "      <td>1</td>\n",
       "    </tr>\n",
       "    <tr>\n",
       "      <th>174905.0</th>\n",
       "      <td>Monsieur</td>\n",
       "      <td>Aubelle Flavien</td>\n",
       "      <td>NaN</td>\n",
       "      <td>Présent</td>\n",
       "      <td>NaN</td>\n",
       "      <td>NaN</td>\n",
       "      <td>174905.0</td>\n",
       "      <td>2007</td>\n",
       "      <td>1</td>\n",
       "    </tr>\n",
       "    <tr>\n",
       "      <th>173922.0</th>\n",
       "      <td>Monsieur</td>\n",
       "      <td>Badoud Morgan</td>\n",
       "      <td>NaN</td>\n",
       "      <td>Présent</td>\n",
       "      <td>NaN</td>\n",
       "      <td>NaN</td>\n",
       "      <td>173922.0</td>\n",
       "      <td>2007</td>\n",
       "      <td>1</td>\n",
       "    </tr>\n",
       "    <tr>\n",
       "      <th>179406.0</th>\n",
       "      <td>Monsieur</td>\n",
       "      <td>Baeriswyl Jonathan</td>\n",
       "      <td>NaN</td>\n",
       "      <td>Présent</td>\n",
       "      <td>NaN</td>\n",
       "      <td>NaN</td>\n",
       "      <td>179406.0</td>\n",
       "      <td>2007</td>\n",
       "      <td>1</td>\n",
       "    </tr>\n",
       "    <tr>\n",
       "      <th>179428.0</th>\n",
       "      <td>Monsieur</td>\n",
       "      <td>Barroco Michael</td>\n",
       "      <td>NaN</td>\n",
       "      <td>Présent</td>\n",
       "      <td>NaN</td>\n",
       "      <td>NaN</td>\n",
       "      <td>179428.0</td>\n",
       "      <td>2007</td>\n",
       "      <td>1</td>\n",
       "    </tr>\n",
       "  </tbody>\n",
       "</table>\n",
       "</div>"
      ],
      "text/plain": [
       "                        civility                name optional_spec   status  \\\n",
       "semester year sciper                                                          \n",
       "1        2007 169569.0  Monsieur   Arévalo Christian           NaN  Présent   \n",
       "              174905.0  Monsieur     Aubelle Flavien           NaN  Présent   \n",
       "              173922.0  Monsieur       Badoud Morgan           NaN  Présent   \n",
       "              179406.0  Monsieur  Baeriswyl Jonathan           NaN  Présent   \n",
       "              179428.0  Monsieur     Barroco Michael           NaN  Présent   \n",
       "\n",
       "                       exchange_type exchange_school    sciper  year  semester  \n",
       "semester year sciper                                                            \n",
       "1        2007 169569.0           NaN             NaN  169569.0  2007         1  \n",
       "              174905.0           NaN             NaN  174905.0  2007         1  \n",
       "              173922.0           NaN             NaN  173922.0  2007         1  \n",
       "              179406.0           NaN             NaN  179406.0  2007         1  \n",
       "              179428.0           NaN             NaN  179428.0  2007         1  "
      ]
     },
     "execution_count": 39,
     "metadata": {},
     "output_type": "execute_result"
    }
   ],
   "source": [
    "bStudents.head()"
   ]
  },
  {
   "cell_type": "markdown",
   "metadata": {
    "collapsed": true
   },
   "source": [
    "With this very nice table, we still need the keep the students present in semester 1 and semester 6 only (and also filter out the columns we don't need)."
   ]
  },
  {
   "cell_type": "code",
   "execution_count": 40,
   "metadata": {
    "collapsed": false
   },
   "outputs": [
    {
     "data": {
      "text/html": [
       "<div>\n",
       "<table border=\"1\" class=\"dataframe\">\n",
       "  <thead>\n",
       "    <tr style=\"text-align: right;\">\n",
       "      <th></th>\n",
       "      <th>civility</th>\n",
       "      <th>year_S1</th>\n",
       "      <th>year_S6</th>\n",
       "      <th>ydiff</th>\n",
       "    </tr>\n",
       "    <tr>\n",
       "      <th>sciper</th>\n",
       "      <th></th>\n",
       "      <th></th>\n",
       "      <th></th>\n",
       "      <th></th>\n",
       "    </tr>\n",
       "  </thead>\n",
       "  <tbody>\n",
       "    <tr>\n",
       "      <th>147008.0</th>\n",
       "      <td>Monsieur</td>\n",
       "      <td>2008</td>\n",
       "      <td>2011</td>\n",
       "      <td>3</td>\n",
       "    </tr>\n",
       "    <tr>\n",
       "      <th>169569.0</th>\n",
       "      <td>Monsieur</td>\n",
       "      <td>2007</td>\n",
       "      <td>2010</td>\n",
       "      <td>3</td>\n",
       "    </tr>\n",
       "    <tr>\n",
       "      <th>169731.0</th>\n",
       "      <td>Monsieur</td>\n",
       "      <td>2007</td>\n",
       "      <td>2011</td>\n",
       "      <td>4</td>\n",
       "    </tr>\n",
       "    <tr>\n",
       "      <th>169795.0</th>\n",
       "      <td>Monsieur</td>\n",
       "      <td>2007</td>\n",
       "      <td>2011</td>\n",
       "      <td>4</td>\n",
       "    </tr>\n",
       "    <tr>\n",
       "      <th>171195.0</th>\n",
       "      <td>Monsieur</td>\n",
       "      <td>2007</td>\n",
       "      <td>2010</td>\n",
       "      <td>3</td>\n",
       "    </tr>\n",
       "  </tbody>\n",
       "</table>\n",
       "</div>"
      ],
      "text/plain": [
       "          civility  year_S1  year_S6  ydiff\n",
       "sciper                                     \n",
       "147008.0  Monsieur     2008     2011      3\n",
       "169569.0  Monsieur     2007     2010      3\n",
       "169731.0  Monsieur     2007     2011      4\n",
       "169795.0  Monsieur     2007     2011      4\n",
       "171195.0  Monsieur     2007     2010      3"
      ]
     },
     "execution_count": 40,
     "metadata": {},
     "output_type": "execute_result"
    }
   ],
   "source": [
    "bStudentsS1toS6 = pd.merge(bStudents.loc[1], bStudents.loc[6], how='inner', on=['civility', 'name', 'sciper'], suffixes=('_S1', '_S6'))\n",
    "bStudentsS1toS6 = bStudentsS1toS6[['civility', 'sciper', 'year_S1', 'year_S6']] #only retain the important fields\n",
    "\n",
    "bStudentsS1toS6['year_S6'] += 1 #we do this because the last year is not the graduation year, but when it started (2015-2016 = 2015)\n",
    "bStudentsS1toS6['ydiff'] = bStudentsS1toS6['year_S6'] - bStudentsS1toS6['year_S1']\n",
    "\n",
    "bStudentsS1toS6 = bStudentsS1toS6.groupby('sciper', group_keys=False).apply(lambda x: x.ix[x.ydiff.idxmax()])\n",
    "bStudentsS1toS6.set_index('sciper', inplace=True)\n",
    "bStudentsS1toS6.head()"
   ]
  },
  {
   "cell_type": "markdown",
   "metadata": {},
   "source": [
    "Quick check before proceeding"
   ]
  },
  {
   "cell_type": "code",
   "execution_count": 41,
   "metadata": {
    "collapsed": false
   },
   "outputs": [
    {
     "data": {
      "text/plain": [
       "True"
      ]
     },
     "execution_count": 41,
     "metadata": {},
     "output_type": "execute_result"
    }
   ],
   "source": [
    "bStudentsS1toS6.index.is_unique"
   ]
  },
  {
   "cell_type": "markdown",
   "metadata": {},
   "source": [
    "Before going further, we will modify the dataframe a bit to simplify the processing of genders"
   ]
  },
  {
   "cell_type": "code",
   "execution_count": 42,
   "metadata": {
    "collapsed": false
   },
   "outputs": [],
   "source": [
    "gender_map = {\"Monsieur\": 0, \"Madame\": 1}\n",
    "#bStudentsS1toS6['civility'] = bStudentsS1toS6['civility'].map(gender_map)"
   ]
  },
  {
   "cell_type": "markdown",
   "metadata": {},
   "source": [
    "As a first approach, we use the 'describe' methods of pandas on the ydiff field"
   ]
  },
  {
   "cell_type": "code",
   "execution_count": 43,
   "metadata": {
    "collapsed": false
   },
   "outputs": [
    {
     "data": {
      "text/plain": [
       "count    397.000000\n",
       "mean       3.468514\n",
       "std        0.733155\n",
       "min        3.000000\n",
       "25%        3.000000\n",
       "50%        3.000000\n",
       "75%        4.000000\n",
       "max        7.000000\n",
       "Name: ydiff, dtype: float64"
      ]
     },
     "execution_count": 43,
     "metadata": {},
     "output_type": "execute_result"
    }
   ],
   "source": [
    "bStudentsS1toS6['ydiff'].describe()"
   ]
  },
  {
   "cell_type": "markdown",
   "metadata": {},
   "source": [
    "Ignoring the count (which is meaningless in this case) and the min (since you can't get the bachelor in less than 3 years), we observe quite a low mean and std, but these should not be over considered since they are weak against outliers. \n",
    "But the quantiles give us nice informations, more than 50% of students graduated in 3 years (which is the minimum) and 75% in 4 years!\n",
    "Then the maximum is 7, that is uncommon since you have 6 years to graduate.\n",
    "Let's find out how many people are in this case"
   ]
  },
  {
   "cell_type": "code",
   "execution_count": 44,
   "metadata": {
    "collapsed": false
   },
   "outputs": [
    {
     "data": {
      "text/html": [
       "<div>\n",
       "<table border=\"1\" class=\"dataframe\">\n",
       "  <thead>\n",
       "    <tr style=\"text-align: right;\">\n",
       "      <th></th>\n",
       "      <th>civility</th>\n",
       "      <th>year_S1</th>\n",
       "      <th>year_S6</th>\n",
       "      <th>ydiff</th>\n",
       "    </tr>\n",
       "    <tr>\n",
       "      <th>sciper</th>\n",
       "      <th></th>\n",
       "      <th></th>\n",
       "      <th></th>\n",
       "      <th></th>\n",
       "    </tr>\n",
       "  </thead>\n",
       "  <tbody>\n",
       "    <tr>\n",
       "      <th>196034.0</th>\n",
       "      <td>Monsieur</td>\n",
       "      <td>2009</td>\n",
       "      <td>2016</td>\n",
       "      <td>7</td>\n",
       "    </tr>\n",
       "  </tbody>\n",
       "</table>\n",
       "</div>"
      ],
      "text/plain": [
       "          civility  year_S1  year_S6  ydiff\n",
       "sciper                                     \n",
       "196034.0  Monsieur     2009     2016      7"
      ]
     },
     "execution_count": 44,
     "metadata": {},
     "output_type": "execute_result"
    }
   ],
   "source": [
    "bStudentsS1toS6[bStudentsS1toS6.ydiff == 7]"
   ]
  },
  {
   "cell_type": "markdown",
   "metadata": {},
   "source": [
    "As only one person is concerned, we can then assume that this dude had some special treatment."
   ]
  },
  {
   "cell_type": "markdown",
   "metadata": {},
   "source": [
    "Now that we are certain that our dataset is well formed, we can start to analyze it properly.\n",
    "We begin by grouping the students by their graduation time."
   ]
  },
  {
   "cell_type": "code",
   "execution_count": 45,
   "metadata": {
    "collapsed": false
   },
   "outputs": [
    {
     "data": {
      "text/plain": [
       "ydiff\n",
       "3    259\n",
       "4     98\n",
       "5     33\n",
       "6      6\n",
       "7      1\n",
       "dtype: int64"
      ]
     },
     "execution_count": 45,
     "metadata": {},
     "output_type": "execute_result"
    },
    {
     "data": {
      "image/png": "[encoded data removed]",
      "text/plain": [
       "<matplotlib.figure.Figure at 0x249e5235d30>"
      ]
     },
     "metadata": {},
     "output_type": "display_data"
    }
   ],
   "source": [
    "bStudentsS1toS6_grp = bStudentsS1toS6.groupby(bStudentsS1toS6.ydiff)\n",
    "bStudentsS1toS6_grp.size().plot.bar()\n",
    "bStudentsS1toS6_grp.size()"
   ]
  },
  {
   "cell_type": "markdown",
   "metadata": {},
   "source": [
    "We don't see many more things than what the 'described()' function showed, only the large amount of people having graduated in the minimal time."
   ]
  },
  {
   "cell_type": "markdown",
   "metadata": {},
   "source": [
    "The next step is to split the students by their gender."
   ]
  },
  {
   "cell_type": "code",
   "execution_count": 46,
   "metadata": {
    "collapsed": false
   },
   "outputs": [
    {
     "data": {
      "text/html": [
       "<div>\n",
       "<table border=\"1\" class=\"dataframe\">\n",
       "  <thead>\n",
       "    <tr style=\"text-align: right;\">\n",
       "      <th></th>\n",
       "      <th></th>\n",
       "      <th>ydiff</th>\n",
       "      <th>year_S1</th>\n",
       "      <th>year_S6</th>\n",
       "    </tr>\n",
       "    <tr>\n",
       "      <th>civility</th>\n",
       "      <th></th>\n",
       "      <th></th>\n",
       "      <th></th>\n",
       "      <th></th>\n",
       "    </tr>\n",
       "  </thead>\n",
       "  <tbody>\n",
       "    <tr>\n",
       "      <th rowspan=\"8\" valign=\"top\">Madame</th>\n",
       "      <th>count</th>\n",
       "      <td>29.000000</td>\n",
       "      <td>29.000000</td>\n",
       "      <td>29.000000</td>\n",
       "    </tr>\n",
       "    <tr>\n",
       "      <th>mean</th>\n",
       "      <td>3.310345</td>\n",
       "      <td>2010.620690</td>\n",
       "      <td>2013.931034</td>\n",
       "    </tr>\n",
       "    <tr>\n",
       "      <th>std</th>\n",
       "      <td>0.541390</td>\n",
       "      <td>2.060059</td>\n",
       "      <td>2.170106</td>\n",
       "    </tr>\n",
       "    <tr>\n",
       "      <th>min</th>\n",
       "      <td>3.000000</td>\n",
       "      <td>2007.000000</td>\n",
       "      <td>2010.000000</td>\n",
       "    </tr>\n",
       "    <tr>\n",
       "      <th>25%</th>\n",
       "      <td>3.000000</td>\n",
       "      <td>2009.000000</td>\n",
       "      <td>2012.000000</td>\n",
       "    </tr>\n",
       "    <tr>\n",
       "      <th>50%</th>\n",
       "      <td>3.000000</td>\n",
       "      <td>2011.000000</td>\n",
       "      <td>2014.000000</td>\n",
       "    </tr>\n",
       "    <tr>\n",
       "      <th>75%</th>\n",
       "      <td>4.000000</td>\n",
       "      <td>2012.000000</td>\n",
       "      <td>2016.000000</td>\n",
       "    </tr>\n",
       "    <tr>\n",
       "      <th>max</th>\n",
       "      <td>5.000000</td>\n",
       "      <td>2014.000000</td>\n",
       "      <td>2017.000000</td>\n",
       "    </tr>\n",
       "    <tr>\n",
       "      <th rowspan=\"8\" valign=\"top\">Monsieur</th>\n",
       "      <th>count</th>\n",
       "      <td>368.000000</td>\n",
       "      <td>368.000000</td>\n",
       "      <td>368.000000</td>\n",
       "    </tr>\n",
       "    <tr>\n",
       "      <th>mean</th>\n",
       "      <td>3.480978</td>\n",
       "      <td>2010.475543</td>\n",
       "      <td>2013.956522</td>\n",
       "    </tr>\n",
       "    <tr>\n",
       "      <th>std</th>\n",
       "      <td>0.745316</td>\n",
       "      <td>2.029604</td>\n",
       "      <td>2.017164</td>\n",
       "    </tr>\n",
       "    <tr>\n",
       "      <th>min</th>\n",
       "      <td>3.000000</td>\n",
       "      <td>2007.000000</td>\n",
       "      <td>2010.000000</td>\n",
       "    </tr>\n",
       "    <tr>\n",
       "      <th>25%</th>\n",
       "      <td>3.000000</td>\n",
       "      <td>2009.000000</td>\n",
       "      <td>2012.750000</td>\n",
       "    </tr>\n",
       "    <tr>\n",
       "      <th>50%</th>\n",
       "      <td>3.000000</td>\n",
       "      <td>2011.000000</td>\n",
       "      <td>2014.000000</td>\n",
       "    </tr>\n",
       "    <tr>\n",
       "      <th>75%</th>\n",
       "      <td>4.000000</td>\n",
       "      <td>2012.000000</td>\n",
       "      <td>2016.000000</td>\n",
       "    </tr>\n",
       "    <tr>\n",
       "      <th>max</th>\n",
       "      <td>7.000000</td>\n",
       "      <td>2014.000000</td>\n",
       "      <td>2017.000000</td>\n",
       "    </tr>\n",
       "  </tbody>\n",
       "</table>\n",
       "</div>"
      ],
      "text/plain": [
       "                     ydiff      year_S1      year_S6\n",
       "civility                                            \n",
       "Madame   count   29.000000    29.000000    29.000000\n",
       "         mean     3.310345  2010.620690  2013.931034\n",
       "         std      0.541390     2.060059     2.170106\n",
       "         min      3.000000  2007.000000  2010.000000\n",
       "         25%      3.000000  2009.000000  2012.000000\n",
       "         50%      3.000000  2011.000000  2014.000000\n",
       "         75%      4.000000  2012.000000  2016.000000\n",
       "         max      5.000000  2014.000000  2017.000000\n",
       "Monsieur count  368.000000   368.000000   368.000000\n",
       "         mean     3.480978  2010.475543  2013.956522\n",
       "         std      0.745316     2.029604     2.017164\n",
       "         min      3.000000  2007.000000  2010.000000\n",
       "         25%      3.000000  2009.000000  2012.750000\n",
       "         50%      3.000000  2011.000000  2014.000000\n",
       "         75%      4.000000  2012.000000  2016.000000\n",
       "         max      7.000000  2014.000000  2017.000000"
      ]
     },
     "execution_count": 46,
     "metadata": {},
     "output_type": "execute_result"
    }
   ],
   "source": [
    "bStudentsByGender = bStudentsS1toS6.groupby(bStudentsS1toS6.civility)\n",
    "bStudentsByGender.describe()"
   ]
  },
  {
   "cell_type": "markdown",
   "metadata": {},
   "source": [
    "Nothing significant to report here, only that most of the graduated students are men (368 against 29)."
   ]
  },
  {
   "cell_type": "code",
   "execution_count": 47,
   "metadata": {
    "collapsed": false
   },
   "outputs": [
    {
     "name": "stdout",
     "output_type": "stream",
     "text": [
      "Mean:\n",
      "civility\n",
      "Madame      3.310345\n",
      "Monsieur    3.480978\n",
      "Name: ydiff, dtype: float64\n",
      "STD:\n",
      "civility\n",
      "Madame      0.541390\n",
      "Monsieur    0.745316\n",
      "Name: ydiff, dtype: float64\n"
     ]
    },
    {
     "data": {
      "image/png": "[encoded data removed]",
      "text/plain": [
       "<matplotlib.figure.Figure at 0x249e6504b70>"
      ]
     },
     "metadata": {},
     "output_type": "display_data"
    }
   ],
   "source": [
    "bStudentsByGender['ydiff'].mean().plot.bar()\n",
    "print(\"Mean:\\n\" + str(bStudentsByGender['ydiff'].mean()))\n",
    "print(\"STD:\\n\" + str(bStudentsByGender['ydiff'].std()))"
   ]
  },
  {
   "cell_type": "markdown",
   "metadata": {},
   "source": [
    "Using a boxplot, we can barely see any difference. Except for an outlier in the male category"
   ]
  },
  {
   "cell_type": "code",
   "execution_count": 48,
   "metadata": {
    "collapsed": false
   },
   "outputs": [
    {
     "data": {
      "text/plain": [
       "OrderedDict([('Madame',\n",
       "              <matplotlib.axes._subplots.AxesSubplot at 0x249e65025c0>),\n",
       "             ('Monsieur',\n",
       "              <matplotlib.axes._subplots.AxesSubplot at 0x249e676f2b0>)])"
      ]
     },
     "execution_count": 48,
     "metadata": {},
     "output_type": "execute_result"
    },
    {
     "data": {
      "image/png": "[encoded data removed]",
      "text/plain": [
       "<matplotlib.figure.Figure at 0x249e51f4b38>"
      ]
     },
     "metadata": {},
     "output_type": "display_data"
    }
   ],
   "source": [
    "bStudentsByGender.boxplot(column ='ydiff', return_type='axes' )"
   ]
  },
  {
   "cell_type": "markdown",
   "metadata": {},
   "source": [
    "The best test to determine whether the difference in distribution is actually different or not is the Wilcoxon-Mann-Whitney test. For two reasons :\n",
    "- This isn't a normal distribution (peak will be at 3, but you can't go left, only right)\n",
    "- We aren't comparing paired samples\n",
    "\n",
    "We will use it now with the two tailed test because we're looking for significant differences in any direction"
   ]
  },
  {
   "cell_type": "code",
   "execution_count": 49,
   "metadata": {
    "collapsed": false
   },
   "outputs": [
    {
     "data": {
      "text/plain": [
       "civility\n",
       "Madame      0.992033\n",
       "Monsieur    0.999836\n",
       "dtype: float64"
      ]
     },
     "execution_count": 49,
     "metadata": {},
     "output_type": "execute_result"
    }
   ],
   "source": [
    "bStudentsByGender.apply(lambda t: stats.mannwhitneyu(t.ydiff, t.ydiff, alternative = 'two-sided').pvalue)"
   ]
  },
  {
   "cell_type": "markdown",
   "metadata": {},
   "source": [
    "As we can see we are very far from a significant p-value.\n",
    "\n",
    "So we can conclude that there is no significant difference here, only that female students are a bit better and more uniformly distributed, but the size of the sample is too low to establish conclusions."
   ]
  },
  {
   "cell_type": "markdown",
   "metadata": {
    "collapsed": true
   },
   "source": [
    "Now let's try to do the same thing for the Master students. We will use the same query fuction "
   ]
  },
  {
   "cell_type": "code",
   "execution_count": 50,
   "metadata": {
    "collapsed": false
   },
   "outputs": [
    {
     "data": {
      "text/plain": [
       "(2716, 13)"
      ]
     },
     "execution_count": 50,
     "metadata": {},
     "output_type": "execute_result"
    }
   ],
   "source": [
    "frames = []\n",
    "for year in range(2007, 2017):\n",
    "    for semester in range (1, 4):\n",
    "        if(semester % 2 == 0 ):\n",
    "            season=\"de printemps\"\n",
    "        else:\n",
    "            season=\"d'automne\"\n",
    "            \n",
    "        df = query_epfl(\"Informatique\", year,year+1, \"Master semestre\", semester, season)\n",
    "        df['year'] = year\n",
    "        df['semester'] = semester\n",
    "        #we use semester as first index for simplicity of use in next part\n",
    "        df.set_index(['semester', 'year', 'sciper'], drop=False, append=False, inplace=True)\n",
    "        if (not df.index.is_unique):\n",
    "            print(\"Error: non unique index in year:\" + str(year) + \"-\" + str(year+1) + \", semester:\" + str(semester) + \", season:\" + str(season))\n",
    "            \n",
    "        frames.append(df)\n",
    "\n",
    "msStudents = pd.concat(frames)\n",
    "msStudents.shape"
   ]
  },
  {
   "cell_type": "markdown",
   "metadata": {
    "collapsed": true
   },
   "source": [
    "And again just a quick check"
   ]
  },
  {
   "cell_type": "code",
   "execution_count": 51,
   "metadata": {
    "collapsed": false
   },
   "outputs": [
    {
     "data": {
      "text/plain": [
       "True"
      ]
     },
     "execution_count": 51,
     "metadata": {},
     "output_type": "execute_result"
    }
   ],
   "source": [
    "msStudents.index.is_unique"
   ]
  },
  {
   "cell_type": "code",
   "execution_count": 52,
   "metadata": {
    "collapsed": false
   },
   "outputs": [
    {
     "data": {
      "text/html": [
       "<div>\n",
       "<table border=\"1\" class=\"dataframe\">\n",
       "  <thead>\n",
       "    <tr style=\"text-align: right;\">\n",
       "      <th></th>\n",
       "      <th></th>\n",
       "      <th></th>\n",
       "      <th>civility</th>\n",
       "      <th>name</th>\n",
       "      <th>bachelor_orientation</th>\n",
       "      <th>master_orientation</th>\n",
       "      <th>specialisation</th>\n",
       "      <th>optional_spec</th>\n",
       "      <th>minor</th>\n",
       "      <th>status</th>\n",
       "      <th>exchange_type</th>\n",
       "      <th>exchange_school</th>\n",
       "      <th>sciper</th>\n",
       "      <th>year</th>\n",
       "      <th>semester</th>\n",
       "    </tr>\n",
       "    <tr>\n",
       "      <th>semester</th>\n",
       "      <th>year</th>\n",
       "      <th>sciper</th>\n",
       "      <th></th>\n",
       "      <th></th>\n",
       "      <th></th>\n",
       "      <th></th>\n",
       "      <th></th>\n",
       "      <th></th>\n",
       "      <th></th>\n",
       "      <th></th>\n",
       "      <th></th>\n",
       "      <th></th>\n",
       "      <th></th>\n",
       "      <th></th>\n",
       "      <th></th>\n",
       "    </tr>\n",
       "  </thead>\n",
       "  <tbody>\n",
       "    <tr>\n",
       "      <th rowspan=\"5\" valign=\"top\">1</th>\n",
       "      <th rowspan=\"5\" valign=\"top\">2007</th>\n",
       "      <th>153066</th>\n",
       "      <td>Monsieur</td>\n",
       "      <td>Aeberhard François-Xavier</td>\n",
       "      <td>NaN</td>\n",
       "      <td>NaN</td>\n",
       "      <td>NaN</td>\n",
       "      <td>NaN</td>\n",
       "      <td>NaN</td>\n",
       "      <td>Présent</td>\n",
       "      <td>NaN</td>\n",
       "      <td>NaN</td>\n",
       "      <td>153066</td>\n",
       "      <td>2007</td>\n",
       "      <td>1</td>\n",
       "    </tr>\n",
       "    <tr>\n",
       "      <th>180027</th>\n",
       "      <td>Madame</td>\n",
       "      <td>Agarwal Megha</td>\n",
       "      <td>NaN</td>\n",
       "      <td>NaN</td>\n",
       "      <td>NaN</td>\n",
       "      <td>NaN</td>\n",
       "      <td>NaN</td>\n",
       "      <td>Présent</td>\n",
       "      <td>NaN</td>\n",
       "      <td>NaN</td>\n",
       "      <td>180027</td>\n",
       "      <td>2007</td>\n",
       "      <td>1</td>\n",
       "    </tr>\n",
       "    <tr>\n",
       "      <th>152232</th>\n",
       "      <td>Monsieur</td>\n",
       "      <td>Anagnostaras David</td>\n",
       "      <td>NaN</td>\n",
       "      <td>NaN</td>\n",
       "      <td>NaN</td>\n",
       "      <td>NaN</td>\n",
       "      <td>NaN</td>\n",
       "      <td>Présent</td>\n",
       "      <td>NaN</td>\n",
       "      <td>NaN</td>\n",
       "      <td>152232</td>\n",
       "      <td>2007</td>\n",
       "      <td>1</td>\n",
       "    </tr>\n",
       "    <tr>\n",
       "      <th>177395</th>\n",
       "      <td>Monsieur</td>\n",
       "      <td>Auroux Damien</td>\n",
       "      <td>NaN</td>\n",
       "      <td>NaN</td>\n",
       "      <td>NaN</td>\n",
       "      <td>NaN</td>\n",
       "      <td>NaN</td>\n",
       "      <td>Présent</td>\n",
       "      <td>NaN</td>\n",
       "      <td>NaN</td>\n",
       "      <td>177395</td>\n",
       "      <td>2007</td>\n",
       "      <td>1</td>\n",
       "    </tr>\n",
       "    <tr>\n",
       "      <th>161970</th>\n",
       "      <td>Monsieur</td>\n",
       "      <td>Awalebo Joseph</td>\n",
       "      <td>NaN</td>\n",
       "      <td>NaN</td>\n",
       "      <td>NaN</td>\n",
       "      <td>NaN</td>\n",
       "      <td>NaN</td>\n",
       "      <td>Présent</td>\n",
       "      <td>NaN</td>\n",
       "      <td>NaN</td>\n",
       "      <td>161970</td>\n",
       "      <td>2007</td>\n",
       "      <td>1</td>\n",
       "    </tr>\n",
       "  </tbody>\n",
       "</table>\n",
       "</div>"
      ],
      "text/plain": [
       "                      civility                       name  \\\n",
       "semester year sciper                                        \n",
       "1        2007 153066  Monsieur  Aeberhard François-Xavier   \n",
       "              180027    Madame              Agarwal Megha   \n",
       "              152232  Monsieur         Anagnostaras David   \n",
       "              177395  Monsieur              Auroux Damien   \n",
       "              161970  Monsieur             Awalebo Joseph   \n",
       "\n",
       "                      bachelor_orientation  master_orientation specialisation  \\\n",
       "semester year sciper                                                            \n",
       "1        2007 153066                   NaN                 NaN            NaN   \n",
       "              180027                   NaN                 NaN            NaN   \n",
       "              152232                   NaN                 NaN            NaN   \n",
       "              177395                   NaN                 NaN            NaN   \n",
       "              161970                   NaN                 NaN            NaN   \n",
       "\n",
       "                      optional_spec minor   status exchange_type  \\\n",
       "semester year sciper                                               \n",
       "1        2007 153066            NaN   NaN  Présent           NaN   \n",
       "              180027            NaN   NaN  Présent           NaN   \n",
       "              152232            NaN   NaN  Présent           NaN   \n",
       "              177395            NaN   NaN  Présent           NaN   \n",
       "              161970            NaN   NaN  Présent           NaN   \n",
       "\n",
       "                     exchange_school  sciper  year  semester  \n",
       "semester year sciper                                          \n",
       "1        2007 153066             NaN  153066  2007         1  \n",
       "              180027             NaN  180027  2007         1  \n",
       "              152232             NaN  152232  2007         1  \n",
       "              177395             NaN  177395  2007         1  \n",
       "              161970             NaN  161970  2007         1  "
      ]
     },
     "execution_count": 52,
     "metadata": {},
     "output_type": "execute_result"
    }
   ],
   "source": [
    "msStudents.head()"
   ]
  },
  {
   "cell_type": "code",
   "execution_count": 53,
   "metadata": {
    "collapsed": false
   },
   "outputs": [],
   "source": [
    "msStudentsS1toS2 = pd.merge(msStudents.loc[1], msStudents.loc[2], how='inner', on=['civility', 'name', 'sciper'], suffixes=('_S1', '_S2'))\n",
    "msStudentsS1toS2 = msStudentsS1toS2[['civility', 'sciper', 'minor_S2' , 'specialisation_S2','year_S1', 'year_S2']] #only retain the important fields\n",
    "# We only get the minor and spec. info form the second semester because it is the most recent data and the time when most people make the slection\n",
    "\n",
    "#Here we will make an assumption that all people that are in semester 2 and have not selected an minor or spec, \n",
    "#decided to take the 90 ECTS master and a probaly doing a master project\n",
    "msStudentsS1toS2 = msStudentsS1toS2[pd.isnull(msStudentsS1toS2['minor_S2']) & pd.isnull(msStudentsS1toS2['specialisation_S2'])]\n",
    "\n",
    "\n",
    "\n",
    "#We will calculate the study time in months \n",
    "msStudentsS1toS2['year_S2'] += 1 #again, we do this because a spring semester in (2015-2016) will count as 2015 but the actual year is 2016\n",
    "msStudentsS1toS2['months'] = (msStudentsS1toS2['year_S2'] - msStudentsS1toS2['year_S1']) * 12 + 6\n",
    "\n",
    "msStudentsS1toS2= msStudentsS1toS2.groupby('sciper', group_keys=False).apply(lambda x: x.ix[x.months.idxmax()])\n",
    "msStudentsS1toS2.set_index('sciper', inplace=True)"
   ]
  },
  {
   "cell_type": "code",
   "execution_count": 54,
   "metadata": {
    "collapsed": false
   },
   "outputs": [
    {
     "data": {
      "text/html": [
       "<div>\n",
       "<table border=\"1\" class=\"dataframe\">\n",
       "  <thead>\n",
       "    <tr style=\"text-align: right;\">\n",
       "      <th></th>\n",
       "      <th>civility</th>\n",
       "      <th>minor_S2</th>\n",
       "      <th>specialisation_S2</th>\n",
       "      <th>year_S1</th>\n",
       "      <th>year_S2</th>\n",
       "      <th>months</th>\n",
       "    </tr>\n",
       "    <tr>\n",
       "      <th>sciper</th>\n",
       "      <th></th>\n",
       "      <th></th>\n",
       "      <th></th>\n",
       "      <th></th>\n",
       "      <th></th>\n",
       "      <th></th>\n",
       "    </tr>\n",
       "  </thead>\n",
       "  <tbody>\n",
       "    <tr>\n",
       "      <th>146330</th>\n",
       "      <td>Monsieur</td>\n",
       "      <td>NaN</td>\n",
       "      <td>NaN</td>\n",
       "      <td>2007</td>\n",
       "      <td>2008</td>\n",
       "      <td>18</td>\n",
       "    </tr>\n",
       "    <tr>\n",
       "      <th>146929</th>\n",
       "      <td>Monsieur</td>\n",
       "      <td>NaN</td>\n",
       "      <td>NaN</td>\n",
       "      <td>2007</td>\n",
       "      <td>2008</td>\n",
       "      <td>18</td>\n",
       "    </tr>\n",
       "    <tr>\n",
       "      <th>147008</th>\n",
       "      <td>Monsieur</td>\n",
       "      <td>NaN</td>\n",
       "      <td>NaN</td>\n",
       "      <td>2011</td>\n",
       "      <td>2013</td>\n",
       "      <td>30</td>\n",
       "    </tr>\n",
       "    <tr>\n",
       "      <th>153066</th>\n",
       "      <td>Monsieur</td>\n",
       "      <td>NaN</td>\n",
       "      <td>NaN</td>\n",
       "      <td>2007</td>\n",
       "      <td>2009</td>\n",
       "      <td>30</td>\n",
       "    </tr>\n",
       "    <tr>\n",
       "      <th>153746</th>\n",
       "      <td>Monsieur</td>\n",
       "      <td>NaN</td>\n",
       "      <td>NaN</td>\n",
       "      <td>2007</td>\n",
       "      <td>2008</td>\n",
       "      <td>18</td>\n",
       "    </tr>\n",
       "    <tr>\n",
       "      <th>153762</th>\n",
       "      <td>Monsieur</td>\n",
       "      <td>NaN</td>\n",
       "      <td>NaN</td>\n",
       "      <td>2008</td>\n",
       "      <td>2010</td>\n",
       "      <td>30</td>\n",
       "    </tr>\n",
       "    <tr>\n",
       "      <th>154080</th>\n",
       "      <td>Monsieur</td>\n",
       "      <td>NaN</td>\n",
       "      <td>NaN</td>\n",
       "      <td>2007</td>\n",
       "      <td>2008</td>\n",
       "      <td>18</td>\n",
       "    </tr>\n",
       "    <tr>\n",
       "      <th>154573</th>\n",
       "      <td>Madame</td>\n",
       "      <td>NaN</td>\n",
       "      <td>NaN</td>\n",
       "      <td>2007</td>\n",
       "      <td>2008</td>\n",
       "      <td>18</td>\n",
       "    </tr>\n",
       "    <tr>\n",
       "      <th>154643</th>\n",
       "      <td>Monsieur</td>\n",
       "      <td>NaN</td>\n",
       "      <td>NaN</td>\n",
       "      <td>2007</td>\n",
       "      <td>2008</td>\n",
       "      <td>18</td>\n",
       "    </tr>\n",
       "    <tr>\n",
       "      <th>154706</th>\n",
       "      <td>Monsieur</td>\n",
       "      <td>NaN</td>\n",
       "      <td>NaN</td>\n",
       "      <td>2007</td>\n",
       "      <td>2008</td>\n",
       "      <td>18</td>\n",
       "    </tr>\n",
       "    <tr>\n",
       "      <th>155018</th>\n",
       "      <td>Monsieur</td>\n",
       "      <td>NaN</td>\n",
       "      <td>NaN</td>\n",
       "      <td>2007</td>\n",
       "      <td>2008</td>\n",
       "      <td>18</td>\n",
       "    </tr>\n",
       "    <tr>\n",
       "      <th>155097</th>\n",
       "      <td>Monsieur</td>\n",
       "      <td>NaN</td>\n",
       "      <td>NaN</td>\n",
       "      <td>2007</td>\n",
       "      <td>2008</td>\n",
       "      <td>18</td>\n",
       "    </tr>\n",
       "    <tr>\n",
       "      <th>159516</th>\n",
       "      <td>Monsieur</td>\n",
       "      <td>NaN</td>\n",
       "      <td>NaN</td>\n",
       "      <td>2008</td>\n",
       "      <td>2009</td>\n",
       "      <td>18</td>\n",
       "    </tr>\n",
       "    <tr>\n",
       "      <th>159998</th>\n",
       "      <td>Madame</td>\n",
       "      <td>NaN</td>\n",
       "      <td>NaN</td>\n",
       "      <td>2008</td>\n",
       "      <td>2009</td>\n",
       "      <td>18</td>\n",
       "    </tr>\n",
       "    <tr>\n",
       "      <th>160148</th>\n",
       "      <td>Madame</td>\n",
       "      <td>NaN</td>\n",
       "      <td>NaN</td>\n",
       "      <td>2007</td>\n",
       "      <td>2008</td>\n",
       "      <td>18</td>\n",
       "    </tr>\n",
       "    <tr>\n",
       "      <th>160213</th>\n",
       "      <td>Monsieur</td>\n",
       "      <td>NaN</td>\n",
       "      <td>NaN</td>\n",
       "      <td>2008</td>\n",
       "      <td>2009</td>\n",
       "      <td>18</td>\n",
       "    </tr>\n",
       "    <tr>\n",
       "      <th>160225</th>\n",
       "      <td>Monsieur</td>\n",
       "      <td>NaN</td>\n",
       "      <td>NaN</td>\n",
       "      <td>2007</td>\n",
       "      <td>2008</td>\n",
       "      <td>18</td>\n",
       "    </tr>\n",
       "    <tr>\n",
       "      <th>160254</th>\n",
       "      <td>Monsieur</td>\n",
       "      <td>NaN</td>\n",
       "      <td>NaN</td>\n",
       "      <td>2007</td>\n",
       "      <td>2008</td>\n",
       "      <td>18</td>\n",
       "    </tr>\n",
       "    <tr>\n",
       "      <th>160492</th>\n",
       "      <td>Monsieur</td>\n",
       "      <td>NaN</td>\n",
       "      <td>NaN</td>\n",
       "      <td>2007</td>\n",
       "      <td>2008</td>\n",
       "      <td>18</td>\n",
       "    </tr>\n",
       "    <tr>\n",
       "      <th>160578</th>\n",
       "      <td>Monsieur</td>\n",
       "      <td>NaN</td>\n",
       "      <td>NaN</td>\n",
       "      <td>2007</td>\n",
       "      <td>2008</td>\n",
       "      <td>18</td>\n",
       "    </tr>\n",
       "    <tr>\n",
       "      <th>160893</th>\n",
       "      <td>Monsieur</td>\n",
       "      <td>NaN</td>\n",
       "      <td>NaN</td>\n",
       "      <td>2007</td>\n",
       "      <td>2008</td>\n",
       "      <td>18</td>\n",
       "    </tr>\n",
       "    <tr>\n",
       "      <th>161024</th>\n",
       "      <td>Madame</td>\n",
       "      <td>NaN</td>\n",
       "      <td>NaN</td>\n",
       "      <td>2007</td>\n",
       "      <td>2008</td>\n",
       "      <td>18</td>\n",
       "    </tr>\n",
       "    <tr>\n",
       "      <th>161091</th>\n",
       "      <td>Madame</td>\n",
       "      <td>NaN</td>\n",
       "      <td>NaN</td>\n",
       "      <td>2008</td>\n",
       "      <td>2010</td>\n",
       "      <td>30</td>\n",
       "    </tr>\n",
       "    <tr>\n",
       "      <th>161127</th>\n",
       "      <td>Monsieur</td>\n",
       "      <td>NaN</td>\n",
       "      <td>NaN</td>\n",
       "      <td>2008</td>\n",
       "      <td>2009</td>\n",
       "      <td>18</td>\n",
       "    </tr>\n",
       "    <tr>\n",
       "      <th>161138</th>\n",
       "      <td>Monsieur</td>\n",
       "      <td>NaN</td>\n",
       "      <td>NaN</td>\n",
       "      <td>2007</td>\n",
       "      <td>2008</td>\n",
       "      <td>18</td>\n",
       "    </tr>\n",
       "    <tr>\n",
       "      <th>161220</th>\n",
       "      <td>Monsieur</td>\n",
       "      <td>NaN</td>\n",
       "      <td>NaN</td>\n",
       "      <td>2009</td>\n",
       "      <td>2010</td>\n",
       "      <td>18</td>\n",
       "    </tr>\n",
       "    <tr>\n",
       "      <th>161279</th>\n",
       "      <td>Monsieur</td>\n",
       "      <td>NaN</td>\n",
       "      <td>NaN</td>\n",
       "      <td>2009</td>\n",
       "      <td>2010</td>\n",
       "      <td>18</td>\n",
       "    </tr>\n",
       "    <tr>\n",
       "      <th>161357</th>\n",
       "      <td>Monsieur</td>\n",
       "      <td>NaN</td>\n",
       "      <td>NaN</td>\n",
       "      <td>2007</td>\n",
       "      <td>2008</td>\n",
       "      <td>18</td>\n",
       "    </tr>\n",
       "    <tr>\n",
       "      <th>161634</th>\n",
       "      <td>Monsieur</td>\n",
       "      <td>NaN</td>\n",
       "      <td>NaN</td>\n",
       "      <td>2008</td>\n",
       "      <td>2009</td>\n",
       "      <td>18</td>\n",
       "    </tr>\n",
       "    <tr>\n",
       "      <th>161814</th>\n",
       "      <td>Monsieur</td>\n",
       "      <td>NaN</td>\n",
       "      <td>NaN</td>\n",
       "      <td>2009</td>\n",
       "      <td>2010</td>\n",
       "      <td>18</td>\n",
       "    </tr>\n",
       "    <tr>\n",
       "      <th>...</th>\n",
       "      <td>...</td>\n",
       "      <td>...</td>\n",
       "      <td>...</td>\n",
       "      <td>...</td>\n",
       "      <td>...</td>\n",
       "      <td>...</td>\n",
       "    </tr>\n",
       "    <tr>\n",
       "      <th>254478</th>\n",
       "      <td>Monsieur</td>\n",
       "      <td>NaN</td>\n",
       "      <td>NaN</td>\n",
       "      <td>2015</td>\n",
       "      <td>2016</td>\n",
       "      <td>18</td>\n",
       "    </tr>\n",
       "    <tr>\n",
       "      <th>254604</th>\n",
       "      <td>Monsieur</td>\n",
       "      <td>NaN</td>\n",
       "      <td>NaN</td>\n",
       "      <td>2015</td>\n",
       "      <td>2016</td>\n",
       "      <td>18</td>\n",
       "    </tr>\n",
       "    <tr>\n",
       "      <th>254650</th>\n",
       "      <td>Monsieur</td>\n",
       "      <td>NaN</td>\n",
       "      <td>NaN</td>\n",
       "      <td>2015</td>\n",
       "      <td>2016</td>\n",
       "      <td>18</td>\n",
       "    </tr>\n",
       "    <tr>\n",
       "      <th>254675</th>\n",
       "      <td>Monsieur</td>\n",
       "      <td>NaN</td>\n",
       "      <td>NaN</td>\n",
       "      <td>2015</td>\n",
       "      <td>2016</td>\n",
       "      <td>18</td>\n",
       "    </tr>\n",
       "    <tr>\n",
       "      <th>254805</th>\n",
       "      <td>Monsieur</td>\n",
       "      <td>NaN</td>\n",
       "      <td>NaN</td>\n",
       "      <td>2015</td>\n",
       "      <td>2016</td>\n",
       "      <td>18</td>\n",
       "    </tr>\n",
       "    <tr>\n",
       "      <th>254860</th>\n",
       "      <td>Monsieur</td>\n",
       "      <td>NaN</td>\n",
       "      <td>NaN</td>\n",
       "      <td>2015</td>\n",
       "      <td>2016</td>\n",
       "      <td>18</td>\n",
       "    </tr>\n",
       "    <tr>\n",
       "      <th>255019</th>\n",
       "      <td>Monsieur</td>\n",
       "      <td>NaN</td>\n",
       "      <td>NaN</td>\n",
       "      <td>2015</td>\n",
       "      <td>2016</td>\n",
       "      <td>18</td>\n",
       "    </tr>\n",
       "    <tr>\n",
       "      <th>255081</th>\n",
       "      <td>Madame</td>\n",
       "      <td>NaN</td>\n",
       "      <td>NaN</td>\n",
       "      <td>2015</td>\n",
       "      <td>2016</td>\n",
       "      <td>18</td>\n",
       "    </tr>\n",
       "    <tr>\n",
       "      <th>255086</th>\n",
       "      <td>Monsieur</td>\n",
       "      <td>NaN</td>\n",
       "      <td>NaN</td>\n",
       "      <td>2015</td>\n",
       "      <td>2016</td>\n",
       "      <td>18</td>\n",
       "    </tr>\n",
       "    <tr>\n",
       "      <th>255137</th>\n",
       "      <td>Monsieur</td>\n",
       "      <td>NaN</td>\n",
       "      <td>NaN</td>\n",
       "      <td>2015</td>\n",
       "      <td>2016</td>\n",
       "      <td>18</td>\n",
       "    </tr>\n",
       "    <tr>\n",
       "      <th>255163</th>\n",
       "      <td>Monsieur</td>\n",
       "      <td>NaN</td>\n",
       "      <td>NaN</td>\n",
       "      <td>2015</td>\n",
       "      <td>2016</td>\n",
       "      <td>18</td>\n",
       "    </tr>\n",
       "    <tr>\n",
       "      <th>255255</th>\n",
       "      <td>Monsieur</td>\n",
       "      <td>NaN</td>\n",
       "      <td>NaN</td>\n",
       "      <td>2015</td>\n",
       "      <td>2016</td>\n",
       "      <td>18</td>\n",
       "    </tr>\n",
       "    <tr>\n",
       "      <th>255474</th>\n",
       "      <td>Madame</td>\n",
       "      <td>NaN</td>\n",
       "      <td>NaN</td>\n",
       "      <td>2015</td>\n",
       "      <td>2016</td>\n",
       "      <td>18</td>\n",
       "    </tr>\n",
       "    <tr>\n",
       "      <th>255700</th>\n",
       "      <td>Madame</td>\n",
       "      <td>NaN</td>\n",
       "      <td>NaN</td>\n",
       "      <td>2015</td>\n",
       "      <td>2016</td>\n",
       "      <td>18</td>\n",
       "    </tr>\n",
       "    <tr>\n",
       "      <th>255737</th>\n",
       "      <td>Monsieur</td>\n",
       "      <td>NaN</td>\n",
       "      <td>NaN</td>\n",
       "      <td>2015</td>\n",
       "      <td>2016</td>\n",
       "      <td>18</td>\n",
       "    </tr>\n",
       "    <tr>\n",
       "      <th>256143</th>\n",
       "      <td>Monsieur</td>\n",
       "      <td>NaN</td>\n",
       "      <td>NaN</td>\n",
       "      <td>2015</td>\n",
       "      <td>2016</td>\n",
       "      <td>18</td>\n",
       "    </tr>\n",
       "    <tr>\n",
       "      <th>256590</th>\n",
       "      <td>Monsieur</td>\n",
       "      <td>NaN</td>\n",
       "      <td>NaN</td>\n",
       "      <td>2015</td>\n",
       "      <td>2016</td>\n",
       "      <td>18</td>\n",
       "    </tr>\n",
       "    <tr>\n",
       "      <th>256710</th>\n",
       "      <td>Monsieur</td>\n",
       "      <td>NaN</td>\n",
       "      <td>NaN</td>\n",
       "      <td>2015</td>\n",
       "      <td>2016</td>\n",
       "      <td>18</td>\n",
       "    </tr>\n",
       "    <tr>\n",
       "      <th>256722</th>\n",
       "      <td>Monsieur</td>\n",
       "      <td>NaN</td>\n",
       "      <td>NaN</td>\n",
       "      <td>2015</td>\n",
       "      <td>2016</td>\n",
       "      <td>18</td>\n",
       "    </tr>\n",
       "    <tr>\n",
       "      <th>256846</th>\n",
       "      <td>Monsieur</td>\n",
       "      <td>NaN</td>\n",
       "      <td>NaN</td>\n",
       "      <td>2015</td>\n",
       "      <td>2016</td>\n",
       "      <td>18</td>\n",
       "    </tr>\n",
       "    <tr>\n",
       "      <th>256870</th>\n",
       "      <td>Madame</td>\n",
       "      <td>NaN</td>\n",
       "      <td>NaN</td>\n",
       "      <td>2015</td>\n",
       "      <td>2016</td>\n",
       "      <td>18</td>\n",
       "    </tr>\n",
       "    <tr>\n",
       "      <th>257825</th>\n",
       "      <td>Monsieur</td>\n",
       "      <td>NaN</td>\n",
       "      <td>NaN</td>\n",
       "      <td>2015</td>\n",
       "      <td>2016</td>\n",
       "      <td>18</td>\n",
       "    </tr>\n",
       "    <tr>\n",
       "      <th>259719</th>\n",
       "      <td>Madame</td>\n",
       "      <td>NaN</td>\n",
       "      <td>NaN</td>\n",
       "      <td>2015</td>\n",
       "      <td>2016</td>\n",
       "      <td>18</td>\n",
       "    </tr>\n",
       "    <tr>\n",
       "      <th>259745</th>\n",
       "      <td>Madame</td>\n",
       "      <td>NaN</td>\n",
       "      <td>NaN</td>\n",
       "      <td>2015</td>\n",
       "      <td>2016</td>\n",
       "      <td>18</td>\n",
       "    </tr>\n",
       "    <tr>\n",
       "      <th>259766</th>\n",
       "      <td>Monsieur</td>\n",
       "      <td>NaN</td>\n",
       "      <td>NaN</td>\n",
       "      <td>2015</td>\n",
       "      <td>2016</td>\n",
       "      <td>18</td>\n",
       "    </tr>\n",
       "    <tr>\n",
       "      <th>259910</th>\n",
       "      <td>Monsieur</td>\n",
       "      <td>NaN</td>\n",
       "      <td>NaN</td>\n",
       "      <td>2015</td>\n",
       "      <td>2016</td>\n",
       "      <td>18</td>\n",
       "    </tr>\n",
       "    <tr>\n",
       "      <th>260636</th>\n",
       "      <td>Monsieur</td>\n",
       "      <td>NaN</td>\n",
       "      <td>NaN</td>\n",
       "      <td>2015</td>\n",
       "      <td>2016</td>\n",
       "      <td>18</td>\n",
       "    </tr>\n",
       "    <tr>\n",
       "      <th>260811</th>\n",
       "      <td>Monsieur</td>\n",
       "      <td>NaN</td>\n",
       "      <td>NaN</td>\n",
       "      <td>2015</td>\n",
       "      <td>2016</td>\n",
       "      <td>18</td>\n",
       "    </tr>\n",
       "    <tr>\n",
       "      <th>260968</th>\n",
       "      <td>Madame</td>\n",
       "      <td>NaN</td>\n",
       "      <td>NaN</td>\n",
       "      <td>2015</td>\n",
       "      <td>2016</td>\n",
       "      <td>18</td>\n",
       "    </tr>\n",
       "    <tr>\n",
       "      <th>261146</th>\n",
       "      <td>Monsieur</td>\n",
       "      <td>NaN</td>\n",
       "      <td>NaN</td>\n",
       "      <td>2015</td>\n",
       "      <td>2016</td>\n",
       "      <td>18</td>\n",
       "    </tr>\n",
       "  </tbody>\n",
       "</table>\n",
       "<p>516 rows × 6 columns</p>\n",
       "</div>"
      ],
      "text/plain": [
       "        civility  minor_S2  specialisation_S2  year_S1  year_S2  months\n",
       "sciper                                                                 \n",
       "146330  Monsieur       NaN                NaN     2007     2008      18\n",
       "146929  Monsieur       NaN                NaN     2007     2008      18\n",
       "147008  Monsieur       NaN                NaN     2011     2013      30\n",
       "153066  Monsieur       NaN                NaN     2007     2009      30\n",
       "153746  Monsieur       NaN                NaN     2007     2008      18\n",
       "153762  Monsieur       NaN                NaN     2008     2010      30\n",
       "154080  Monsieur       NaN                NaN     2007     2008      18\n",
       "154573    Madame       NaN                NaN     2007     2008      18\n",
       "154643  Monsieur       NaN                NaN     2007     2008      18\n",
       "154706  Monsieur       NaN                NaN     2007     2008      18\n",
       "155018  Monsieur       NaN                NaN     2007     2008      18\n",
       "155097  Monsieur       NaN                NaN     2007     2008      18\n",
       "159516  Monsieur       NaN                NaN     2008     2009      18\n",
       "159998    Madame       NaN                NaN     2008     2009      18\n",
       "160148    Madame       NaN                NaN     2007     2008      18\n",
       "160213  Monsieur       NaN                NaN     2008     2009      18\n",
       "160225  Monsieur       NaN                NaN     2007     2008      18\n",
       "160254  Monsieur       NaN                NaN     2007     2008      18\n",
       "160492  Monsieur       NaN                NaN     2007     2008      18\n",
       "160578  Monsieur       NaN                NaN     2007     2008      18\n",
       "160893  Monsieur       NaN                NaN     2007     2008      18\n",
       "161024    Madame       NaN                NaN     2007     2008      18\n",
       "161091    Madame       NaN                NaN     2008     2010      30\n",
       "161127  Monsieur       NaN                NaN     2008     2009      18\n",
       "161138  Monsieur       NaN                NaN     2007     2008      18\n",
       "161220  Monsieur       NaN                NaN     2009     2010      18\n",
       "161279  Monsieur       NaN                NaN     2009     2010      18\n",
       "161357  Monsieur       NaN                NaN     2007     2008      18\n",
       "161634  Monsieur       NaN                NaN     2008     2009      18\n",
       "161814  Monsieur       NaN                NaN     2009     2010      18\n",
       "...          ...       ...                ...      ...      ...     ...\n",
       "254478  Monsieur       NaN                NaN     2015     2016      18\n",
       "254604  Monsieur       NaN                NaN     2015     2016      18\n",
       "254650  Monsieur       NaN                NaN     2015     2016      18\n",
       "254675  Monsieur       NaN                NaN     2015     2016      18\n",
       "254805  Monsieur       NaN                NaN     2015     2016      18\n",
       "254860  Monsieur       NaN                NaN     2015     2016      18\n",
       "255019  Monsieur       NaN                NaN     2015     2016      18\n",
       "255081    Madame       NaN                NaN     2015     2016      18\n",
       "255086  Monsieur       NaN                NaN     2015     2016      18\n",
       "255137  Monsieur       NaN                NaN     2015     2016      18\n",
       "255163  Monsieur       NaN                NaN     2015     2016      18\n",
       "255255  Monsieur       NaN                NaN     2015     2016      18\n",
       "255474    Madame       NaN                NaN     2015     2016      18\n",
       "255700    Madame       NaN                NaN     2015     2016      18\n",
       "255737  Monsieur       NaN                NaN     2015     2016      18\n",
       "256143  Monsieur       NaN                NaN     2015     2016      18\n",
       "256590  Monsieur       NaN                NaN     2015     2016      18\n",
       "256710  Monsieur       NaN                NaN     2015     2016      18\n",
       "256722  Monsieur       NaN                NaN     2015     2016      18\n",
       "256846  Monsieur       NaN                NaN     2015     2016      18\n",
       "256870    Madame       NaN                NaN     2015     2016      18\n",
       "257825  Monsieur       NaN                NaN     2015     2016      18\n",
       "259719    Madame       NaN                NaN     2015     2016      18\n",
       "259745    Madame       NaN                NaN     2015     2016      18\n",
       "259766  Monsieur       NaN                NaN     2015     2016      18\n",
       "259910  Monsieur       NaN                NaN     2015     2016      18\n",
       "260636  Monsieur       NaN                NaN     2015     2016      18\n",
       "260811  Monsieur       NaN                NaN     2015     2016      18\n",
       "260968    Madame       NaN                NaN     2015     2016      18\n",
       "261146  Monsieur       NaN                NaN     2015     2016      18\n",
       "\n",
       "[516 rows x 6 columns]"
      ]
     },
     "execution_count": 54,
     "metadata": {},
     "output_type": "execute_result"
    }
   ],
   "source": [
    "msStudentsS1toS2"
   ]
  },
  {
   "cell_type": "code",
   "execution_count": 55,
   "metadata": {
    "collapsed": false
   },
   "outputs": [
    {
     "data": {
      "text/plain": [
       "months\n",
       "6      23\n",
       "18    404\n",
       "30     85\n",
       "42      4\n",
       "Name: civility, dtype: int64"
      ]
     },
     "execution_count": 55,
     "metadata": {},
     "output_type": "execute_result"
    }
   ],
   "source": [
    "msStudentsS1toS2.groupby('months').count().civility"
   ]
  },
  {
   "cell_type": "code",
   "execution_count": 56,
   "metadata": {
    "collapsed": false
   },
   "outputs": [
    {
     "data": {
      "text/plain": [
       "19.627906976744185"
      ]
     },
     "execution_count": 56,
     "metadata": {},
     "output_type": "execute_result"
    }
   ],
   "source": [
    "msStudentsS1toS2.months.mean()"
   ]
  },
  {
   "cell_type": "code",
   "execution_count": null,
   "metadata": {
    "collapsed": true
   },
   "outputs": [],
   "source": []
  }
 ],
 "metadata": {
  "anaconda-cloud": {},
  "celltoolbar": "Raw Cell Format",
  "kernelspec": {
   "display_name": "Python [Root]",
   "language": "python",
   "name": "Python [Root]"
  },
  "language_info": {
   "codemirror_mode": {
    "name": "ipython",
    "version": 3
   },
   "file_extension": ".py",
   "mimetype": "text/x-python",
   "name": "python",
   "nbconvert_exporter": "python",
   "pygments_lexer": "ipython3",
   "version": "3.5.2"
  }
 },
 "nbformat": 4,
 "nbformat_minor": 1
}

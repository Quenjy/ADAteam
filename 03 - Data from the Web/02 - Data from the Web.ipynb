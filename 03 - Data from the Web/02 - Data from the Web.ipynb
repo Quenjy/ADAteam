{
 "cells": [
  {
   "cell_type": "markdown",
   "metadata": {},
   "source": [
    "# Assignment 2 - Data from the web"
   ]
  },
  {
   "cell_type": "markdown",
   "metadata": {},
   "source": [
    "## Data scraping"
   ]
  },
  {
   "cell_type": "markdown",
   "metadata": {},
   "source": [
    "## 1. Obtain all the data"
   ]
  },
  {
   "cell_type": "code",
   "execution_count": 1,
   "metadata": {
    "collapsed": true
   },
   "outputs": [],
   "source": [
    "import requests\n",
    "from bs4 import BeautifulSoup"
   ]
  },
  {
   "cell_type": "markdown",
   "metadata": {},
   "source": [
    "The first thing to do is to get the base URL (basically looking at the address bar of the browser).\n",
    "We need a second variable INDEX_PARAM because this page is using frames, and we'll need the base address to access them."
   ]
  },
  {
   "cell_type": "code",
   "execution_count": 2,
   "metadata": {
    "collapsed": true
   },
   "outputs": [],
   "source": [
    "BASE_URL = \"http://isa.epfl.ch/imoniteur_ISAP/%21gedpublicreports.htm\"\n",
    "INDEX_PARAM = \"ww_i_reportmodel=133685247\""
   ]
  },
  {
   "cell_type": "markdown",
   "metadata": {},
   "source": [
    "Then let's fetch the parameters names, but as it is a bit tricker, BeautifulSoup will be a great help for this (and also some manual html inspection)."
   ]
  },
  {
   "cell_type": "code",
   "execution_count": 3,
   "metadata": {
    "collapsed": false
   },
   "outputs": [
    {
     "name": "stdout",
     "output_type": "stream",
     "text": [
      "!GEDPUBLICREPORTS.filter?ww_i_reportModel=133685247\n"
     ]
    }
   ],
   "source": [
    "r = requests.get(BASE_URL + '?' + INDEX_PARAM)\n",
    "soup = BeautifulSoup(r.text, 'html.parser')\n",
    "\n",
    "\n",
    "#print(soup)\n",
    "\n",
    "for frame in soup.find_all('frame'):\n",
    "    if frame['name'] == 'toc':\n",
    "        r = requests.get(\"http://isa.epfl.ch/imoniteur_ISAP/\" + frame['src'])\n",
    "        print(frame['src'])\n",
    "# The content of the frame\n",
    "\n",
    "# Print slects\n",
    "soup = BeautifulSoup(r.text, 'html.parser')\n",
    "query = 'http://isa.epfl.ch/imoniteur_ISAP/!GEDPUBLICREPORTS.html?ww_x_GPS=-1&ww_i_reportModel=133685247'\n",
    "    \n"
   ]
  },
  {
   "cell_type": "markdown",
   "metadata": {},
   "source": [
    "and finally a nice function to easily query the EPFL page and get the data from it."
   ]
  },
  {
   "cell_type": "code",
   "execution_count": 4,
   "metadata": {
    "collapsed": false
   },
   "outputs": [],
   "source": [
    "def query_epfl(section, stratYear, endYear, semesterType, semesterNumber, semesterSeason):\n",
    "    # Print slects\n",
    "    soup = BeautifulSoup(r.text, 'html.parser')\n",
    "    query = 'http://isa.epfl.ch/imoniteur_ISAP/!GEDPUBLICREPORTS.html?ww_x_GPS=-1&ww_i_reportModel=133685247'\n",
    "\n",
    "\n",
    "    for in_put in soup.findAll('input'):\n",
    "        #print (in_put['name'])\n",
    "        if in_put.text == \"xls\":\n",
    "        #print(in_put['value'])\n",
    "            query = query + '&' + in_put['name'] + '=' + in_put['value']\n",
    "     \n",
    "    for select in soup.findAll('select'):\n",
    "    #print (select['name'])\n",
    "        for t in select.findAll('option'):\n",
    "        #print(t)\n",
    "            if t.text == section:\n",
    "            #print(t['value'])\n",
    "                query = query + '&' + select['name'] + '=' + t['value']\n",
    "            if t.text == str(stratYear) + '-' + str(endYear):\n",
    "                query = query + '&' + select['name'] + '=' + t['value']\n",
    "            if t.text == semesterType + \" \" + str(semesterNumber):\n",
    "                query = query + '&' + select['name'] + '=' + t['value']\n",
    "            if t.text == \"Semestre \" + semesterSeason:\n",
    "                query = query + '&' + select['name'] + '=' + t['value']\n",
    "    return query\n"
   ]
  },
  {
   "cell_type": "code",
   "execution_count": 5,
   "metadata": {
    "collapsed": false
   },
   "outputs": [
    {
     "name": "stdout",
     "output_type": "stream",
     "text": [
      "['Monsieur', 'Arévalo Christian', 'Présent', '169569']\n"
     ]
    }
   ],
   "source": [
    "queryString = query_epfl(\"Informatique\", 2007,2008, \"Bachelor semestre\", 1, \"d'automne\")\n",
    "table = BeautifulSoup(requests.get(queryString).text, 'html.parser')\n",
    "data = []\n",
    "for row in table.findAll('tr'):\n",
    "    cols = row.find_all('td')\n",
    "    cols = [ele.text.strip().replace('\\xa0', ' ') for ele in cols]\n",
    "    data.append([ele for ele in cols if ele])\n",
    "print (data[3])"
   ]
  },
  {
   "cell_type": "code",
   "execution_count": 6,
   "metadata": {
    "collapsed": false
   },
   "outputs": [
    {
     "name": "stdout",
     "output_type": "stream",
     "text": [
      "           0                       1        2       3\n",
      "0   Monsieur       Arévalo Christian  Présent  169569\n",
      "1   Monsieur         Aubelle Flavien  Présent  174905\n",
      "2   Monsieur           Badoud Morgan  Présent  173922\n",
      "3   Monsieur      Baeriswyl Jonathan  Présent  179406\n",
      "4   Monsieur         Barroco Michael  Présent  179428\n",
      "5   Monsieur          Belfis Nicolas  Présent  179324\n",
      "6   Monsieur       Beliaev Stanislav  Présent  174597\n",
      "7   Monsieur   Bindschaedler Vincent  Présent  179449\n",
      "8   Monsieur      Bloch Marc-Olivier  Présent  178553\n",
      "9   Monsieur              Bloch Remi  Présent  179426\n",
      "10  Monsieur  Boéchat Marc-Alexandre  Présent  178271\n",
      "11  Monsieur          Böhler Michael  Présent  182433\n",
      "12  Monsieur    Bricola Jean-Charles  Présent  180731\n",
      "13  Monsieur    Buchschacher Nicolas  Présent  171619\n",
      "14  Monsieur            Caloz Daniel  Présent  179837\n",
      "15  Monsieur          Calvert Thomas  Présent  179157\n",
      "16  Monsieur        Cambazard Thomas  Présent  179864\n",
      "17  Monsieur     Camenzind Guillaume  Présent  174590\n",
      "18  Monsieur          Cattin Nicolas  Présent  178843\n",
      "19  Monsieur            Cino Emanuel  Présent  178711\n",
      "20  Monsieur            Coiro Andrea  Présent  178786\n",
      "21  Monsieur       Collavini Gregory  Présent  179567\n",
      "22  Monsieur          Corbat Nicolas  Présent  176282\n",
      "23  Monsieur       Curreli Alexandre  Présent  178656\n",
      "24  Monsieur          Custovic Alain  Présent  181445\n",
      "25  Monsieur        Dal Mas Gianluca  Présent  178718\n",
      "26  Monsieur       Decorvet Grégoire  Présent  175466\n",
      "27  Monsieur       Dettwiler Fabrice  Présent  173882\n",
      "28    Madame       Ej-Jennane Jihane  Présent  181612\n",
      "29  Monsieur          Epiney Vincent  Présent  181232\n",
      "..       ...                     ...      ...     ...\n",
      "60  Monsieur             Mirza Elias  Présent  180094\n",
      "61  Monsieur            Moudry Dorje  Présent  180853\n",
      "62  Monsieur           Neuraz Arnaud  Présent  178726\n",
      "63  Monsieur           Nötzli Andres  Présent  181017\n",
      "64  Monsieur       Nydegger Jonathan  Présent  175031\n",
      "65  Monsieur           Obrist Damien  Présent  179194\n",
      "66  Monsieur        Pascalis Laurent  Présent  175754\n",
      "67  Monsieur           Pittet Cédric  Présent  179980\n",
      "68    Madame         Portmann Joëlle  Présent  179988\n",
      "69  Monsieur          Radice Damiano  Présent  174187\n",
      "70  Monsieur        Restani Stéphane  Présent  180959\n",
      "71  Monsieur          Richter Arnaud  Présent  171195\n",
      "72  Monsieur          Roulet Ludovic  Présent  178620\n",
      "73  Monsieur            Rudaz Fabien  Présent  180979\n",
      "74  Monsieur           Ruppen Xavier  Présent  180980\n",
      "75  Monsieur        Schädeli Andreas  Présent  178948\n",
      "76  Monsieur         Scheiben Pascal  Présent  169795\n",
      "77  Monsieur          Schwery Thomas  Présent  178684\n",
      "78  Monsieur   Sondag Pierre-Antoine  Présent  180241\n",
      "79  Monsieur         Tacchini Pierre  Présent  180982\n",
      "80  Monsieur       Thambimuthu Karan  Présent  181291\n",
      "81  Monsieur          Uberti Quentin  Présent  175280\n",
      "82  Monsieur      van Singer Mathias  Présent  179053\n",
      "83  Monsieur         Vautherin Jonas  Présent  180854\n",
      "84  Monsieur      Villavicencio Omar  Présent  171568\n",
      "85  Monsieur          Vlassov Nikita  Présent  174120\n",
      "86  Monsieur      Vo Nhu-Hoài Robert  Présent  180185\n",
      "87  Monsieur           Wicht Mathieu  Présent  175834\n",
      "88    Madame       Wüthrich Nathalie  Présent  174340\n",
      "89  Monsieur            Zoller Roman  Présent  178682\n",
      "\n",
      "[90 rows x 4 columns]\n"
     ]
    }
   ],
   "source": [
    "import pandas as pd\n",
    "import numpy as np\n",
    "df = pd.DataFrame(data[3:])\n",
    "print(df)"
   ]
  },
  {
   "cell_type": "code",
   "execution_count": null,
   "metadata": {
    "collapsed": true
   },
   "outputs": [],
   "source": []
  },
  {
   "cell_type": "code",
   "execution_count": null,
   "metadata": {
    "collapsed": true
   },
   "outputs": [],
   "source": []
  },
  {
   "cell_type": "code",
   "execution_count": null,
   "metadata": {
    "collapsed": true
   },
   "outputs": [],
   "source": []
  },
  {
   "cell_type": "code",
   "execution_count": null,
   "metadata": {
    "collapsed": true
   },
   "outputs": [],
   "source": []
  },
  {
   "cell_type": "code",
   "execution_count": null,
   "metadata": {
    "collapsed": true
   },
   "outputs": [],
   "source": []
  },
  {
   "cell_type": "code",
   "execution_count": null,
   "metadata": {
    "collapsed": true
   },
   "outputs": [],
   "source": []
  },
  {
   "cell_type": "code",
   "execution_count": null,
   "metadata": {
    "collapsed": true
   },
   "outputs": [],
   "source": []
  },
  {
   "cell_type": "code",
   "execution_count": null,
   "metadata": {
    "collapsed": true
   },
   "outputs": [],
   "source": []
  }
 ],
 "metadata": {
  "anaconda-cloud": {},
  "kernelspec": {
   "display_name": "Python [Root]",
   "language": "python",
   "name": "Python [Root]"
  },
  "language_info": {
   "codemirror_mode": {
    "name": "ipython",
    "version": 3
   },
   "file_extension": ".py",
   "mimetype": "text/x-python",
   "name": "python",
   "nbconvert_exporter": "python",
   "pygments_lexer": "ipython3",
   "version": "3.5.2"
  }
 },
 "nbformat": 4,
 "nbformat_minor": 1
}

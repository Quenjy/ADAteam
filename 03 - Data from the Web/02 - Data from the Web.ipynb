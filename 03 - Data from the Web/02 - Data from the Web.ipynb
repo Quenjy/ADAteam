{
 "cells": [
  {
   "cell_type": "markdown",
   "metadata": {},
   "source": [
    "# Assignment 2 - Data from the web"
   ]
  },
  {
   "cell_type": "markdown",
   "metadata": {},
   "source": [
    "## Data scraping"
   ]
  },
  {
   "cell_type": "markdown",
   "metadata": {},
   "source": [
    "## 1. Obtain all the data"
   ]
  },
  {
   "cell_type": "code",
   "execution_count": 625,
   "metadata": {
    "collapsed": true
   },
   "outputs": [],
   "source": [
    "%matplotlib inline\n",
    "import requests\n",
    "import pandas as pd\n",
    "import numpy as np\n",
    "import os\n",
    "import os.path\n",
    "import re\n",
    "import matplotlib.pyplot as plt\n",
    "from IPython.display import display\n",
    "from bs4 import BeautifulSoup"
   ]
  },
  {
   "cell_type": "markdown",
   "metadata": {},
   "source": [
    "The first thing to do is to get the base URL (basically looking at the address bar of the browser).\n",
    "We need a second variable INDEX_PARAM because this page is using frames, and we'll need the base address to access them."
   ]
  },
  {
   "cell_type": "code",
   "execution_count": 155,
   "metadata": {
    "collapsed": true
   },
   "outputs": [],
   "source": [
    "BASE_URL = \"http://isa.epfl.ch/imoniteur_ISAP/%21gedpublicreports.htm\"\n",
    "INDEX_PARAM = \"ww_i_reportmodel=133685247\""
   ]
  },
  {
   "cell_type": "markdown",
   "metadata": {},
   "source": [
    "Then let's fetch the parameters names, but as it is a bit tricker, BeautifulSoup will be a great help for this (and also some manual html inspection)."
   ]
  },
  {
   "cell_type": "code",
   "execution_count": 156,
   "metadata": {
    "collapsed": false
   },
   "outputs": [
    {
     "name": "stdout",
     "output_type": "stream",
     "text": [
      "!GEDPUBLICREPORTS.filter?ww_i_reportModel=133685247\n"
     ]
    }
   ],
   "source": [
    "r = requests.get(BASE_URL + '?' + INDEX_PARAM)\n",
    "soup = BeautifulSoup(r.text, 'html.parser')\n",
    "\n",
    "\n",
    "#print(soup)\n",
    "\n",
    "for frame in soup.find_all('frame'):\n",
    "    if frame['name'] == 'toc':\n",
    "        r = requests.get(\"http://isa.epfl.ch/imoniteur_ISAP/\" + frame['src'])\n",
    "        print(frame['src'])\n",
    "# The content of the frame\n",
    "\n",
    "# Print slects\n",
    "soup = BeautifulSoup(r.text, 'html.parser')\n",
    "query = 'http://isa.epfl.ch/imoniteur_ISAP/!GEDPUBLICREPORTS.html?ww_x_GPS=-1&ww_i_reportModel=133685247'\n",
    "    \n"
   ]
  },
  {
   "cell_type": "markdown",
   "metadata": {},
   "source": [
    "For convenience, we also create another function that builds the query from some desired parameters."
   ]
  },
  {
   "cell_type": "code",
   "execution_count": 157,
   "metadata": {
    "collapsed": false
   },
   "outputs": [],
   "source": [
    "def build_query(section, startYear, endYear, semesterType, semesterNumber, semesterSeason):\n",
    "    # Print slects\n",
    "    soup = BeautifulSoup(r.text, 'html.parser')\n",
    "    query = 'http://isa.epfl.ch/imoniteur_ISAP/!GEDPUBLICREPORTS.html?ww_x_GPS=-1&ww_i_reportModel=133685247'\n",
    "\n",
    "\n",
    "    for in_put in soup.findAll('input'):\n",
    "        #print (in_put['name'])\n",
    "        if in_put.text == \"xls\":\n",
    "        #print(in_put['value'])\n",
    "            query = query + '&' + in_put['name'] + '=' + in_put['value']\n",
    "     \n",
    "    for select in soup.findAll('select'):\n",
    "    #print (select['name'])\n",
    "        for t in select.findAll('option'):\n",
    "        #print(t)\n",
    "            if t.text == section:\n",
    "            #print(t['value'])\n",
    "                query = query + '&' + select['name'] + '=' + t['value']\n",
    "            if t.text == str(startYear) + '-' + str(endYear):\n",
    "                query = query + '&' + select['name'] + '=' + t['value']\n",
    "            if t.text == semesterType + \" \" + str(semesterNumber):\n",
    "                query = query + '&' + select['name'] + '=' + t['value']\n",
    "            if t.text == \"Semestre \" + semesterSeason:\n",
    "                query = query + '&' + select['name'] + '=' + t['value']\n",
    "    return query\n"
   ]
  },
  {
   "cell_type": "markdown",
   "metadata": {},
   "source": [
    "And finally a nice function to easily query the EPFL page and get the data from it."
   ]
  },
  {
   "cell_type": "code",
   "execution_count": 354,
   "metadata": {
    "collapsed": false
   },
   "outputs": [],
   "source": [
    "DATA_FOLDER_PATH = 'Data/'\n",
    "COLUMNS_NAMES = [\"civility\", \"name\", \"bachelor_orientation\", \"master_orientation\", \"specialisation\", \"optional_spec\", \"minor\", \"status\", \"exchange_type\", \"exchange_school\", \"sciper\"]\n",
    "def query_epfl(section, startYear, endYear, semesterType, semesterNumber, semesterSeason, update = False, writeToFile = True):\n",
    "    #we create files to save the queries (and network bandwidth)\n",
    "    path = str(section) + str(startYear) + str(endYear) + str(semesterType) + str(semesterNumber) + str(semesterSeason)\n",
    "    \n",
    "    #to avoid file naming issues\n",
    "    path = re.sub('[^A-Za-z0-9]+', '', path)\n",
    "    path += \".xls\"\n",
    "    \n",
    "    df = None\n",
    "    #we query the epfl server only if the file does not exist, or if we want to update the data\n",
    "    if(not os.path.isfile(DATA_FOLDER_PATH + path) or update):\n",
    "        queryString = build_query(section, startYear, endYear, semesterType, semesterNumber, semesterSeason)\n",
    "        response = requests.get(queryString, stream=True)\n",
    "        if response.status_code == 200:\n",
    "            data = pd.read_html(response.text, match='.+', flavor=None, header=1, index_col=None, skiprows=1)\n",
    "            df = data[0]\n",
    "            df.drop(df.columns[[11, 12]], axis=1, inplace=True) #remove useless columns (all are empty)\n",
    "            df.columns = COLUMNS_NAMES\n",
    "            \n",
    "            #cleaning the invalid rows (basically mapping the scipers to real numbers and remove the non-number rows)\n",
    "            scipers = df['sciper']\n",
    "            df = df.drop('sciper', axis=1)\n",
    "            df = df.join(scipers.apply(pd.to_numeric, errors='coerce'))\n",
    "            df = df[~df.sciper.isnull()]\n",
    "            \n",
    "            if writeToFile:\n",
    "                df.to_excel(DATA_FOLDER_PATH + path) #save to xls file\n",
    "    else:\n",
    "        df = pd.read_excel(DATA_FOLDER_PATH + path, sheetname=0, header=0)\n",
    "    \n",
    "    return df"
   ]
  },
  {
   "cell_type": "markdown",
   "metadata": {},
   "source": [
    "We can now start using those functions to collect data. \n",
    "Example below:"
   ]
  },
  {
   "cell_type": "code",
   "execution_count": 355,
   "metadata": {
    "collapsed": false
   },
   "outputs": [
    {
     "data": {
      "text/html": [
       "<div>\n",
       "<table border=\"1\" class=\"dataframe\">\n",
       "  <thead>\n",
       "    <tr style=\"text-align: right;\">\n",
       "      <th></th>\n",
       "      <th>civility</th>\n",
       "      <th>name</th>\n",
       "      <th>bachelor_orientation</th>\n",
       "      <th>master_orientation</th>\n",
       "      <th>specialisation</th>\n",
       "      <th>optional_spec</th>\n",
       "      <th>minor</th>\n",
       "      <th>status</th>\n",
       "      <th>exchange_type</th>\n",
       "      <th>exchange_school</th>\n",
       "      <th>sciper</th>\n",
       "    </tr>\n",
       "  </thead>\n",
       "  <tbody>\n",
       "    <tr>\n",
       "      <th>0</th>\n",
       "      <td>Monsieur</td>\n",
       "      <td>Aapro Niccolò</td>\n",
       "      <td>NaN</td>\n",
       "      <td>NaN</td>\n",
       "      <td>NaN</td>\n",
       "      <td>NaN</td>\n",
       "      <td>NaN</td>\n",
       "      <td>Présent</td>\n",
       "      <td>NaN</td>\n",
       "      <td>NaN</td>\n",
       "      <td>170617.0</td>\n",
       "    </tr>\n",
       "    <tr>\n",
       "      <th>1</th>\n",
       "      <td>Monsieur</td>\n",
       "      <td>Arn Patrick</td>\n",
       "      <td>NaN</td>\n",
       "      <td>NaN</td>\n",
       "      <td>NaN</td>\n",
       "      <td>NaN</td>\n",
       "      <td>NaN</td>\n",
       "      <td>Présent</td>\n",
       "      <td>NaN</td>\n",
       "      <td>NaN</td>\n",
       "      <td>174454.0</td>\n",
       "    </tr>\n",
       "    <tr>\n",
       "      <th>2</th>\n",
       "      <td>Monsieur</td>\n",
       "      <td>Balas Martin</td>\n",
       "      <td>NaN</td>\n",
       "      <td>NaN</td>\n",
       "      <td>NaN</td>\n",
       "      <td>NaN</td>\n",
       "      <td>NaN</td>\n",
       "      <td>Présent</td>\n",
       "      <td>NaN</td>\n",
       "      <td>NaN</td>\n",
       "      <td>174774.0</td>\n",
       "    </tr>\n",
       "    <tr>\n",
       "      <th>3</th>\n",
       "      <td>Monsieur</td>\n",
       "      <td>Bandelier Matthieu</td>\n",
       "      <td>NaN</td>\n",
       "      <td>NaN</td>\n",
       "      <td>NaN</td>\n",
       "      <td>NaN</td>\n",
       "      <td>NaN</td>\n",
       "      <td>Présent</td>\n",
       "      <td>NaN</td>\n",
       "      <td>NaN</td>\n",
       "      <td>173962.0</td>\n",
       "    </tr>\n",
       "    <tr>\n",
       "      <th>4</th>\n",
       "      <td>Monsieur</td>\n",
       "      <td>Bindschaedler Laurent</td>\n",
       "      <td>NaN</td>\n",
       "      <td>NaN</td>\n",
       "      <td>NaN</td>\n",
       "      <td>NaN</td>\n",
       "      <td>NaN</td>\n",
       "      <td>Présent</td>\n",
       "      <td>NaN</td>\n",
       "      <td>NaN</td>\n",
       "      <td>170654.0</td>\n",
       "    </tr>\n",
       "  </tbody>\n",
       "</table>\n",
       "</div>"
      ],
      "text/plain": [
       "   civility                   name bachelor_orientation master_orientation  \\\n",
       "0  Monsieur          Aapro Niccolò                  NaN                NaN   \n",
       "1  Monsieur            Arn Patrick                  NaN                NaN   \n",
       "2  Monsieur           Balas Martin                  NaN                NaN   \n",
       "3  Monsieur     Bandelier Matthieu                  NaN                NaN   \n",
       "4  Monsieur  Bindschaedler Laurent                  NaN                NaN   \n",
       "\n",
       "  specialisation optional_spec minor   status exchange_type exchange_school  \\\n",
       "0            NaN           NaN   NaN  Présent           NaN             NaN   \n",
       "1            NaN           NaN   NaN  Présent           NaN             NaN   \n",
       "2            NaN           NaN   NaN  Présent           NaN             NaN   \n",
       "3            NaN           NaN   NaN  Présent           NaN             NaN   \n",
       "4            NaN           NaN   NaN  Présent           NaN             NaN   \n",
       "\n",
       "     sciper  \n",
       "0  170617.0  \n",
       "1  174454.0  \n",
       "2  174774.0  \n",
       "3  173962.0  \n",
       "4  170654.0  "
      ]
     },
     "execution_count": 355,
     "metadata": {},
     "output_type": "execute_result"
    }
   ],
   "source": [
    "test = query_epfl(\"Informatique\", 2007,2008, \"Bachelor semestre\", 3, \"d'automne\")\n",
    "test.head()"
   ]
  },
  {
   "cell_type": "markdown",
   "metadata": {},
   "source": [
    "We're now going to collect and merge every single semester of every single year. We'll append columns \"year\", \"semester\".\n",
    "\n",
    "Together with a student's sciper, we'll use this to make unique indexes. We could've used the name but it's possible that two students with the same name would be in the same class in the same year and semestre."
   ]
  },
  {
   "cell_type": "code",
   "execution_count": 516,
   "metadata": {
    "collapsed": false
   },
   "outputs": [
    {
     "data": {
      "text/plain": [
       "(5807, 13)"
      ]
     },
     "execution_count": 516,
     "metadata": {},
     "output_type": "execute_result"
    }
   ],
   "source": [
    "frames = []\n",
    "for year in range(2007, 2017):\n",
    "    for semester in range (1, 7):\n",
    "        if(semester % 2 == 0 ):\n",
    "            season=\"de printemps\"\n",
    "        else:\n",
    "            season=\"d'automne\"\n",
    "            \n",
    "        df = query_epfl(\"Informatique\", year,year+1, \"Bachelor semestre\", semester, season)\n",
    "        df['year'] = year\n",
    "        df['semester'] = semester\n",
    "        #we use semester as first index for simplicity of use in next part\n",
    "        df.set_index(['semester', 'year', 'sciper'], drop=False, append=False, inplace=True)\n",
    "        if (not df.index.is_unique):\n",
    "            print(\"Error: non unique index in year:\" + str(year) + \"-\" + str(year+1) + \", semester:\" + str(semester) + \", season:\" + str(season))\n",
    "            \n",
    "        frames.append(df)\n",
    "\n",
    "bStudents = pd.concat(frames)\n",
    "bStudents.shape"
   ]
  },
  {
   "cell_type": "markdown",
   "metadata": {},
   "source": [
    "We make sure the index is unique"
   ]
  },
  {
   "cell_type": "code",
   "execution_count": 872,
   "metadata": {
    "collapsed": false
   },
   "outputs": [
    {
     "data": {
      "text/plain": [
       "True"
      ]
     },
     "execution_count": 872,
     "metadata": {},
     "output_type": "execute_result"
    }
   ],
   "source": [
    "bStudents.index.is_unique"
   ]
  },
  {
   "cell_type": "code",
   "execution_count": 886,
   "metadata": {
    "collapsed": false
   },
   "outputs": [
    {
     "data": {
      "text/html": [
       "<div>\n",
       "<table border=\"1\" class=\"dataframe\">\n",
       "  <thead>\n",
       "    <tr style=\"text-align: right;\">\n",
       "      <th></th>\n",
       "      <th></th>\n",
       "      <th></th>\n",
       "      <th>civility</th>\n",
       "      <th>name</th>\n",
       "      <th>bachelor_orientation</th>\n",
       "      <th>master_orientation</th>\n",
       "      <th>specialisation</th>\n",
       "      <th>optional_spec</th>\n",
       "      <th>minor</th>\n",
       "      <th>status</th>\n",
       "      <th>exchange_type</th>\n",
       "      <th>exchange_school</th>\n",
       "      <th>sciper</th>\n",
       "      <th>year</th>\n",
       "      <th>semester</th>\n",
       "    </tr>\n",
       "    <tr>\n",
       "      <th>semester</th>\n",
       "      <th>year</th>\n",
       "      <th>sciper</th>\n",
       "      <th></th>\n",
       "      <th></th>\n",
       "      <th></th>\n",
       "      <th></th>\n",
       "      <th></th>\n",
       "      <th></th>\n",
       "      <th></th>\n",
       "      <th></th>\n",
       "      <th></th>\n",
       "      <th></th>\n",
       "      <th></th>\n",
       "      <th></th>\n",
       "      <th></th>\n",
       "    </tr>\n",
       "  </thead>\n",
       "  <tbody>\n",
       "    <tr>\n",
       "      <th rowspan=\"5\" valign=\"top\">1</th>\n",
       "      <th rowspan=\"5\" valign=\"top\">2007</th>\n",
       "      <th>169569</th>\n",
       "      <td>Monsieur</td>\n",
       "      <td>Arévalo Christian</td>\n",
       "      <td>NaN</td>\n",
       "      <td>NaN</td>\n",
       "      <td>NaN</td>\n",
       "      <td>NaN</td>\n",
       "      <td>NaN</td>\n",
       "      <td>Présent</td>\n",
       "      <td>NaN</td>\n",
       "      <td>NaN</td>\n",
       "      <td>169569</td>\n",
       "      <td>2007</td>\n",
       "      <td>1</td>\n",
       "    </tr>\n",
       "    <tr>\n",
       "      <th>174905</th>\n",
       "      <td>Monsieur</td>\n",
       "      <td>Aubelle Flavien</td>\n",
       "      <td>NaN</td>\n",
       "      <td>NaN</td>\n",
       "      <td>NaN</td>\n",
       "      <td>NaN</td>\n",
       "      <td>NaN</td>\n",
       "      <td>Présent</td>\n",
       "      <td>NaN</td>\n",
       "      <td>NaN</td>\n",
       "      <td>174905</td>\n",
       "      <td>2007</td>\n",
       "      <td>1</td>\n",
       "    </tr>\n",
       "    <tr>\n",
       "      <th>173922</th>\n",
       "      <td>Monsieur</td>\n",
       "      <td>Badoud Morgan</td>\n",
       "      <td>NaN</td>\n",
       "      <td>NaN</td>\n",
       "      <td>NaN</td>\n",
       "      <td>NaN</td>\n",
       "      <td>NaN</td>\n",
       "      <td>Présent</td>\n",
       "      <td>NaN</td>\n",
       "      <td>NaN</td>\n",
       "      <td>173922</td>\n",
       "      <td>2007</td>\n",
       "      <td>1</td>\n",
       "    </tr>\n",
       "    <tr>\n",
       "      <th>179406</th>\n",
       "      <td>Monsieur</td>\n",
       "      <td>Baeriswyl Jonathan</td>\n",
       "      <td>NaN</td>\n",
       "      <td>NaN</td>\n",
       "      <td>NaN</td>\n",
       "      <td>NaN</td>\n",
       "      <td>NaN</td>\n",
       "      <td>Présent</td>\n",
       "      <td>NaN</td>\n",
       "      <td>NaN</td>\n",
       "      <td>179406</td>\n",
       "      <td>2007</td>\n",
       "      <td>1</td>\n",
       "    </tr>\n",
       "    <tr>\n",
       "      <th>179428</th>\n",
       "      <td>Monsieur</td>\n",
       "      <td>Barroco Michael</td>\n",
       "      <td>NaN</td>\n",
       "      <td>NaN</td>\n",
       "      <td>NaN</td>\n",
       "      <td>NaN</td>\n",
       "      <td>NaN</td>\n",
       "      <td>Présent</td>\n",
       "      <td>NaN</td>\n",
       "      <td>NaN</td>\n",
       "      <td>179428</td>\n",
       "      <td>2007</td>\n",
       "      <td>1</td>\n",
       "    </tr>\n",
       "  </tbody>\n",
       "</table>\n",
       "</div>"
      ],
      "text/plain": [
       "                      civility                name  bachelor_orientation  \\\n",
       "semester year sciper                                                       \n",
       "1        2007 169569  Monsieur   Arévalo Christian                   NaN   \n",
       "              174905  Monsieur     Aubelle Flavien                   NaN   \n",
       "              173922  Monsieur       Badoud Morgan                   NaN   \n",
       "              179406  Monsieur  Baeriswyl Jonathan                   NaN   \n",
       "              179428  Monsieur     Barroco Michael                   NaN   \n",
       "\n",
       "                      master_orientation  specialisation optional_spec  minor  \\\n",
       "semester year sciper                                                            \n",
       "1        2007 169569                 NaN             NaN           NaN    NaN   \n",
       "              174905                 NaN             NaN           NaN    NaN   \n",
       "              173922                 NaN             NaN           NaN    NaN   \n",
       "              179406                 NaN             NaN           NaN    NaN   \n",
       "              179428                 NaN             NaN           NaN    NaN   \n",
       "\n",
       "                       status exchange_type exchange_school  sciper  year  \\\n",
       "semester year sciper                                                        \n",
       "1        2007 169569  Présent           NaN             NaN  169569  2007   \n",
       "              174905  Présent           NaN             NaN  174905  2007   \n",
       "              173922  Présent           NaN             NaN  173922  2007   \n",
       "              179406  Présent           NaN             NaN  179406  2007   \n",
       "              179428  Présent           NaN             NaN  179428  2007   \n",
       "\n",
       "                      semester  \n",
       "semester year sciper            \n",
       "1        2007 169569         1  \n",
       "              174905         1  \n",
       "              173922         1  \n",
       "              179406         1  \n",
       "              179428         1  "
      ]
     },
     "execution_count": 886,
     "metadata": {},
     "output_type": "execute_result"
    }
   ],
   "source": [
    "bStudents.head()"
   ]
  },
  {
   "cell_type": "markdown",
   "metadata": {
    "collapsed": true
   },
   "source": [
    "With this very nice table, we still need the keep the students present in semester 1 and semester 6 only (and also filter out the columns we don't need)."
   ]
  },
  {
   "cell_type": "code",
   "execution_count": 898,
   "metadata": {
    "collapsed": false
   },
   "outputs": [
    {
     "data": {
      "text/html": [
       "<div>\n",
       "<table border=\"1\" class=\"dataframe\">\n",
       "  <thead>\n",
       "    <tr style=\"text-align: right;\">\n",
       "      <th></th>\n",
       "      <th>civility</th>\n",
       "      <th>year_S1</th>\n",
       "      <th>year_S6</th>\n",
       "      <th>ydiff</th>\n",
       "    </tr>\n",
       "    <tr>\n",
       "      <th>sciper</th>\n",
       "      <th></th>\n",
       "      <th></th>\n",
       "      <th></th>\n",
       "      <th></th>\n",
       "    </tr>\n",
       "  </thead>\n",
       "  <tbody>\n",
       "    <tr>\n",
       "      <th>147008</th>\n",
       "      <td>Monsieur</td>\n",
       "      <td>2008</td>\n",
       "      <td>2011</td>\n",
       "      <td>3</td>\n",
       "    </tr>\n",
       "    <tr>\n",
       "      <th>169569</th>\n",
       "      <td>Monsieur</td>\n",
       "      <td>2007</td>\n",
       "      <td>2010</td>\n",
       "      <td>3</td>\n",
       "    </tr>\n",
       "    <tr>\n",
       "      <th>169731</th>\n",
       "      <td>Monsieur</td>\n",
       "      <td>2007</td>\n",
       "      <td>2011</td>\n",
       "      <td>4</td>\n",
       "    </tr>\n",
       "    <tr>\n",
       "      <th>169795</th>\n",
       "      <td>Monsieur</td>\n",
       "      <td>2007</td>\n",
       "      <td>2011</td>\n",
       "      <td>4</td>\n",
       "    </tr>\n",
       "    <tr>\n",
       "      <th>171195</th>\n",
       "      <td>Monsieur</td>\n",
       "      <td>2007</td>\n",
       "      <td>2010</td>\n",
       "      <td>3</td>\n",
       "    </tr>\n",
       "  </tbody>\n",
       "</table>\n",
       "</div>"
      ],
      "text/plain": [
       "        civility  year_S1  year_S6  ydiff\n",
       "sciper                                   \n",
       "147008  Monsieur     2008     2011      3\n",
       "169569  Monsieur     2007     2010      3\n",
       "169731  Monsieur     2007     2011      4\n",
       "169795  Monsieur     2007     2011      4\n",
       "171195  Monsieur     2007     2010      3"
      ]
     },
     "execution_count": 898,
     "metadata": {},
     "output_type": "execute_result"
    }
   ],
   "source": [
    "bStudentsS1toS6 = pd.merge(bStudents.loc[1], bStudents.loc[6], how='inner', on=['civility', 'name', 'sciper'], suffixes=('_S1', '_S6'))\n",
    "bStudentsS1toS6 = bStudentsS1toS6[['civility', 'sciper', 'year_S1', 'year_S6']] #only retain the important fields\n",
    "\n",
    "bStudentsS1toS6['year_S6'] += 1 #we do this because the last year is not the graduation year, but when it started (2015-2016 = 2015)\n",
    "bStudentsS1toS6['ydiff'] = bStudentsS1toS6['year_S6'] - bStudentsS1toS6['year_S1']\n",
    "\n",
    "bStudentsS1toS6 = bStudentsS1toS6.groupby('sciper', group_keys=False).apply(lambda x: x.ix[x.ydiff.idxmax()])\n",
    "bStudentsS1toS6.set_index('sciper', inplace=True)\n",
    "bStudentsS1toS6.head()"
   ]
  },
  {
   "cell_type": "markdown",
   "metadata": {},
   "source": [
    "Quick check before proceeding"
   ]
  },
  {
   "cell_type": "code",
   "execution_count": 899,
   "metadata": {
    "collapsed": false
   },
   "outputs": [
    {
     "data": {
      "text/plain": [
       "True"
      ]
     },
     "execution_count": 899,
     "metadata": {},
     "output_type": "execute_result"
    }
   ],
   "source": [
    "bStudentsS1toS6.index.is_unique"
   ]
  },
  {
   "cell_type": "markdown",
   "metadata": {},
   "source": [
    "Before going further, we will modify the dataframe a bit to simplify the processing of genders"
   ]
  },
  {
   "cell_type": "code",
   "execution_count": 900,
   "metadata": {
    "collapsed": false
   },
   "outputs": [],
   "source": [
    "gender_map = {\"Monsieur\": 0, \"Madame\": 1}\n",
    "bStudentsS1toS6['civility'] = bStudentsS1toS6['civility'].map(gender_map)"
   ]
  },
  {
   "cell_type": "markdown",
   "metadata": {},
   "source": [
    "As a first approach, we use the 'describe' methods of pandas on the ydiff field"
   ]
  },
  {
   "cell_type": "code",
   "execution_count": 901,
   "metadata": {
    "collapsed": false
   },
   "outputs": [
    {
     "data": {
      "text/plain": [
       "count    397.000000\n",
       "mean       3.468514\n",
       "std        0.733155\n",
       "min        3.000000\n",
       "25%        3.000000\n",
       "50%        3.000000\n",
       "75%        4.000000\n",
       "max        7.000000\n",
       "Name: ydiff, dtype: float64"
      ]
     },
     "execution_count": 901,
     "metadata": {},
     "output_type": "execute_result"
    }
   ],
   "source": [
    "bStudentsS1toS6['ydiff'].describe()"
   ]
  },
  {
   "cell_type": "markdown",
   "metadata": {},
   "source": [
    "Ignoring the count (which is meaningless in this case) and the min (since you can't get the bachelor in less than 3 years), we observe quite a low mean and std, but these should not be over considered since they are weak against outliers. \n",
    "But the quantiles give us nice informations, more than 50% of students graduated in 3 years (which is the minimum) and 75% in 4 years!\n",
    "Then the maximum is 7, that is uncommon since you have 6 years to graduate.\n",
    "Let's find out how many people are in this case"
   ]
  },
  {
   "cell_type": "code",
   "execution_count": 902,
   "metadata": {
    "collapsed": false
   },
   "outputs": [
    {
     "data": {
      "text/html": [
       "<div>\n",
       "<table border=\"1\" class=\"dataframe\">\n",
       "  <thead>\n",
       "    <tr style=\"text-align: right;\">\n",
       "      <th></th>\n",
       "      <th>civility</th>\n",
       "      <th>year_S1</th>\n",
       "      <th>year_S6</th>\n",
       "      <th>ydiff</th>\n",
       "    </tr>\n",
       "    <tr>\n",
       "      <th>sciper</th>\n",
       "      <th></th>\n",
       "      <th></th>\n",
       "      <th></th>\n",
       "      <th></th>\n",
       "    </tr>\n",
       "  </thead>\n",
       "  <tbody>\n",
       "    <tr>\n",
       "      <th>196034</th>\n",
       "      <td>0</td>\n",
       "      <td>2009</td>\n",
       "      <td>2016</td>\n",
       "      <td>7</td>\n",
       "    </tr>\n",
       "  </tbody>\n",
       "</table>\n",
       "</div>"
      ],
      "text/plain": [
       "        civility  year_S1  year_S6  ydiff\n",
       "sciper                                   \n",
       "196034         0     2009     2016      7"
      ]
     },
     "execution_count": 902,
     "metadata": {},
     "output_type": "execute_result"
    }
   ],
   "source": [
    "bStudentsS1toS6[bStudentsS1toS6.ydiff == 7]"
   ]
  },
  {
   "cell_type": "markdown",
   "metadata": {},
   "source": [
    "As only one person is concerned, we can then assume that this dude had some special treatment."
   ]
  },
  {
   "cell_type": "markdown",
   "metadata": {},
   "source": [
    "Now that we are certain that our dataset is well formed, we can start to analyze it properly.\n",
    "We begin by grouping the students by their graduation time."
   ]
  },
  {
   "cell_type": "code",
   "execution_count": 903,
   "metadata": {
    "collapsed": false
   },
   "outputs": [
    {
     "data": {
      "text/plain": [
       "ydiff\n",
       "3    259\n",
       "4     98\n",
       "5     33\n",
       "6      6\n",
       "7      1\n",
       "dtype: int64"
      ]
     },
     "execution_count": 903,
     "metadata": {},
     "output_type": "execute_result"
    },
    {
     "data": {
      "image/png": "[encoded data removed]",
      "text/plain": [
       "<matplotlib.figure.Figure at 0x1f5cecf8>"
      ]
     },
     "metadata": {},
     "output_type": "display_data"
    }
   ],
   "source": [
    "bStudentsS1toS6_grp = bStudentsS1toS6.groupby(bStudentsS1toS6.ydiff)\n",
    "bStudentsS1toS6_grp.size().plot.bar()\n",
    "bStudentsS1toS6_grp.size()"
   ]
  },
  {
   "cell_type": "markdown",
   "metadata": {},
   "source": [
    "We don't see many more things than what the 'described()' function showed, only the large amount of people having graduated in the minimal time."
   ]
  },
  {
   "cell_type": "markdown",
   "metadata": {},
   "source": [
    "The next step is to split the students by their gender."
   ]
  },
  {
   "cell_type": "code",
   "execution_count": 905,
   "metadata": {
    "collapsed": false
   },
   "outputs": [
    {
     "data": {
      "text/html": [
       "<div>\n",
       "<table border=\"1\" class=\"dataframe\">\n",
       "  <thead>\n",
       "    <tr style=\"text-align: right;\">\n",
       "      <th></th>\n",
       "      <th></th>\n",
       "      <th>ydiff</th>\n",
       "      <th>year_S1</th>\n",
       "      <th>year_S6</th>\n",
       "    </tr>\n",
       "    <tr>\n",
       "      <th>civility</th>\n",
       "      <th></th>\n",
       "      <th></th>\n",
       "      <th></th>\n",
       "      <th></th>\n",
       "    </tr>\n",
       "  </thead>\n",
       "  <tbody>\n",
       "    <tr>\n",
       "      <th rowspan=\"8\" valign=\"top\">0</th>\n",
       "      <th>count</th>\n",
       "      <td>368.000000</td>\n",
       "      <td>368.000000</td>\n",
       "      <td>368.000000</td>\n",
       "    </tr>\n",
       "    <tr>\n",
       "      <th>mean</th>\n",
       "      <td>3.480978</td>\n",
       "      <td>2010.475543</td>\n",
       "      <td>2013.956522</td>\n",
       "    </tr>\n",
       "    <tr>\n",
       "      <th>std</th>\n",
       "      <td>0.745316</td>\n",
       "      <td>2.029604</td>\n",
       "      <td>2.017164</td>\n",
       "    </tr>\n",
       "    <tr>\n",
       "      <th>min</th>\n",
       "      <td>3.000000</td>\n",
       "      <td>2007.000000</td>\n",
       "      <td>2010.000000</td>\n",
       "    </tr>\n",
       "    <tr>\n",
       "      <th>25%</th>\n",
       "      <td>3.000000</td>\n",
       "      <td>2009.000000</td>\n",
       "      <td>2012.750000</td>\n",
       "    </tr>\n",
       "    <tr>\n",
       "      <th>50%</th>\n",
       "      <td>3.000000</td>\n",
       "      <td>2011.000000</td>\n",
       "      <td>2014.000000</td>\n",
       "    </tr>\n",
       "    <tr>\n",
       "      <th>75%</th>\n",
       "      <td>4.000000</td>\n",
       "      <td>2012.000000</td>\n",
       "      <td>2016.000000</td>\n",
       "    </tr>\n",
       "    <tr>\n",
       "      <th>max</th>\n",
       "      <td>7.000000</td>\n",
       "      <td>2014.000000</td>\n",
       "      <td>2017.000000</td>\n",
       "    </tr>\n",
       "    <tr>\n",
       "      <th rowspan=\"8\" valign=\"top\">1</th>\n",
       "      <th>count</th>\n",
       "      <td>29.000000</td>\n",
       "      <td>29.000000</td>\n",
       "      <td>29.000000</td>\n",
       "    </tr>\n",
       "    <tr>\n",
       "      <th>mean</th>\n",
       "      <td>3.310345</td>\n",
       "      <td>2010.620690</td>\n",
       "      <td>2013.931034</td>\n",
       "    </tr>\n",
       "    <tr>\n",
       "      <th>std</th>\n",
       "      <td>0.541390</td>\n",
       "      <td>2.060059</td>\n",
       "      <td>2.170106</td>\n",
       "    </tr>\n",
       "    <tr>\n",
       "      <th>min</th>\n",
       "      <td>3.000000</td>\n",
       "      <td>2007.000000</td>\n",
       "      <td>2010.000000</td>\n",
       "    </tr>\n",
       "    <tr>\n",
       "      <th>25%</th>\n",
       "      <td>3.000000</td>\n",
       "      <td>2009.000000</td>\n",
       "      <td>2012.000000</td>\n",
       "    </tr>\n",
       "    <tr>\n",
       "      <th>50%</th>\n",
       "      <td>3.000000</td>\n",
       "      <td>2011.000000</td>\n",
       "      <td>2014.000000</td>\n",
       "    </tr>\n",
       "    <tr>\n",
       "      <th>75%</th>\n",
       "      <td>4.000000</td>\n",
       "      <td>2012.000000</td>\n",
       "      <td>2016.000000</td>\n",
       "    </tr>\n",
       "    <tr>\n",
       "      <th>max</th>\n",
       "      <td>5.000000</td>\n",
       "      <td>2014.000000</td>\n",
       "      <td>2017.000000</td>\n",
       "    </tr>\n",
       "  </tbody>\n",
       "</table>\n",
       "</div>"
      ],
      "text/plain": [
       "                     ydiff      year_S1      year_S6\n",
       "civility                                            \n",
       "0        count  368.000000   368.000000   368.000000\n",
       "         mean     3.480978  2010.475543  2013.956522\n",
       "         std      0.745316     2.029604     2.017164\n",
       "         min      3.000000  2007.000000  2010.000000\n",
       "         25%      3.000000  2009.000000  2012.750000\n",
       "         50%      3.000000  2011.000000  2014.000000\n",
       "         75%      4.000000  2012.000000  2016.000000\n",
       "         max      7.000000  2014.000000  2017.000000\n",
       "1        count   29.000000    29.000000    29.000000\n",
       "         mean     3.310345  2010.620690  2013.931034\n",
       "         std      0.541390     2.060059     2.170106\n",
       "         min      3.000000  2007.000000  2010.000000\n",
       "         25%      3.000000  2009.000000  2012.000000\n",
       "         50%      3.000000  2011.000000  2014.000000\n",
       "         75%      4.000000  2012.000000  2016.000000\n",
       "         max      5.000000  2014.000000  2017.000000"
      ]
     },
     "execution_count": 905,
     "metadata": {},
     "output_type": "execute_result"
    }
   ],
   "source": [
    "bStudentsByGender = bStudentsS1toS6.groupby(bStudentsS1toS6.civility)\n",
    "bStudentsByGender.describe()"
   ]
  },
  {
   "cell_type": "markdown",
   "metadata": {},
   "source": [
    "Nothing significant to report here, only that most of the graduated students are men (368 against 29)."
   ]
  },
  {
   "cell_type": "code",
   "execution_count": 906,
   "metadata": {
    "collapsed": false
   },
   "outputs": [
    {
     "name": "stdout",
     "output_type": "stream",
     "text": [
      "Mean:\n",
      "civility\n",
      "0    3.480978\n",
      "1    3.310345\n",
      "Name: ydiff, dtype: float64\n",
      "STD:\n",
      "civility\n",
      "0    0.745316\n",
      "1    0.541390\n",
      "Name: ydiff, dtype: float64\n"
     ]
    },
    {
     "data": {
      "image/png": "[encoded data removed]",
      "text/plain": [
       "<matplotlib.figure.Figure at 0x23a3bc18>"
      ]
     },
     "metadata": {},
     "output_type": "display_data"
    }
   ],
   "source": [
    "bStudentsByGender['ydiff'].mean().plot.bar()\n",
    "print(\"Mean:\\n\" + str(bStudentsByGender['ydiff'].mean()))\n",
    "print(\"STD:\\n\" + str(bStudentsByGender['ydiff'].std()))"
   ]
  },
  {
   "cell_type": "markdown",
   "metadata": {},
   "source": [
    "There is no significant difference here, only that female students are a bit better and more uniformly distributed, but the size of the sample is too low to establish conclusions."
   ]
  },
  {
   "cell_type": "code",
   "execution_count": null,
   "metadata": {
    "collapsed": true
   },
   "outputs": [],
   "source": []
  },
  {
   "cell_type": "code",
   "execution_count": null,
   "metadata": {
    "collapsed": true
   },
   "outputs": [],
   "source": []
  },
  {
   "cell_type": "code",
   "execution_count": null,
   "metadata": {
    "collapsed": true
   },
   "outputs": [],
   "source": []
  },
  {
   "cell_type": "code",
   "execution_count": null,
   "metadata": {
    "collapsed": true
   },
   "outputs": [],
   "source": []
  },
  {
   "cell_type": "code",
   "execution_count": null,
   "metadata": {
    "collapsed": true
   },
   "outputs": [],
   "source": []
  },
  {
   "cell_type": "code",
   "execution_count": null,
   "metadata": {
    "collapsed": true
   },
   "outputs": [],
   "source": []
  },
  {
   "cell_type": "code",
   "execution_count": null,
   "metadata": {
    "collapsed": true
   },
   "outputs": [],
   "source": []
  },
  {
   "cell_type": "code",
   "execution_count": null,
   "metadata": {
    "collapsed": true
   },
   "outputs": [],
   "source": []
  },
  {
   "cell_type": "code",
   "execution_count": null,
   "metadata": {
    "collapsed": true
   },
   "outputs": [],
   "source": []
  },
  {
   "cell_type": "code",
   "execution_count": null,
   "metadata": {
    "collapsed": true
   },
   "outputs": [],
   "source": []
  }
 ],
 "metadata": {
  "anaconda-cloud": {},
  "celltoolbar": "Raw Cell Format",
  "kernelspec": {
   "display_name": "Python [conda root]",
   "language": "python",
   "name": "conda-root-py"
  },
  "language_info": {
   "codemirror_mode": {
    "name": "ipython",
    "version": 3
   },
   "file_extension": ".py",
   "mimetype": "text/x-python",
   "name": "python",
   "nbconvert_exporter": "python",
   "pygments_lexer": "ipython3",
   "version": "3.5.2"
  }
 },
 "nbformat": 4,
 "nbformat_minor": 1
}
